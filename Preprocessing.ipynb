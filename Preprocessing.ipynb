{
 "cells": [
  {
   "cell_type": "markdown",
   "metadata": {},
   "source": [
    "### Data preprocessing"
   ]
  },
  {
   "cell_type": "code",
   "execution_count": 43,
   "metadata": {},
   "outputs": [],
   "source": [
    "import numpy as np \n",
    "import pandas as pd\n",
    "import warnings\n",
    "warnings.filterwarnings(\"ignore\")\n"
   ]
  },
  {
   "cell_type": "code",
   "execution_count": 2,
   "metadata": {},
   "outputs": [],
   "source": [
    "movies = pd.read_csv('data/tmdb_6000_movies.csv')\n",
    "credits = pd.read_csv('data/tmdb_6000_credits.csv')"
   ]
  },
  {
   "cell_type": "code",
   "execution_count": 3,
   "metadata": {},
   "outputs": [
    {
     "data": {
      "text/html": [
       "<div>\n",
       "<style scoped>\n",
       "    .dataframe tbody tr th:only-of-type {\n",
       "        vertical-align: middle;\n",
       "    }\n",
       "\n",
       "    .dataframe tbody tr th {\n",
       "        vertical-align: top;\n",
       "    }\n",
       "\n",
       "    .dataframe thead th {\n",
       "        text-align: right;\n",
       "    }\n",
       "</style>\n",
       "<table border=\"1\" class=\"dataframe\">\n",
       "  <thead>\n",
       "    <tr style=\"text-align: right;\">\n",
       "      <th></th>\n",
       "      <th>budget</th>\n",
       "      <th>genres</th>\n",
       "      <th>homepage</th>\n",
       "      <th>id</th>\n",
       "      <th>keywords</th>\n",
       "      <th>original_language</th>\n",
       "      <th>original_title</th>\n",
       "      <th>overview</th>\n",
       "      <th>popularity</th>\n",
       "      <th>production_companies</th>\n",
       "      <th>production_countries</th>\n",
       "      <th>release_date</th>\n",
       "      <th>revenue</th>\n",
       "      <th>runtime</th>\n",
       "      <th>spoken_languages</th>\n",
       "      <th>status</th>\n",
       "      <th>tagline</th>\n",
       "      <th>title</th>\n",
       "      <th>vote_average</th>\n",
       "      <th>vote_count</th>\n",
       "    </tr>\n",
       "  </thead>\n",
       "  <tbody>\n",
       "    <tr>\n",
       "      <th>0</th>\n",
       "      <td>237000000</td>\n",
       "      <td>[{\"id\": 28, \"name\": \"Action\"}, {\"id\": 12, \"nam...</td>\n",
       "      <td>http://www.avatarmovie.com/</td>\n",
       "      <td>19995</td>\n",
       "      <td>[{'id': 1463, 'name': 'culture clash'}, {'id':...</td>\n",
       "      <td>en</td>\n",
       "      <td>Avatar</td>\n",
       "      <td>In the 22nd century, a paraplegic Marine is di...</td>\n",
       "      <td>150.437577</td>\n",
       "      <td>[{\"name\": \"Ingenious Film Partners\", \"id\": 289...</td>\n",
       "      <td>[{\"iso_3166_1\": \"US\", \"name\": \"United States o...</td>\n",
       "      <td>2009-12-10</td>\n",
       "      <td>2787965087</td>\n",
       "      <td>162.0</td>\n",
       "      <td>[{\"iso_639_1\": \"en\", \"name\": \"English\"}, {\"iso...</td>\n",
       "      <td>Released</td>\n",
       "      <td>Enter the World of Pandora.</td>\n",
       "      <td>Avatar</td>\n",
       "      <td>7.2</td>\n",
       "      <td>11800</td>\n",
       "    </tr>\n",
       "    <tr>\n",
       "      <th>1</th>\n",
       "      <td>300000000</td>\n",
       "      <td>[{\"id\": 12, \"name\": \"Adventure\"}, {\"id\": 14, \"...</td>\n",
       "      <td>http://disney.go.com/disneypictures/pirates/</td>\n",
       "      <td>285</td>\n",
       "      <td>[{'id': 270, 'name': 'ocean'}, {'id': 726, 'na...</td>\n",
       "      <td>en</td>\n",
       "      <td>Pirates of the Caribbean: At World's End</td>\n",
       "      <td>Captain Barbossa, long believed to be dead, ha...</td>\n",
       "      <td>139.082615</td>\n",
       "      <td>[{\"name\": \"Walt Disney Pictures\", \"id\": 2}, {\"...</td>\n",
       "      <td>[{\"iso_3166_1\": \"US\", \"name\": \"United States o...</td>\n",
       "      <td>2007-05-19</td>\n",
       "      <td>961000000</td>\n",
       "      <td>169.0</td>\n",
       "      <td>[{\"iso_639_1\": \"en\", \"name\": \"English\"}]</td>\n",
       "      <td>Released</td>\n",
       "      <td>At the end of the world, the adventure begins.</td>\n",
       "      <td>Pirates of the Caribbean: At World's End</td>\n",
       "      <td>6.9</td>\n",
       "      <td>4500</td>\n",
       "    </tr>\n",
       "  </tbody>\n",
       "</table>\n",
       "</div>"
      ],
      "text/plain": [
       "      budget                                             genres  \\\n",
       "0  237000000  [{\"id\": 28, \"name\": \"Action\"}, {\"id\": 12, \"nam...   \n",
       "1  300000000  [{\"id\": 12, \"name\": \"Adventure\"}, {\"id\": 14, \"...   \n",
       "\n",
       "                                       homepage     id  \\\n",
       "0                   http://www.avatarmovie.com/  19995   \n",
       "1  http://disney.go.com/disneypictures/pirates/    285   \n",
       "\n",
       "                                            keywords original_language  \\\n",
       "0  [{'id': 1463, 'name': 'culture clash'}, {'id':...                en   \n",
       "1  [{'id': 270, 'name': 'ocean'}, {'id': 726, 'na...                en   \n",
       "\n",
       "                             original_title  \\\n",
       "0                                    Avatar   \n",
       "1  Pirates of the Caribbean: At World's End   \n",
       "\n",
       "                                            overview  popularity  \\\n",
       "0  In the 22nd century, a paraplegic Marine is di...  150.437577   \n",
       "1  Captain Barbossa, long believed to be dead, ha...  139.082615   \n",
       "\n",
       "                                production_companies  \\\n",
       "0  [{\"name\": \"Ingenious Film Partners\", \"id\": 289...   \n",
       "1  [{\"name\": \"Walt Disney Pictures\", \"id\": 2}, {\"...   \n",
       "\n",
       "                                production_countries release_date     revenue  \\\n",
       "0  [{\"iso_3166_1\": \"US\", \"name\": \"United States o...   2009-12-10  2787965087   \n",
       "1  [{\"iso_3166_1\": \"US\", \"name\": \"United States o...   2007-05-19   961000000   \n",
       "\n",
       "   runtime                                   spoken_languages    status  \\\n",
       "0    162.0  [{\"iso_639_1\": \"en\", \"name\": \"English\"}, {\"iso...  Released   \n",
       "1    169.0           [{\"iso_639_1\": \"en\", \"name\": \"English\"}]  Released   \n",
       "\n",
       "                                          tagline  \\\n",
       "0                     Enter the World of Pandora.   \n",
       "1  At the end of the world, the adventure begins.   \n",
       "\n",
       "                                      title  vote_average  vote_count  \n",
       "0                                    Avatar           7.2       11800  \n",
       "1  Pirates of the Caribbean: At World's End           6.9        4500  "
      ]
     },
     "execution_count": 3,
     "metadata": {},
     "output_type": "execute_result"
    }
   ],
   "source": [
    "movies.head(2)"
   ]
  },
  {
   "cell_type": "code",
   "execution_count": 4,
   "metadata": {},
   "outputs": [
    {
     "data": {
      "text/plain": [
       "(5798, 20)"
      ]
     },
     "execution_count": 4,
     "metadata": {},
     "output_type": "execute_result"
    }
   ],
   "source": [
    "movies.shape"
   ]
  },
  {
   "cell_type": "code",
   "execution_count": 5,
   "metadata": {},
   "outputs": [
    {
     "data": {
      "text/html": [
       "<div>\n",
       "<style scoped>\n",
       "    .dataframe tbody tr th:only-of-type {\n",
       "        vertical-align: middle;\n",
       "    }\n",
       "\n",
       "    .dataframe tbody tr th {\n",
       "        vertical-align: top;\n",
       "    }\n",
       "\n",
       "    .dataframe thead th {\n",
       "        text-align: right;\n",
       "    }\n",
       "</style>\n",
       "<table border=\"1\" class=\"dataframe\">\n",
       "  <thead>\n",
       "    <tr style=\"text-align: right;\">\n",
       "      <th></th>\n",
       "      <th>id</th>\n",
       "      <th>cast</th>\n",
       "      <th>crew</th>\n",
       "    </tr>\n",
       "  </thead>\n",
       "  <tbody>\n",
       "    <tr>\n",
       "      <th>0</th>\n",
       "      <td>19995</td>\n",
       "      <td>[{\"cast_id\": 242, \"character\": \"Jake Sully\", \"...</td>\n",
       "      <td>[{\"credit_id\": \"52fe48009251416c750aca23\", \"de...</td>\n",
       "    </tr>\n",
       "    <tr>\n",
       "      <th>1</th>\n",
       "      <td>285</td>\n",
       "      <td>[{\"cast_id\": 4, \"character\": \"Captain Jack Spa...</td>\n",
       "      <td>[{\"credit_id\": \"52fe4232c3a36847f800b579\", \"de...</td>\n",
       "    </tr>\n",
       "    <tr>\n",
       "      <th>2</th>\n",
       "      <td>206647</td>\n",
       "      <td>[{\"cast_id\": 1, \"character\": \"James Bond\", \"cr...</td>\n",
       "      <td>[{\"credit_id\": \"54805967c3a36829b5002c41\", \"de...</td>\n",
       "    </tr>\n",
       "    <tr>\n",
       "      <th>3</th>\n",
       "      <td>49026</td>\n",
       "      <td>[{\"cast_id\": 2, \"character\": \"Bruce Wayne / Ba...</td>\n",
       "      <td>[{\"credit_id\": \"52fe4781c3a36847f81398c3\", \"de...</td>\n",
       "    </tr>\n",
       "    <tr>\n",
       "      <th>4</th>\n",
       "      <td>49529</td>\n",
       "      <td>[{\"cast_id\": 5, \"character\": \"John Carter\", \"c...</td>\n",
       "      <td>[{\"credit_id\": \"52fe479ac3a36847f813eaa3\", \"de...</td>\n",
       "    </tr>\n",
       "  </tbody>\n",
       "</table>\n",
       "</div>"
      ],
      "text/plain": [
       "       id                                               cast  \\\n",
       "0   19995  [{\"cast_id\": 242, \"character\": \"Jake Sully\", \"...   \n",
       "1     285  [{\"cast_id\": 4, \"character\": \"Captain Jack Spa...   \n",
       "2  206647  [{\"cast_id\": 1, \"character\": \"James Bond\", \"cr...   \n",
       "3   49026  [{\"cast_id\": 2, \"character\": \"Bruce Wayne / Ba...   \n",
       "4   49529  [{\"cast_id\": 5, \"character\": \"John Carter\", \"c...   \n",
       "\n",
       "                                                crew  \n",
       "0  [{\"credit_id\": \"52fe48009251416c750aca23\", \"de...  \n",
       "1  [{\"credit_id\": \"52fe4232c3a36847f800b579\", \"de...  \n",
       "2  [{\"credit_id\": \"54805967c3a36829b5002c41\", \"de...  \n",
       "3  [{\"credit_id\": \"52fe4781c3a36847f81398c3\", \"de...  \n",
       "4  [{\"credit_id\": \"52fe479ac3a36847f813eaa3\", \"de...  "
      ]
     },
     "execution_count": 5,
     "metadata": {},
     "output_type": "execute_result"
    }
   ],
   "source": [
    "credits.head()"
   ]
  },
  {
   "cell_type": "code",
   "execution_count": 6,
   "metadata": {},
   "outputs": [
    {
     "data": {
      "text/plain": [
       "(5798, 3)"
      ]
     },
     "execution_count": 6,
     "metadata": {},
     "output_type": "execute_result"
    }
   ],
   "source": [
    "credits.shape"
   ]
  },
  {
   "cell_type": "code",
   "execution_count": 7,
   "metadata": {},
   "outputs": [],
   "source": [
    "movies = movies.merge(credits,on='id')"
   ]
  },
  {
   "cell_type": "code",
   "execution_count": 8,
   "metadata": {},
   "outputs": [
    {
     "data": {
      "text/html": [
       "<div>\n",
       "<style scoped>\n",
       "    .dataframe tbody tr th:only-of-type {\n",
       "        vertical-align: middle;\n",
       "    }\n",
       "\n",
       "    .dataframe tbody tr th {\n",
       "        vertical-align: top;\n",
       "    }\n",
       "\n",
       "    .dataframe thead th {\n",
       "        text-align: right;\n",
       "    }\n",
       "</style>\n",
       "<table border=\"1\" class=\"dataframe\">\n",
       "  <thead>\n",
       "    <tr style=\"text-align: right;\">\n",
       "      <th></th>\n",
       "      <th>budget</th>\n",
       "      <th>genres</th>\n",
       "      <th>homepage</th>\n",
       "      <th>id</th>\n",
       "      <th>keywords</th>\n",
       "      <th>original_language</th>\n",
       "      <th>original_title</th>\n",
       "      <th>overview</th>\n",
       "      <th>popularity</th>\n",
       "      <th>production_companies</th>\n",
       "      <th>...</th>\n",
       "      <th>revenue</th>\n",
       "      <th>runtime</th>\n",
       "      <th>spoken_languages</th>\n",
       "      <th>status</th>\n",
       "      <th>tagline</th>\n",
       "      <th>title</th>\n",
       "      <th>vote_average</th>\n",
       "      <th>vote_count</th>\n",
       "      <th>cast</th>\n",
       "      <th>crew</th>\n",
       "    </tr>\n",
       "  </thead>\n",
       "  <tbody>\n",
       "    <tr>\n",
       "      <th>0</th>\n",
       "      <td>237000000</td>\n",
       "      <td>[{\"id\": 28, \"name\": \"Action\"}, {\"id\": 12, \"nam...</td>\n",
       "      <td>http://www.avatarmovie.com/</td>\n",
       "      <td>19995</td>\n",
       "      <td>[{'id': 1463, 'name': 'culture clash'}, {'id':...</td>\n",
       "      <td>en</td>\n",
       "      <td>Avatar</td>\n",
       "      <td>In the 22nd century, a paraplegic Marine is di...</td>\n",
       "      <td>150.437577</td>\n",
       "      <td>[{\"name\": \"Ingenious Film Partners\", \"id\": 289...</td>\n",
       "      <td>...</td>\n",
       "      <td>2787965087</td>\n",
       "      <td>162.0</td>\n",
       "      <td>[{\"iso_639_1\": \"en\", \"name\": \"English\"}, {\"iso...</td>\n",
       "      <td>Released</td>\n",
       "      <td>Enter the World of Pandora.</td>\n",
       "      <td>Avatar</td>\n",
       "      <td>7.2</td>\n",
       "      <td>11800</td>\n",
       "      <td>[{\"cast_id\": 242, \"character\": \"Jake Sully\", \"...</td>\n",
       "      <td>[{\"credit_id\": \"52fe48009251416c750aca23\", \"de...</td>\n",
       "    </tr>\n",
       "    <tr>\n",
       "      <th>1</th>\n",
       "      <td>300000000</td>\n",
       "      <td>[{\"id\": 12, \"name\": \"Adventure\"}, {\"id\": 14, \"...</td>\n",
       "      <td>http://disney.go.com/disneypictures/pirates/</td>\n",
       "      <td>285</td>\n",
       "      <td>[{'id': 270, 'name': 'ocean'}, {'id': 726, 'na...</td>\n",
       "      <td>en</td>\n",
       "      <td>Pirates of the Caribbean: At World's End</td>\n",
       "      <td>Captain Barbossa, long believed to be dead, ha...</td>\n",
       "      <td>139.082615</td>\n",
       "      <td>[{\"name\": \"Walt Disney Pictures\", \"id\": 2}, {\"...</td>\n",
       "      <td>...</td>\n",
       "      <td>961000000</td>\n",
       "      <td>169.0</td>\n",
       "      <td>[{\"iso_639_1\": \"en\", \"name\": \"English\"}]</td>\n",
       "      <td>Released</td>\n",
       "      <td>At the end of the world, the adventure begins.</td>\n",
       "      <td>Pirates of the Caribbean: At World's End</td>\n",
       "      <td>6.9</td>\n",
       "      <td>4500</td>\n",
       "      <td>[{\"cast_id\": 4, \"character\": \"Captain Jack Spa...</td>\n",
       "      <td>[{\"credit_id\": \"52fe4232c3a36847f800b579\", \"de...</td>\n",
       "    </tr>\n",
       "  </tbody>\n",
       "</table>\n",
       "<p>2 rows × 22 columns</p>\n",
       "</div>"
      ],
      "text/plain": [
       "      budget                                             genres  \\\n",
       "0  237000000  [{\"id\": 28, \"name\": \"Action\"}, {\"id\": 12, \"nam...   \n",
       "1  300000000  [{\"id\": 12, \"name\": \"Adventure\"}, {\"id\": 14, \"...   \n",
       "\n",
       "                                       homepage     id  \\\n",
       "0                   http://www.avatarmovie.com/  19995   \n",
       "1  http://disney.go.com/disneypictures/pirates/    285   \n",
       "\n",
       "                                            keywords original_language  \\\n",
       "0  [{'id': 1463, 'name': 'culture clash'}, {'id':...                en   \n",
       "1  [{'id': 270, 'name': 'ocean'}, {'id': 726, 'na...                en   \n",
       "\n",
       "                             original_title  \\\n",
       "0                                    Avatar   \n",
       "1  Pirates of the Caribbean: At World's End   \n",
       "\n",
       "                                            overview  popularity  \\\n",
       "0  In the 22nd century, a paraplegic Marine is di...  150.437577   \n",
       "1  Captain Barbossa, long believed to be dead, ha...  139.082615   \n",
       "\n",
       "                                production_companies  ...     revenue runtime  \\\n",
       "0  [{\"name\": \"Ingenious Film Partners\", \"id\": 289...  ...  2787965087   162.0   \n",
       "1  [{\"name\": \"Walt Disney Pictures\", \"id\": 2}, {\"...  ...   961000000   169.0   \n",
       "\n",
       "                                    spoken_languages    status  \\\n",
       "0  [{\"iso_639_1\": \"en\", \"name\": \"English\"}, {\"iso...  Released   \n",
       "1           [{\"iso_639_1\": \"en\", \"name\": \"English\"}]  Released   \n",
       "\n",
       "                                          tagline  \\\n",
       "0                     Enter the World of Pandora.   \n",
       "1  At the end of the world, the adventure begins.   \n",
       "\n",
       "                                      title vote_average vote_count  \\\n",
       "0                                    Avatar          7.2      11800   \n",
       "1  Pirates of the Caribbean: At World's End          6.9       4500   \n",
       "\n",
       "                                                cast  \\\n",
       "0  [{\"cast_id\": 242, \"character\": \"Jake Sully\", \"...   \n",
       "1  [{\"cast_id\": 4, \"character\": \"Captain Jack Spa...   \n",
       "\n",
       "                                                crew  \n",
       "0  [{\"credit_id\": \"52fe48009251416c750aca23\", \"de...  \n",
       "1  [{\"credit_id\": \"52fe4232c3a36847f800b579\", \"de...  \n",
       "\n",
       "[2 rows x 22 columns]"
      ]
     },
     "execution_count": 8,
     "metadata": {},
     "output_type": "execute_result"
    }
   ],
   "source": [
    "movies.head(2)"
   ]
  },
  {
   "cell_type": "code",
   "execution_count": 9,
   "metadata": {},
   "outputs": [
    {
     "data": {
      "text/plain": [
       "(5798, 22)"
      ]
     },
     "execution_count": 9,
     "metadata": {},
     "output_type": "execute_result"
    }
   ],
   "source": [
    "movies.shape"
   ]
  },
  {
   "cell_type": "code",
   "execution_count": 11,
   "metadata": {},
   "outputs": [],
   "source": [
    "# Keeping important columns for recommendation\n",
    "movies = movies[['id','title','overview','genres','keywords','cast','crew']]"
   ]
  },
  {
   "cell_type": "code",
   "execution_count": 12,
   "metadata": {},
   "outputs": [
    {
     "data": {
      "text/html": [
       "<div>\n",
       "<style scoped>\n",
       "    .dataframe tbody tr th:only-of-type {\n",
       "        vertical-align: middle;\n",
       "    }\n",
       "\n",
       "    .dataframe tbody tr th {\n",
       "        vertical-align: top;\n",
       "    }\n",
       "\n",
       "    .dataframe thead th {\n",
       "        text-align: right;\n",
       "    }\n",
       "</style>\n",
       "<table border=\"1\" class=\"dataframe\">\n",
       "  <thead>\n",
       "    <tr style=\"text-align: right;\">\n",
       "      <th></th>\n",
       "      <th>id</th>\n",
       "      <th>title</th>\n",
       "      <th>overview</th>\n",
       "      <th>genres</th>\n",
       "      <th>keywords</th>\n",
       "      <th>cast</th>\n",
       "      <th>crew</th>\n",
       "    </tr>\n",
       "  </thead>\n",
       "  <tbody>\n",
       "    <tr>\n",
       "      <th>0</th>\n",
       "      <td>19995</td>\n",
       "      <td>Avatar</td>\n",
       "      <td>In the 22nd century, a paraplegic Marine is di...</td>\n",
       "      <td>[{\"id\": 28, \"name\": \"Action\"}, {\"id\": 12, \"nam...</td>\n",
       "      <td>[{'id': 1463, 'name': 'culture clash'}, {'id':...</td>\n",
       "      <td>[{\"cast_id\": 242, \"character\": \"Jake Sully\", \"...</td>\n",
       "      <td>[{\"credit_id\": \"52fe48009251416c750aca23\", \"de...</td>\n",
       "    </tr>\n",
       "    <tr>\n",
       "      <th>1</th>\n",
       "      <td>285</td>\n",
       "      <td>Pirates of the Caribbean: At World's End</td>\n",
       "      <td>Captain Barbossa, long believed to be dead, ha...</td>\n",
       "      <td>[{\"id\": 12, \"name\": \"Adventure\"}, {\"id\": 14, \"...</td>\n",
       "      <td>[{'id': 270, 'name': 'ocean'}, {'id': 726, 'na...</td>\n",
       "      <td>[{\"cast_id\": 4, \"character\": \"Captain Jack Spa...</td>\n",
       "      <td>[{\"credit_id\": \"52fe4232c3a36847f800b579\", \"de...</td>\n",
       "    </tr>\n",
       "  </tbody>\n",
       "</table>\n",
       "</div>"
      ],
      "text/plain": [
       "      id                                     title  \\\n",
       "0  19995                                    Avatar   \n",
       "1    285  Pirates of the Caribbean: At World's End   \n",
       "\n",
       "                                            overview  \\\n",
       "0  In the 22nd century, a paraplegic Marine is di...   \n",
       "1  Captain Barbossa, long believed to be dead, ha...   \n",
       "\n",
       "                                              genres  \\\n",
       "0  [{\"id\": 28, \"name\": \"Action\"}, {\"id\": 12, \"nam...   \n",
       "1  [{\"id\": 12, \"name\": \"Adventure\"}, {\"id\": 14, \"...   \n",
       "\n",
       "                                            keywords  \\\n",
       "0  [{'id': 1463, 'name': 'culture clash'}, {'id':...   \n",
       "1  [{'id': 270, 'name': 'ocean'}, {'id': 726, 'na...   \n",
       "\n",
       "                                                cast  \\\n",
       "0  [{\"cast_id\": 242, \"character\": \"Jake Sully\", \"...   \n",
       "1  [{\"cast_id\": 4, \"character\": \"Captain Jack Spa...   \n",
       "\n",
       "                                                crew  \n",
       "0  [{\"credit_id\": \"52fe48009251416c750aca23\", \"de...  \n",
       "1  [{\"credit_id\": \"52fe4232c3a36847f800b579\", \"de...  "
      ]
     },
     "execution_count": 12,
     "metadata": {},
     "output_type": "execute_result"
    }
   ],
   "source": [
    "movies.head(2)"
   ]
  },
  {
   "cell_type": "code",
   "execution_count": 13,
   "metadata": {},
   "outputs": [
    {
     "data": {
      "text/plain": [
       "(5798, 7)"
      ]
     },
     "execution_count": 13,
     "metadata": {},
     "output_type": "execute_result"
    }
   ],
   "source": [
    "movies.shape"
   ]
  },
  {
   "cell_type": "code",
   "execution_count": 14,
   "metadata": {},
   "outputs": [
    {
     "data": {
      "text/plain": [
       "id          0\n",
       "title       0\n",
       "overview    7\n",
       "genres      0\n",
       "keywords    0\n",
       "cast        0\n",
       "crew        0\n",
       "dtype: int64"
      ]
     },
     "execution_count": 14,
     "metadata": {},
     "output_type": "execute_result"
    }
   ],
   "source": [
    "movies.isnull().sum()"
   ]
  },
  {
   "cell_type": "code",
   "execution_count": 15,
   "metadata": {},
   "outputs": [
    {
     "name": "stderr",
     "output_type": "stream",
     "text": [
      "/tmp/ipykernel_120586/3786870272.py:1: SettingWithCopyWarning: \n",
      "A value is trying to be set on a copy of a slice from a DataFrame\n",
      "\n",
      "See the caveats in the documentation: https://pandas.pydata.org/pandas-docs/stable/user_guide/indexing.html#returning-a-view-versus-a-copy\n",
      "  movies.dropna(inplace=True)\n"
     ]
    }
   ],
   "source": [
    "movies.dropna(inplace=True)"
   ]
  },
  {
   "cell_type": "code",
   "execution_count": 16,
   "metadata": {},
   "outputs": [
    {
     "data": {
      "text/plain": [
       "id          0\n",
       "title       0\n",
       "overview    0\n",
       "genres      0\n",
       "keywords    0\n",
       "cast        0\n",
       "crew        0\n",
       "dtype: int64"
      ]
     },
     "execution_count": 16,
     "metadata": {},
     "output_type": "execute_result"
    }
   ],
   "source": [
    "movies.isnull().sum()"
   ]
  },
  {
   "cell_type": "code",
   "execution_count": 17,
   "metadata": {},
   "outputs": [
    {
     "data": {
      "text/plain": [
       "(5791, 7)"
      ]
     },
     "execution_count": 17,
     "metadata": {},
     "output_type": "execute_result"
    }
   ],
   "source": [
    "movies.shape"
   ]
  },
  {
   "cell_type": "code",
   "execution_count": 18,
   "metadata": {},
   "outputs": [
    {
     "data": {
      "text/plain": [
       "0"
      ]
     },
     "execution_count": 18,
     "metadata": {},
     "output_type": "execute_result"
    }
   ],
   "source": [
    "movies.duplicated().sum()"
   ]
  },
  {
   "cell_type": "code",
   "execution_count": 19,
   "metadata": {},
   "outputs": [
    {
     "data": {
      "text/plain": [
       "'[{\"id\": 28, \"name\": \"Action\"}, {\"id\": 12, \"name\": \"Adventure\"}, {\"id\": 14, \"name\": \"Fantasy\"}, {\"id\": 878, \"name\": \"Science Fiction\"}]'"
      ]
     },
     "execution_count": 19,
     "metadata": {},
     "output_type": "execute_result"
    }
   ],
   "source": [
    "# handle genres\n",
    "\n",
    "movies.iloc[0]['genres']"
   ]
  },
  {
   "cell_type": "code",
   "execution_count": 20,
   "metadata": {},
   "outputs": [],
   "source": [
    "import ast #for converting str to list\n",
    "\n",
    "def convert(text):\n",
    "    L = []\n",
    "    for i in ast.literal_eval(text):\n",
    "        L.append(i['name']) \n",
    "    return L"
   ]
  },
  {
   "cell_type": "code",
   "execution_count": 26,
   "metadata": {},
   "outputs": [
    {
     "data": {
      "text/plain": [
       "str"
      ]
     },
     "execution_count": 26,
     "metadata": {},
     "output_type": "execute_result"
    }
   ],
   "source": [
    "str_type = '[{\"id\": 28, \"name\": \"Action\"}, {\"id\": 12, \"name\": \"Adventure\"}, {\"id\": 14, \"name\": \"Fantasy\"}, {\"id\": 878, \"name\": \"Science Fiction\"}]'\n",
    "type(str_type)"
   ]
  },
  {
   "cell_type": "code",
   "execution_count": 27,
   "metadata": {},
   "outputs": [
    {
     "data": {
      "text/plain": [
       "[{'id': 28, 'name': 'Action'},\n",
       " {'id': 12, 'name': 'Adventure'},\n",
       " {'id': 14, 'name': 'Fantasy'},\n",
       " {'id': 878, 'name': 'Science Fiction'}]"
      ]
     },
     "execution_count": 27,
     "metadata": {},
     "output_type": "execute_result"
    }
   ],
   "source": [
    "str = ast.literal_eval('[{\"id\": 28, \"name\": \"Action\"}, {\"id\": 12, \"name\": \"Adventure\"}, {\"id\": 14, \"name\": \"Fantasy\"}, {\"id\": 878, \"name\": \"Science Fiction\"}]')\n",
    "str"
   ]
  },
  {
   "cell_type": "code",
   "execution_count": 28,
   "metadata": {},
   "outputs": [
    {
     "data": {
      "text/plain": [
       "list"
      ]
     },
     "execution_count": 28,
     "metadata": {},
     "output_type": "execute_result"
    }
   ],
   "source": [
    "type(str)"
   ]
  },
  {
   "cell_type": "code",
   "execution_count": 21,
   "metadata": {},
   "outputs": [
    {
     "name": "stderr",
     "output_type": "stream",
     "text": [
      "/tmp/ipykernel_120586/1189516248.py:1: SettingWithCopyWarning: \n",
      "A value is trying to be set on a copy of a slice from a DataFrame.\n",
      "Try using .loc[row_indexer,col_indexer] = value instead\n",
      "\n",
      "See the caveats in the documentation: https://pandas.pydata.org/pandas-docs/stable/user_guide/indexing.html#returning-a-view-versus-a-copy\n",
      "  movies['genres'] = movies['genres'].apply(convert)\n"
     ]
    }
   ],
   "source": [
    "movies['genres'] = movies['genres'].apply(convert)"
   ]
  },
  {
   "cell_type": "code",
   "execution_count": 22,
   "metadata": {},
   "outputs": [
    {
     "data": {
      "text/html": [
       "<div>\n",
       "<style scoped>\n",
       "    .dataframe tbody tr th:only-of-type {\n",
       "        vertical-align: middle;\n",
       "    }\n",
       "\n",
       "    .dataframe tbody tr th {\n",
       "        vertical-align: top;\n",
       "    }\n",
       "\n",
       "    .dataframe thead th {\n",
       "        text-align: right;\n",
       "    }\n",
       "</style>\n",
       "<table border=\"1\" class=\"dataframe\">\n",
       "  <thead>\n",
       "    <tr style=\"text-align: right;\">\n",
       "      <th></th>\n",
       "      <th>id</th>\n",
       "      <th>title</th>\n",
       "      <th>overview</th>\n",
       "      <th>genres</th>\n",
       "      <th>keywords</th>\n",
       "      <th>cast</th>\n",
       "      <th>crew</th>\n",
       "    </tr>\n",
       "  </thead>\n",
       "  <tbody>\n",
       "    <tr>\n",
       "      <th>0</th>\n",
       "      <td>19995</td>\n",
       "      <td>Avatar</td>\n",
       "      <td>In the 22nd century, a paraplegic Marine is di...</td>\n",
       "      <td>[Action, Adventure, Fantasy, Science Fiction]</td>\n",
       "      <td>[{'id': 1463, 'name': 'culture clash'}, {'id':...</td>\n",
       "      <td>[{\"cast_id\": 242, \"character\": \"Jake Sully\", \"...</td>\n",
       "      <td>[{\"credit_id\": \"52fe48009251416c750aca23\", \"de...</td>\n",
       "    </tr>\n",
       "    <tr>\n",
       "      <th>1</th>\n",
       "      <td>285</td>\n",
       "      <td>Pirates of the Caribbean: At World's End</td>\n",
       "      <td>Captain Barbossa, long believed to be dead, ha...</td>\n",
       "      <td>[Adventure, Fantasy, Action]</td>\n",
       "      <td>[{'id': 270, 'name': 'ocean'}, {'id': 726, 'na...</td>\n",
       "      <td>[{\"cast_id\": 4, \"character\": \"Captain Jack Spa...</td>\n",
       "      <td>[{\"credit_id\": \"52fe4232c3a36847f800b579\", \"de...</td>\n",
       "    </tr>\n",
       "    <tr>\n",
       "      <th>2</th>\n",
       "      <td>206647</td>\n",
       "      <td>Spectre</td>\n",
       "      <td>A cryptic message from Bond’s past sends him o...</td>\n",
       "      <td>[Action, Adventure, Crime]</td>\n",
       "      <td>[{'id': 470, 'name': 'spy'}, {'id': 818, 'name...</td>\n",
       "      <td>[{\"cast_id\": 1, \"character\": \"James Bond\", \"cr...</td>\n",
       "      <td>[{\"credit_id\": \"54805967c3a36829b5002c41\", \"de...</td>\n",
       "    </tr>\n",
       "    <tr>\n",
       "      <th>3</th>\n",
       "      <td>49026</td>\n",
       "      <td>The Dark Knight Rises</td>\n",
       "      <td>Following the death of District Attorney Harve...</td>\n",
       "      <td>[Action, Crime, Drama, Thriller]</td>\n",
       "      <td>[{'id': 849, 'name': 'dc comics'}, {'id': 853,...</td>\n",
       "      <td>[{\"cast_id\": 2, \"character\": \"Bruce Wayne / Ba...</td>\n",
       "      <td>[{\"credit_id\": \"52fe4781c3a36847f81398c3\", \"de...</td>\n",
       "    </tr>\n",
       "    <tr>\n",
       "      <th>4</th>\n",
       "      <td>49529</td>\n",
       "      <td>John Carter</td>\n",
       "      <td>John Carter is a war-weary, former military ca...</td>\n",
       "      <td>[Action, Adventure, Science Fiction]</td>\n",
       "      <td>[{'id': 818, 'name': 'based on novel'}, {'id':...</td>\n",
       "      <td>[{\"cast_id\": 5, \"character\": \"John Carter\", \"c...</td>\n",
       "      <td>[{\"credit_id\": \"52fe479ac3a36847f813eaa3\", \"de...</td>\n",
       "    </tr>\n",
       "  </tbody>\n",
       "</table>\n",
       "</div>"
      ],
      "text/plain": [
       "       id                                     title  \\\n",
       "0   19995                                    Avatar   \n",
       "1     285  Pirates of the Caribbean: At World's End   \n",
       "2  206647                                   Spectre   \n",
       "3   49026                     The Dark Knight Rises   \n",
       "4   49529                               John Carter   \n",
       "\n",
       "                                            overview  \\\n",
       "0  In the 22nd century, a paraplegic Marine is di...   \n",
       "1  Captain Barbossa, long believed to be dead, ha...   \n",
       "2  A cryptic message from Bond’s past sends him o...   \n",
       "3  Following the death of District Attorney Harve...   \n",
       "4  John Carter is a war-weary, former military ca...   \n",
       "\n",
       "                                          genres  \\\n",
       "0  [Action, Adventure, Fantasy, Science Fiction]   \n",
       "1                   [Adventure, Fantasy, Action]   \n",
       "2                     [Action, Adventure, Crime]   \n",
       "3               [Action, Crime, Drama, Thriller]   \n",
       "4           [Action, Adventure, Science Fiction]   \n",
       "\n",
       "                                            keywords  \\\n",
       "0  [{'id': 1463, 'name': 'culture clash'}, {'id':...   \n",
       "1  [{'id': 270, 'name': 'ocean'}, {'id': 726, 'na...   \n",
       "2  [{'id': 470, 'name': 'spy'}, {'id': 818, 'name...   \n",
       "3  [{'id': 849, 'name': 'dc comics'}, {'id': 853,...   \n",
       "4  [{'id': 818, 'name': 'based on novel'}, {'id':...   \n",
       "\n",
       "                                                cast  \\\n",
       "0  [{\"cast_id\": 242, \"character\": \"Jake Sully\", \"...   \n",
       "1  [{\"cast_id\": 4, \"character\": \"Captain Jack Spa...   \n",
       "2  [{\"cast_id\": 1, \"character\": \"James Bond\", \"cr...   \n",
       "3  [{\"cast_id\": 2, \"character\": \"Bruce Wayne / Ba...   \n",
       "4  [{\"cast_id\": 5, \"character\": \"John Carter\", \"c...   \n",
       "\n",
       "                                                crew  \n",
       "0  [{\"credit_id\": \"52fe48009251416c750aca23\", \"de...  \n",
       "1  [{\"credit_id\": \"52fe4232c3a36847f800b579\", \"de...  \n",
       "2  [{\"credit_id\": \"54805967c3a36829b5002c41\", \"de...  \n",
       "3  [{\"credit_id\": \"52fe4781c3a36847f81398c3\", \"de...  \n",
       "4  [{\"credit_id\": \"52fe479ac3a36847f813eaa3\", \"de...  "
      ]
     },
     "execution_count": 22,
     "metadata": {},
     "output_type": "execute_result"
    }
   ],
   "source": [
    "movies.head()"
   ]
  },
  {
   "cell_type": "code",
   "execution_count": 29,
   "metadata": {},
   "outputs": [
    {
     "data": {
      "text/plain": [
       "\"[{'id': 1463, 'name': 'culture clash'}, {'id': 2964, 'name': 'future'}, {'id': 3386, 'name': 'space war'}, {'id': 3388, 'name': 'space colony'}, {'id': 3679, 'name': 'society'}, {'id': 3801, 'name': 'space travel'}, {'id': 9685, 'name': 'futuristic'}, {'id': 9840, 'name': 'romance'}, {'id': 9882, 'name': 'space'}, {'id': 9951, 'name': 'alien'}, {'id': 10148, 'name': 'tribe'}, {'id': 10158, 'name': 'alien planet'}, {'id': 10987, 'name': 'cgi'}, {'id': 11399, 'name': 'marine'}, {'id': 13065, 'name': 'soldier'}, {'id': 14643, 'name': 'battle'}, {'id': 14720, 'name': 'love affair'}, {'id': 165431, 'name': 'anti war'}, {'id': 193554, 'name': 'power relations'}, {'id': 206690, 'name': 'mind and soul'}, {'id': 209714, 'name': '3d'}]\""
      ]
     },
     "execution_count": 29,
     "metadata": {},
     "output_type": "execute_result"
    }
   ],
   "source": [
    "# handle keywords\n",
    "movies.iloc[0]['keywords']"
   ]
  },
  {
   "cell_type": "code",
   "execution_count": 30,
   "metadata": {},
   "outputs": [
    {
     "name": "stderr",
     "output_type": "stream",
     "text": [
      "/tmp/ipykernel_120586/2480151099.py:1: SettingWithCopyWarning: \n",
      "A value is trying to be set on a copy of a slice from a DataFrame.\n",
      "Try using .loc[row_indexer,col_indexer] = value instead\n",
      "\n",
      "See the caveats in the documentation: https://pandas.pydata.org/pandas-docs/stable/user_guide/indexing.html#returning-a-view-versus-a-copy\n",
      "  movies['keywords'] = movies['keywords'].apply(convert)\n"
     ]
    },
    {
     "data": {
      "text/html": [
       "<div>\n",
       "<style scoped>\n",
       "    .dataframe tbody tr th:only-of-type {\n",
       "        vertical-align: middle;\n",
       "    }\n",
       "\n",
       "    .dataframe tbody tr th {\n",
       "        vertical-align: top;\n",
       "    }\n",
       "\n",
       "    .dataframe thead th {\n",
       "        text-align: right;\n",
       "    }\n",
       "</style>\n",
       "<table border=\"1\" class=\"dataframe\">\n",
       "  <thead>\n",
       "    <tr style=\"text-align: right;\">\n",
       "      <th></th>\n",
       "      <th>id</th>\n",
       "      <th>title</th>\n",
       "      <th>overview</th>\n",
       "      <th>genres</th>\n",
       "      <th>keywords</th>\n",
       "      <th>cast</th>\n",
       "      <th>crew</th>\n",
       "    </tr>\n",
       "  </thead>\n",
       "  <tbody>\n",
       "    <tr>\n",
       "      <th>0</th>\n",
       "      <td>19995</td>\n",
       "      <td>Avatar</td>\n",
       "      <td>In the 22nd century, a paraplegic Marine is di...</td>\n",
       "      <td>[Action, Adventure, Fantasy, Science Fiction]</td>\n",
       "      <td>[culture clash, future, space war, space colon...</td>\n",
       "      <td>[{\"cast_id\": 242, \"character\": \"Jake Sully\", \"...</td>\n",
       "      <td>[{\"credit_id\": \"52fe48009251416c750aca23\", \"de...</td>\n",
       "    </tr>\n",
       "    <tr>\n",
       "      <th>1</th>\n",
       "      <td>285</td>\n",
       "      <td>Pirates of the Caribbean: At World's End</td>\n",
       "      <td>Captain Barbossa, long believed to be dead, ha...</td>\n",
       "      <td>[Adventure, Fantasy, Action]</td>\n",
       "      <td>[ocean, drug abuse, exotic island, east india ...</td>\n",
       "      <td>[{\"cast_id\": 4, \"character\": \"Captain Jack Spa...</td>\n",
       "      <td>[{\"credit_id\": \"52fe4232c3a36847f800b579\", \"de...</td>\n",
       "    </tr>\n",
       "    <tr>\n",
       "      <th>2</th>\n",
       "      <td>206647</td>\n",
       "      <td>Spectre</td>\n",
       "      <td>A cryptic message from Bond’s past sends him o...</td>\n",
       "      <td>[Action, Adventure, Crime]</td>\n",
       "      <td>[spy, based on novel, secret agent, sequel, mi...</td>\n",
       "      <td>[{\"cast_id\": 1, \"character\": \"James Bond\", \"cr...</td>\n",
       "      <td>[{\"credit_id\": \"54805967c3a36829b5002c41\", \"de...</td>\n",
       "    </tr>\n",
       "    <tr>\n",
       "      <th>3</th>\n",
       "      <td>49026</td>\n",
       "      <td>The Dark Knight Rises</td>\n",
       "      <td>Following the death of District Attorney Harve...</td>\n",
       "      <td>[Action, Crime, Drama, Thriller]</td>\n",
       "      <td>[dc comics, crime fighter, terrorist, secret i...</td>\n",
       "      <td>[{\"cast_id\": 2, \"character\": \"Bruce Wayne / Ba...</td>\n",
       "      <td>[{\"credit_id\": \"52fe4781c3a36847f81398c3\", \"de...</td>\n",
       "    </tr>\n",
       "    <tr>\n",
       "      <th>4</th>\n",
       "      <td>49529</td>\n",
       "      <td>John Carter</td>\n",
       "      <td>John Carter is a war-weary, former military ca...</td>\n",
       "      <td>[Action, Adventure, Science Fiction]</td>\n",
       "      <td>[based on novel, mars, medallion, space travel...</td>\n",
       "      <td>[{\"cast_id\": 5, \"character\": \"John Carter\", \"c...</td>\n",
       "      <td>[{\"credit_id\": \"52fe479ac3a36847f813eaa3\", \"de...</td>\n",
       "    </tr>\n",
       "  </tbody>\n",
       "</table>\n",
       "</div>"
      ],
      "text/plain": [
       "       id                                     title  \\\n",
       "0   19995                                    Avatar   \n",
       "1     285  Pirates of the Caribbean: At World's End   \n",
       "2  206647                                   Spectre   \n",
       "3   49026                     The Dark Knight Rises   \n",
       "4   49529                               John Carter   \n",
       "\n",
       "                                            overview  \\\n",
       "0  In the 22nd century, a paraplegic Marine is di...   \n",
       "1  Captain Barbossa, long believed to be dead, ha...   \n",
       "2  A cryptic message from Bond’s past sends him o...   \n",
       "3  Following the death of District Attorney Harve...   \n",
       "4  John Carter is a war-weary, former military ca...   \n",
       "\n",
       "                                          genres  \\\n",
       "0  [Action, Adventure, Fantasy, Science Fiction]   \n",
       "1                   [Adventure, Fantasy, Action]   \n",
       "2                     [Action, Adventure, Crime]   \n",
       "3               [Action, Crime, Drama, Thriller]   \n",
       "4           [Action, Adventure, Science Fiction]   \n",
       "\n",
       "                                            keywords  \\\n",
       "0  [culture clash, future, space war, space colon...   \n",
       "1  [ocean, drug abuse, exotic island, east india ...   \n",
       "2  [spy, based on novel, secret agent, sequel, mi...   \n",
       "3  [dc comics, crime fighter, terrorist, secret i...   \n",
       "4  [based on novel, mars, medallion, space travel...   \n",
       "\n",
       "                                                cast  \\\n",
       "0  [{\"cast_id\": 242, \"character\": \"Jake Sully\", \"...   \n",
       "1  [{\"cast_id\": 4, \"character\": \"Captain Jack Spa...   \n",
       "2  [{\"cast_id\": 1, \"character\": \"James Bond\", \"cr...   \n",
       "3  [{\"cast_id\": 2, \"character\": \"Bruce Wayne / Ba...   \n",
       "4  [{\"cast_id\": 5, \"character\": \"John Carter\", \"c...   \n",
       "\n",
       "                                                crew  \n",
       "0  [{\"credit_id\": \"52fe48009251416c750aca23\", \"de...  \n",
       "1  [{\"credit_id\": \"52fe4232c3a36847f800b579\", \"de...  \n",
       "2  [{\"credit_id\": \"54805967c3a36829b5002c41\", \"de...  \n",
       "3  [{\"credit_id\": \"52fe4781c3a36847f81398c3\", \"de...  \n",
       "4  [{\"credit_id\": \"52fe479ac3a36847f813eaa3\", \"de...  "
      ]
     },
     "execution_count": 30,
     "metadata": {},
     "output_type": "execute_result"
    }
   ],
   "source": [
    "movies['keywords'] = movies['keywords'].apply(convert)\n",
    "movies.head()"
   ]
  },
  {
   "cell_type": "code",
   "execution_count": 31,
   "metadata": {},
   "outputs": [
    {
     "data": {
      "text/plain": [
       "'[{\"cast_id\": 242, \"character\": \"Jake Sully\", \"credit_id\": \"5602a8a7c3a3685532001c9a\", \"gender\": 2, \"id\": 65731, \"name\": \"Sam Worthington\", \"order\": 0}, {\"cast_id\": 3, \"character\": \"Neytiri\", \"credit_id\": \"52fe48009251416c750ac9cb\", \"gender\": 1, \"id\": 8691, \"name\": \"Zoe Saldana\", \"order\": 1}, {\"cast_id\": 25, \"character\": \"Dr. Grace Augustine\", \"credit_id\": \"52fe48009251416c750aca39\", \"gender\": 1, \"id\": 10205, \"name\": \"Sigourney Weaver\", \"order\": 2}, {\"cast_id\": 4, \"character\": \"Col. Quaritch\", \"credit_id\": \"52fe48009251416c750ac9cf\", \"gender\": 2, \"id\": 32747, \"name\": \"Stephen Lang\", \"order\": 3}, {\"cast_id\": 5, \"character\": \"Trudy Chacon\", \"credit_id\": \"52fe48009251416c750ac9d3\", \"gender\": 1, \"id\": 17647, \"name\": \"Michelle Rodriguez\", \"order\": 4}, {\"cast_id\": 8, \"character\": \"Selfridge\", \"credit_id\": \"52fe48009251416c750ac9e1\", \"gender\": 2, \"id\": 1771, \"name\": \"Giovanni Ribisi\", \"order\": 5}, {\"cast_id\": 7, \"character\": \"Norm Spellman\", \"credit_id\": \"52fe48009251416c750ac9dd\", \"gender\": 2, \"id\": 59231, \"name\": \"Joel David Moore\", \"order\": 6}, {\"cast_id\": 9, \"character\": \"Moat\", \"credit_id\": \"52fe48009251416c750ac9e5\", \"gender\": 1, \"id\": 30485, \"name\": \"CCH Pounder\", \"order\": 7}, {\"cast_id\": 11, \"character\": \"Eytukan\", \"credit_id\": \"52fe48009251416c750ac9ed\", \"gender\": 2, \"id\": 15853, \"name\": \"Wes Studi\", \"order\": 8}, {\"cast_id\": 10, \"character\": \"Tsu\\'Tey\", \"credit_id\": \"52fe48009251416c750ac9e9\", \"gender\": 2, \"id\": 10964, \"name\": \"Laz Alonso\", \"order\": 9}, {\"cast_id\": 12, \"character\": \"Dr. Max Patel\", \"credit_id\": \"52fe48009251416c750ac9f1\", \"gender\": 2, \"id\": 95697, \"name\": \"Dileep Rao\", \"order\": 10}, {\"cast_id\": 13, \"character\": \"Lyle Wainfleet\", \"credit_id\": \"52fe48009251416c750ac9f5\", \"gender\": 2, \"id\": 98215, \"name\": \"Matt Gerald\", \"order\": 11}, {\"cast_id\": 32, \"character\": \"Private Fike\", \"credit_id\": \"52fe48009251416c750aca5b\", \"gender\": 2, \"id\": 154153, \"name\": \"Sean Anthony Moran\", \"order\": 12}, {\"cast_id\": 33, \"character\": \"Cryo Vault Med Tech\", \"credit_id\": \"52fe48009251416c750aca5f\", \"gender\": 2, \"id\": 397312, \"name\": \"Jason Whyte\", \"order\": 13}, {\"cast_id\": 34, \"character\": \"Venture Star Crew Chief\", \"credit_id\": \"52fe48009251416c750aca63\", \"gender\": 2, \"id\": 42317, \"name\": \"Scott Lawrence\", \"order\": 14}, {\"cast_id\": 35, \"character\": \"Lock Up Trooper\", \"credit_id\": \"52fe48009251416c750aca67\", \"gender\": 2, \"id\": 986734, \"name\": \"Kelly Kilgour\", \"order\": 15}, {\"cast_id\": 36, \"character\": \"Shuttle Pilot\", \"credit_id\": \"52fe48009251416c750aca6b\", \"gender\": 0, \"id\": 1207227, \"name\": \"James Patrick Pitt\", \"order\": 16}, {\"cast_id\": 37, \"character\": \"Shuttle Co-Pilot\", \"credit_id\": \"52fe48009251416c750aca6f\", \"gender\": 0, \"id\": 1180936, \"name\": \"Sean Patrick Murphy\", \"order\": 17}, {\"cast_id\": 38, \"character\": \"Shuttle Crew Chief\", \"credit_id\": \"52fe48009251416c750aca73\", \"gender\": 2, \"id\": 1019578, \"name\": \"Peter Dillon\", \"order\": 18}, {\"cast_id\": 39, \"character\": \"Tractor Operator / Troupe\", \"credit_id\": \"52fe48009251416c750aca77\", \"gender\": 0, \"id\": 91443, \"name\": \"Kevin Dorman\", \"order\": 19}, {\"cast_id\": 40, \"character\": \"Dragon Gunship Pilot\", \"credit_id\": \"52fe48009251416c750aca7b\", \"gender\": 2, \"id\": 173391, \"name\": \"Kelson Henderson\", \"order\": 20}, {\"cast_id\": 41, \"character\": \"Dragon Gunship Gunner\", \"credit_id\": \"52fe48009251416c750aca7f\", \"gender\": 0, \"id\": 1207236, \"name\": \"David Van Horn\", \"order\": 21}, {\"cast_id\": 42, \"character\": \"Dragon Gunship Navigator\", \"credit_id\": \"52fe48009251416c750aca83\", \"gender\": 0, \"id\": 215913, \"name\": \"Jacob Tomuri\", \"order\": 22}, {\"cast_id\": 43, \"character\": \"Suit #1\", \"credit_id\": \"52fe48009251416c750aca87\", \"gender\": 0, \"id\": 143206, \"name\": \"Michael Blain-Rozgay\", \"order\": 23}, {\"cast_id\": 44, \"character\": \"Suit #2\", \"credit_id\": \"52fe48009251416c750aca8b\", \"gender\": 2, \"id\": 169676, \"name\": \"Jon Curry\", \"order\": 24}, {\"cast_id\": 46, \"character\": \"Ambient Room Tech\", \"credit_id\": \"52fe48009251416c750aca8f\", \"gender\": 0, \"id\": 1048610, \"name\": \"Luke Hawker\", \"order\": 25}, {\"cast_id\": 47, \"character\": \"Ambient Room Tech / Troupe\", \"credit_id\": \"52fe48009251416c750aca93\", \"gender\": 0, \"id\": 42288, \"name\": \"Woody Schultz\", \"order\": 26}, {\"cast_id\": 48, \"character\": \"Horse Clan Leader\", \"credit_id\": \"52fe48009251416c750aca97\", \"gender\": 2, \"id\": 68278, \"name\": \"Peter Mensah\", \"order\": 27}, {\"cast_id\": 49, \"character\": \"Link Room Tech\", \"credit_id\": \"52fe48009251416c750aca9b\", \"gender\": 0, \"id\": 1207247, \"name\": \"Sonia Yee\", \"order\": 28}, {\"cast_id\": 50, \"character\": \"Basketball Avatar / Troupe\", \"credit_id\": \"52fe48009251416c750aca9f\", \"gender\": 1, \"id\": 1207248, \"name\": \"Jahnel Curfman\", \"order\": 29}, {\"cast_id\": 51, \"character\": \"Basketball Avatar\", \"credit_id\": \"52fe48009251416c750acaa3\", \"gender\": 0, \"id\": 89714, \"name\": \"Ilram Choi\", \"order\": 30}, {\"cast_id\": 52, \"character\": \"Na\\'vi Child\", \"credit_id\": \"52fe48009251416c750acaa7\", \"gender\": 0, \"id\": 1207249, \"name\": \"Kyla Warren\", \"order\": 31}, {\"cast_id\": 53, \"character\": \"Troupe\", \"credit_id\": \"52fe48009251416c750acaab\", \"gender\": 0, \"id\": 1207250, \"name\": \"Lisa Roumain\", \"order\": 32}, {\"cast_id\": 54, \"character\": \"Troupe\", \"credit_id\": \"52fe48009251416c750acaaf\", \"gender\": 1, \"id\": 83105, \"name\": \"Debra Wilson\", \"order\": 33}, {\"cast_id\": 57, \"character\": \"Troupe\", \"credit_id\": \"52fe48009251416c750acabb\", \"gender\": 0, \"id\": 1207253, \"name\": \"Chris Mala\", \"order\": 34}, {\"cast_id\": 55, \"character\": \"Troupe\", \"credit_id\": \"52fe48009251416c750acab3\", \"gender\": 0, \"id\": 1207251, \"name\": \"Taylor Kibby\", \"order\": 35}, {\"cast_id\": 56, \"character\": \"Troupe\", \"credit_id\": \"52fe48009251416c750acab7\", \"gender\": 0, \"id\": 1207252, \"name\": \"Jodie Landau\", \"order\": 36}, {\"cast_id\": 58, \"character\": \"Troupe\", \"credit_id\": \"52fe48009251416c750acabf\", \"gender\": 0, \"id\": 1207254, \"name\": \"Julie Lamm\", \"order\": 37}, {\"cast_id\": 59, \"character\": \"Troupe\", \"credit_id\": \"52fe48009251416c750acac3\", \"gender\": 0, \"id\": 1207257, \"name\": \"Cullen B. Madden\", \"order\": 38}, {\"cast_id\": 60, \"character\": \"Troupe\", \"credit_id\": \"52fe48009251416c750acac7\", \"gender\": 0, \"id\": 1207259, \"name\": \"Joseph Brady Madden\", \"order\": 39}, {\"cast_id\": 61, \"character\": \"Troupe\", \"credit_id\": \"52fe48009251416c750acacb\", \"gender\": 0, \"id\": 1207262, \"name\": \"Frankie Torres\", \"order\": 40}, {\"cast_id\": 62, \"character\": \"Troupe\", \"credit_id\": \"52fe48009251416c750acacf\", \"gender\": 1, \"id\": 1158600, \"name\": \"Austin Wilson\", \"order\": 41}, {\"cast_id\": 63, \"character\": \"Troupe\", \"credit_id\": \"52fe48019251416c750acad3\", \"gender\": 1, \"id\": 983705, \"name\": \"Sara Wilson\", \"order\": 42}, {\"cast_id\": 64, \"character\": \"Troupe\", \"credit_id\": \"52fe48019251416c750acad7\", \"gender\": 0, \"id\": 1207263, \"name\": \"Tamica Washington-Miller\", \"order\": 43}, {\"cast_id\": 65, \"character\": \"Op Center Staff\", \"credit_id\": \"52fe48019251416c750acadb\", \"gender\": 1, \"id\": 1145098, \"name\": \"Lucy Briant\", \"order\": 44}, {\"cast_id\": 66, \"character\": \"Op Center Staff\", \"credit_id\": \"52fe48019251416c750acadf\", \"gender\": 2, \"id\": 33305, \"name\": \"Nathan Meister\", \"order\": 45}, {\"cast_id\": 67, \"character\": \"Op Center Staff\", \"credit_id\": \"52fe48019251416c750acae3\", \"gender\": 0, \"id\": 1207264, \"name\": \"Gerry Blair\", \"order\": 46}, {\"cast_id\": 68, \"character\": \"Op Center Staff\", \"credit_id\": \"52fe48019251416c750acae7\", \"gender\": 2, \"id\": 33311, \"name\": \"Matthew Chamberlain\", \"order\": 47}, {\"cast_id\": 69, \"character\": \"Op Center Staff\", \"credit_id\": \"52fe48019251416c750acaeb\", \"gender\": 0, \"id\": 1207265, \"name\": \"Paul Yates\", \"order\": 48}, {\"cast_id\": 70, \"character\": \"Op Center Duty Officer\", \"credit_id\": \"52fe48019251416c750acaef\", \"gender\": 0, \"id\": 1207266, \"name\": \"Wray Wilson\", \"order\": 49}, {\"cast_id\": 71, \"character\": \"Op Center Staff\", \"credit_id\": \"52fe48019251416c750acaf3\", \"gender\": 2, \"id\": 54492, \"name\": \"James Gaylyn\", \"order\": 50}, {\"cast_id\": 72, \"character\": \"Dancer\", \"credit_id\": \"52fe48019251416c750acaf7\", \"gender\": 0, \"id\": 1207267, \"name\": \"Melvin Leno Clark III\", \"order\": 51}, {\"cast_id\": 73, \"character\": \"Dancer\", \"credit_id\": \"52fe48019251416c750acafb\", \"gender\": 0, \"id\": 1207268, \"name\": \"Carvon Futrell\", \"order\": 52}, {\"cast_id\": 74, \"character\": \"Dancer\", \"credit_id\": \"52fe48019251416c750acaff\", \"gender\": 0, \"id\": 1207269, \"name\": \"Brandon Jelkes\", \"order\": 53}, {\"cast_id\": 75, \"character\": \"Dancer\", \"credit_id\": \"52fe48019251416c750acb03\", \"gender\": 0, \"id\": 1207270, \"name\": \"Micah Moch\", \"order\": 54}, {\"cast_id\": 76, \"character\": \"Dancer\", \"credit_id\": \"52fe48019251416c750acb07\", \"gender\": 0, \"id\": 1207271, \"name\": \"Hanniyah Muhammad\", \"order\": 55}, {\"cast_id\": 77, \"character\": \"Dancer\", \"credit_id\": \"52fe48019251416c750acb0b\", \"gender\": 0, \"id\": 1207272, \"name\": \"Christopher Nolen\", \"order\": 56}, {\"cast_id\": 78, \"character\": \"Dancer\", \"credit_id\": \"52fe48019251416c750acb0f\", \"gender\": 0, \"id\": 1207273, \"name\": \"Christa Oliver\", \"order\": 57}, {\"cast_id\": 79, \"character\": \"Dancer\", \"credit_id\": \"52fe48019251416c750acb13\", \"gender\": 0, \"id\": 1207274, \"name\": \"April Marie Thomas\", \"order\": 58}, {\"cast_id\": 80, \"character\": \"Dancer\", \"credit_id\": \"52fe48019251416c750acb17\", \"gender\": 0, \"id\": 1207275, \"name\": \"Bravita A. Threatt\", \"order\": 59}, {\"cast_id\": 81, \"character\": \"Mining Chief (uncredited)\", \"credit_id\": \"52fe48019251416c750acb1b\", \"gender\": 0, \"id\": 1207276, \"name\": \"Colin Bleasdale\", \"order\": 60}, {\"cast_id\": 82, \"character\": \"Veteran Miner (uncredited)\", \"credit_id\": \"52fe48019251416c750acb1f\", \"gender\": 0, \"id\": 107969, \"name\": \"Mike Bodnar\", \"order\": 61}, {\"cast_id\": 83, \"character\": \"Richard (uncredited)\", \"credit_id\": \"52fe48019251416c750acb23\", \"gender\": 0, \"id\": 1207278, \"name\": \"Matt Clayton\", \"order\": 62}, {\"cast_id\": 84, \"character\": \"Nav\\'i (uncredited)\", \"credit_id\": \"52fe48019251416c750acb27\", \"gender\": 1, \"id\": 147898, \"name\": \"Nicole Dionne\", \"order\": 63}, {\"cast_id\": 85, \"character\": \"Trooper (uncredited)\", \"credit_id\": \"52fe48019251416c750acb2b\", \"gender\": 0, \"id\": 1207280, \"name\": \"Jamie Harrison\", \"order\": 64}, {\"cast_id\": 86, \"character\": \"Trooper (uncredited)\", \"credit_id\": \"52fe48019251416c750acb2f\", \"gender\": 0, \"id\": 1207281, \"name\": \"Allan Henry\", \"order\": 65}, {\"cast_id\": 87, \"character\": \"Ground Technician (uncredited)\", \"credit_id\": \"52fe48019251416c750acb33\", \"gender\": 2, \"id\": 1207282, \"name\": \"Anthony Ingruber\", \"order\": 66}, {\"cast_id\": 88, \"character\": \"Flight Crew Mechanic (uncredited)\", \"credit_id\": \"52fe48019251416c750acb37\", \"gender\": 0, \"id\": 1207283, \"name\": \"Ashley Jeffery\", \"order\": 67}, {\"cast_id\": 14, \"character\": \"Samson Pilot\", \"credit_id\": \"52fe48009251416c750ac9f9\", \"gender\": 0, \"id\": 98216, \"name\": \"Dean Knowsley\", \"order\": 68}, {\"cast_id\": 89, \"character\": \"Trooper (uncredited)\", \"credit_id\": \"52fe48019251416c750acb3b\", \"gender\": 0, \"id\": 1201399, \"name\": \"Joseph Mika-Hunt\", \"order\": 69}, {\"cast_id\": 90, \"character\": \"Banshee (uncredited)\", \"credit_id\": \"52fe48019251416c750acb3f\", \"gender\": 0, \"id\": 236696, \"name\": \"Terry Notary\", \"order\": 70}, {\"cast_id\": 91, \"character\": \"Soldier (uncredited)\", \"credit_id\": \"52fe48019251416c750acb43\", \"gender\": 0, \"id\": 1207287, \"name\": \"Kai Pantano\", \"order\": 71}, {\"cast_id\": 92, \"character\": \"Blast Technician (uncredited)\", \"credit_id\": \"52fe48019251416c750acb47\", \"gender\": 0, \"id\": 1207288, \"name\": \"Logan Pithyou\", \"order\": 72}, {\"cast_id\": 93, \"character\": \"Vindum Raah (uncredited)\", \"credit_id\": \"52fe48019251416c750acb4b\", \"gender\": 0, \"id\": 1207289, \"name\": \"Stuart Pollock\", \"order\": 73}, {\"cast_id\": 94, \"character\": \"Hero (uncredited)\", \"credit_id\": \"52fe48019251416c750acb4f\", \"gender\": 0, \"id\": 584868, \"name\": \"Raja\", \"order\": 74}, {\"cast_id\": 95, \"character\": \"Ops Centreworker (uncredited)\", \"credit_id\": \"52fe48019251416c750acb53\", \"gender\": 0, \"id\": 1207290, \"name\": \"Gareth Ruck\", \"order\": 75}, {\"cast_id\": 96, \"character\": \"Engineer (uncredited)\", \"credit_id\": \"52fe48019251416c750acb57\", \"gender\": 0, \"id\": 1062463, \"name\": \"Rhian Sheehan\", \"order\": 76}, {\"cast_id\": 97, \"character\": \"Col. Quaritch\\'s Mech Suit (uncredited)\", \"credit_id\": \"52fe48019251416c750acb5b\", \"gender\": 0, \"id\": 60656, \"name\": \"T. J. Storm\", \"order\": 77}, {\"cast_id\": 98, \"character\": \"Female Marine (uncredited)\", \"credit_id\": \"52fe48019251416c750acb5f\", \"gender\": 0, \"id\": 1207291, \"name\": \"Jodie Taylor\", \"order\": 78}, {\"cast_id\": 99, \"character\": \"Ikran Clan Leader (uncredited)\", \"credit_id\": \"52fe48019251416c750acb63\", \"gender\": 1, \"id\": 1186027, \"name\": \"Alicia Vela-Bailey\", \"order\": 79}, {\"cast_id\": 100, \"character\": \"Geologist (uncredited)\", \"credit_id\": \"52fe48019251416c750acb67\", \"gender\": 0, \"id\": 1207292, \"name\": \"Richard Whiteside\", \"order\": 80}, {\"cast_id\": 101, \"character\": \"Na\\'vi (uncredited)\", \"credit_id\": \"52fe48019251416c750acb6b\", \"gender\": 0, \"id\": 103259, \"name\": \"Nikie Zambo\", \"order\": 81}, {\"cast_id\": 102, \"character\": \"Ambient Room Tech / Troupe\", \"credit_id\": \"52fe48019251416c750acb6f\", \"gender\": 1, \"id\": 42286, \"name\": \"Julene Renee\", \"order\": 82}]'"
      ]
     },
     "execution_count": 31,
     "metadata": {},
     "output_type": "execute_result"
    }
   ],
   "source": [
    "# handle cast\n",
    "movies.iloc[0]['cast']"
   ]
  },
  {
   "cell_type": "code",
   "execution_count": 32,
   "metadata": {},
   "outputs": [],
   "source": [
    "# Here i am just keeping top 3 cast\n",
    "\n",
    "def convert_cast(text):\n",
    "    L = []\n",
    "    counter = 0\n",
    "    for i in ast.literal_eval(text):\n",
    "        if counter < 3:\n",
    "            L.append(i['name'])\n",
    "        counter+=1\n",
    "    return L"
   ]
  },
  {
   "cell_type": "code",
   "execution_count": 33,
   "metadata": {},
   "outputs": [
    {
     "name": "stderr",
     "output_type": "stream",
     "text": [
      "/tmp/ipykernel_120586/3859783478.py:1: SettingWithCopyWarning: \n",
      "A value is trying to be set on a copy of a slice from a DataFrame.\n",
      "Try using .loc[row_indexer,col_indexer] = value instead\n",
      "\n",
      "See the caveats in the documentation: https://pandas.pydata.org/pandas-docs/stable/user_guide/indexing.html#returning-a-view-versus-a-copy\n",
      "  movies['cast'] = movies['cast'].apply(convert_cast)\n"
     ]
    },
    {
     "data": {
      "text/html": [
       "<div>\n",
       "<style scoped>\n",
       "    .dataframe tbody tr th:only-of-type {\n",
       "        vertical-align: middle;\n",
       "    }\n",
       "\n",
       "    .dataframe tbody tr th {\n",
       "        vertical-align: top;\n",
       "    }\n",
       "\n",
       "    .dataframe thead th {\n",
       "        text-align: right;\n",
       "    }\n",
       "</style>\n",
       "<table border=\"1\" class=\"dataframe\">\n",
       "  <thead>\n",
       "    <tr style=\"text-align: right;\">\n",
       "      <th></th>\n",
       "      <th>id</th>\n",
       "      <th>title</th>\n",
       "      <th>overview</th>\n",
       "      <th>genres</th>\n",
       "      <th>keywords</th>\n",
       "      <th>cast</th>\n",
       "      <th>crew</th>\n",
       "    </tr>\n",
       "  </thead>\n",
       "  <tbody>\n",
       "    <tr>\n",
       "      <th>0</th>\n",
       "      <td>19995</td>\n",
       "      <td>Avatar</td>\n",
       "      <td>In the 22nd century, a paraplegic Marine is di...</td>\n",
       "      <td>[Action, Adventure, Fantasy, Science Fiction]</td>\n",
       "      <td>[culture clash, future, space war, space colon...</td>\n",
       "      <td>[Sam Worthington, Zoe Saldana, Sigourney Weaver]</td>\n",
       "      <td>[{\"credit_id\": \"52fe48009251416c750aca23\", \"de...</td>\n",
       "    </tr>\n",
       "    <tr>\n",
       "      <th>1</th>\n",
       "      <td>285</td>\n",
       "      <td>Pirates of the Caribbean: At World's End</td>\n",
       "      <td>Captain Barbossa, long believed to be dead, ha...</td>\n",
       "      <td>[Adventure, Fantasy, Action]</td>\n",
       "      <td>[ocean, drug abuse, exotic island, east india ...</td>\n",
       "      <td>[Johnny Depp, Orlando Bloom, Keira Knightley]</td>\n",
       "      <td>[{\"credit_id\": \"52fe4232c3a36847f800b579\", \"de...</td>\n",
       "    </tr>\n",
       "    <tr>\n",
       "      <th>2</th>\n",
       "      <td>206647</td>\n",
       "      <td>Spectre</td>\n",
       "      <td>A cryptic message from Bond’s past sends him o...</td>\n",
       "      <td>[Action, Adventure, Crime]</td>\n",
       "      <td>[spy, based on novel, secret agent, sequel, mi...</td>\n",
       "      <td>[Daniel Craig, Christoph Waltz, Léa Seydoux]</td>\n",
       "      <td>[{\"credit_id\": \"54805967c3a36829b5002c41\", \"de...</td>\n",
       "    </tr>\n",
       "    <tr>\n",
       "      <th>3</th>\n",
       "      <td>49026</td>\n",
       "      <td>The Dark Knight Rises</td>\n",
       "      <td>Following the death of District Attorney Harve...</td>\n",
       "      <td>[Action, Crime, Drama, Thriller]</td>\n",
       "      <td>[dc comics, crime fighter, terrorist, secret i...</td>\n",
       "      <td>[Christian Bale, Michael Caine, Gary Oldman]</td>\n",
       "      <td>[{\"credit_id\": \"52fe4781c3a36847f81398c3\", \"de...</td>\n",
       "    </tr>\n",
       "    <tr>\n",
       "      <th>4</th>\n",
       "      <td>49529</td>\n",
       "      <td>John Carter</td>\n",
       "      <td>John Carter is a war-weary, former military ca...</td>\n",
       "      <td>[Action, Adventure, Science Fiction]</td>\n",
       "      <td>[based on novel, mars, medallion, space travel...</td>\n",
       "      <td>[Taylor Kitsch, Lynn Collins, Samantha Morton]</td>\n",
       "      <td>[{\"credit_id\": \"52fe479ac3a36847f813eaa3\", \"de...</td>\n",
       "    </tr>\n",
       "  </tbody>\n",
       "</table>\n",
       "</div>"
      ],
      "text/plain": [
       "       id                                     title  \\\n",
       "0   19995                                    Avatar   \n",
       "1     285  Pirates of the Caribbean: At World's End   \n",
       "2  206647                                   Spectre   \n",
       "3   49026                     The Dark Knight Rises   \n",
       "4   49529                               John Carter   \n",
       "\n",
       "                                            overview  \\\n",
       "0  In the 22nd century, a paraplegic Marine is di...   \n",
       "1  Captain Barbossa, long believed to be dead, ha...   \n",
       "2  A cryptic message from Bond’s past sends him o...   \n",
       "3  Following the death of District Attorney Harve...   \n",
       "4  John Carter is a war-weary, former military ca...   \n",
       "\n",
       "                                          genres  \\\n",
       "0  [Action, Adventure, Fantasy, Science Fiction]   \n",
       "1                   [Adventure, Fantasy, Action]   \n",
       "2                     [Action, Adventure, Crime]   \n",
       "3               [Action, Crime, Drama, Thriller]   \n",
       "4           [Action, Adventure, Science Fiction]   \n",
       "\n",
       "                                            keywords  \\\n",
       "0  [culture clash, future, space war, space colon...   \n",
       "1  [ocean, drug abuse, exotic island, east india ...   \n",
       "2  [spy, based on novel, secret agent, sequel, mi...   \n",
       "3  [dc comics, crime fighter, terrorist, secret i...   \n",
       "4  [based on novel, mars, medallion, space travel...   \n",
       "\n",
       "                                               cast  \\\n",
       "0  [Sam Worthington, Zoe Saldana, Sigourney Weaver]   \n",
       "1     [Johnny Depp, Orlando Bloom, Keira Knightley]   \n",
       "2      [Daniel Craig, Christoph Waltz, Léa Seydoux]   \n",
       "3      [Christian Bale, Michael Caine, Gary Oldman]   \n",
       "4    [Taylor Kitsch, Lynn Collins, Samantha Morton]   \n",
       "\n",
       "                                                crew  \n",
       "0  [{\"credit_id\": \"52fe48009251416c750aca23\", \"de...  \n",
       "1  [{\"credit_id\": \"52fe4232c3a36847f800b579\", \"de...  \n",
       "2  [{\"credit_id\": \"54805967c3a36829b5002c41\", \"de...  \n",
       "3  [{\"credit_id\": \"52fe4781c3a36847f81398c3\", \"de...  \n",
       "4  [{\"credit_id\": \"52fe479ac3a36847f813eaa3\", \"de...  "
      ]
     },
     "execution_count": 33,
     "metadata": {},
     "output_type": "execute_result"
    }
   ],
   "source": [
    "movies['cast'] = movies['cast'].apply(convert_cast)\n",
    "movies.head()"
   ]
  },
  {
   "cell_type": "code",
   "execution_count": 34,
   "metadata": {},
   "outputs": [
    {
     "data": {
      "text/plain": [
       "'[{\"credit_id\": \"52fe48009251416c750aca23\", \"department\": \"Editing\", \"gender\": 0, \"id\": 1721, \"job\": \"Editor\", \"name\": \"Stephen E. Rivkin\"}, {\"credit_id\": \"539c47ecc3a36810e3001f87\", \"department\": \"Art\", \"gender\": 2, \"id\": 496, \"job\": \"Production Design\", \"name\": \"Rick Carter\"}, {\"credit_id\": \"54491c89c3a3680fb4001cf7\", \"department\": \"Sound\", \"gender\": 0, \"id\": 900, \"job\": \"Sound Designer\", \"name\": \"Christopher Boyes\"}, {\"credit_id\": \"54491cb70e0a267480001bd0\", \"department\": \"Sound\", \"gender\": 0, \"id\": 900, \"job\": \"Supervising Sound Editor\", \"name\": \"Christopher Boyes\"}, {\"credit_id\": \"539c4a4cc3a36810c9002101\", \"department\": \"Production\", \"gender\": 1, \"id\": 1262, \"job\": \"Casting\", \"name\": \"Mali Finn\"}, {\"credit_id\": \"5544ee3b925141499f0008fc\", \"department\": \"Sound\", \"gender\": 2, \"id\": 1729, \"job\": \"Original Music Composer\", \"name\": \"James Horner\"}, {\"credit_id\": \"52fe48009251416c750ac9c3\", \"department\": \"Directing\", \"gender\": 2, \"id\": 2710, \"job\": \"Director\", \"name\": \"James Cameron\"}, {\"credit_id\": \"52fe48009251416c750ac9d9\", \"department\": \"Writing\", \"gender\": 2, \"id\": 2710, \"job\": \"Writer\", \"name\": \"James Cameron\"}, {\"credit_id\": \"52fe48009251416c750aca17\", \"department\": \"Editing\", \"gender\": 2, \"id\": 2710, \"job\": \"Editor\", \"name\": \"James Cameron\"}, {\"credit_id\": \"52fe48009251416c750aca29\", \"department\": \"Production\", \"gender\": 2, \"id\": 2710, \"job\": \"Producer\", \"name\": \"James Cameron\"}, {\"credit_id\": \"52fe48009251416c750aca3f\", \"department\": \"Writing\", \"gender\": 2, \"id\": 2710, \"job\": \"Screenplay\", \"name\": \"James Cameron\"}, {\"credit_id\": \"539c4987c3a36810ba0021a4\", \"department\": \"Art\", \"gender\": 2, \"id\": 7236, \"job\": \"Art Direction\", \"name\": \"Andrew Menzies\"}, {\"credit_id\": \"549598c3c3a3686ae9004383\", \"department\": \"Visual Effects\", \"gender\": 0, \"id\": 6690, \"job\": \"Visual Effects Producer\", \"name\": \"Jill Brooks\"}, {\"credit_id\": \"52fe48009251416c750aca4b\", \"department\": \"Production\", \"gender\": 1, \"id\": 6347, \"job\": \"Casting\", \"name\": \"Margery Simkin\"}, {\"credit_id\": \"570b6f419251417da70032fe\", \"department\": \"Art\", \"gender\": 2, \"id\": 6878, \"job\": \"Supervising Art Director\", \"name\": \"Kevin Ishioka\"}, {\"credit_id\": \"5495a0fac3a3686ae9004468\", \"department\": \"Sound\", \"gender\": 0, \"id\": 6883, \"job\": \"Music Editor\", \"name\": \"Dick Bernstein\"}, {\"credit_id\": \"54959706c3a3686af3003e81\", \"department\": \"Sound\", \"gender\": 0, \"id\": 8159, \"job\": \"Sound Effects Editor\", \"name\": \"Shannon Mills\"}, {\"credit_id\": \"54491d58c3a3680fb1001ccb\", \"department\": \"Sound\", \"gender\": 0, \"id\": 8160, \"job\": \"Foley\", \"name\": \"Dennie Thorpe\"}, {\"credit_id\": \"54491d6cc3a3680fa5001b2c\", \"department\": \"Sound\", \"gender\": 0, \"id\": 8163, \"job\": \"Foley\", \"name\": \"Jana Vance\"}, {\"credit_id\": \"52fe48009251416c750aca57\", \"department\": \"Costume & Make-Up\", \"gender\": 1, \"id\": 8527, \"job\": \"Costume Design\", \"name\": \"Deborah Lynn Scott\"}, {\"credit_id\": \"52fe48009251416c750aca2f\", \"department\": \"Production\", \"gender\": 2, \"id\": 8529, \"job\": \"Producer\", \"name\": \"Jon Landau\"}, {\"credit_id\": \"539c4937c3a36810ba002194\", \"department\": \"Art\", \"gender\": 0, \"id\": 9618, \"job\": \"Art Direction\", \"name\": \"Sean Haworth\"}, {\"credit_id\": \"539c49b6c3a36810c10020e6\", \"department\": \"Art\", \"gender\": 1, \"id\": 12653, \"job\": \"Set Decoration\", \"name\": \"Kim Sinclair\"}, {\"credit_id\": \"570b6f2f9251413a0e00020d\", \"department\": \"Art\", \"gender\": 1, \"id\": 12653, \"job\": \"Supervising Art Director\", \"name\": \"Kim Sinclair\"}, {\"credit_id\": \"54491a6c0e0a26748c001b19\", \"department\": \"Art\", \"gender\": 2, \"id\": 14350, \"job\": \"Set Designer\", \"name\": \"Richard F. Mays\"}, {\"credit_id\": \"56928cf4c3a3684cff0025c4\", \"department\": \"Production\", \"gender\": 1, \"id\": 20294, \"job\": \"Executive Producer\", \"name\": \"Laeta Kalogridis\"}, {\"credit_id\": \"52fe48009251416c750aca51\", \"department\": \"Costume & Make-Up\", \"gender\": 0, \"id\": 17675, \"job\": \"Costume Design\", \"name\": \"Mayes C. Rubeo\"}, {\"credit_id\": \"52fe48009251416c750aca11\", \"department\": \"Camera\", \"gender\": 2, \"id\": 18265, \"job\": \"Director of Photography\", \"name\": \"Mauro Fiore\"}, {\"credit_id\": \"5449194d0e0a26748f001b39\", \"department\": \"Art\", \"gender\": 0, \"id\": 42281, \"job\": \"Set Designer\", \"name\": \"Scott Herbertson\"}, {\"credit_id\": \"52fe48009251416c750aca05\", \"department\": \"Crew\", \"gender\": 0, \"id\": 42288, \"job\": \"Stunts\", \"name\": \"Woody Schultz\"}, {\"credit_id\": \"5592aefb92514152de0010f5\", \"department\": \"Costume & Make-Up\", \"gender\": 0, \"id\": 29067, \"job\": \"Makeup Artist\", \"name\": \"Linda DeVetta\"}, {\"credit_id\": \"5592afa492514152de00112c\", \"department\": \"Costume & Make-Up\", \"gender\": 0, \"id\": 29067, \"job\": \"Hairstylist\", \"name\": \"Linda DeVetta\"}, {\"credit_id\": \"54959ed592514130fc002e5d\", \"department\": \"Camera\", \"gender\": 2, \"id\": 33302, \"job\": \"Camera Operator\", \"name\": \"Richard Bluck\"}, {\"credit_id\": \"539c4891c3a36810ba002147\", \"department\": \"Art\", \"gender\": 2, \"id\": 33303, \"job\": \"Art Direction\", \"name\": \"Simon Bright\"}, {\"credit_id\": \"54959c069251417a81001f3a\", \"department\": \"Visual Effects\", \"gender\": 0, \"id\": 113145, \"job\": \"Visual Effects Supervisor\", \"name\": \"Richard Martin\"}, {\"credit_id\": \"54959a0dc3a3680ff5002c8d\", \"department\": \"Crew\", \"gender\": 2, \"id\": 58188, \"job\": \"Visual Effects Editor\", \"name\": \"Steve R. Moore\"}, {\"credit_id\": \"52fe48009251416c750aca1d\", \"department\": \"Editing\", \"gender\": 2, \"id\": 58871, \"job\": \"Editor\", \"name\": \"John Refoua\"}, {\"credit_id\": \"54491a4dc3a3680fc30018ca\", \"department\": \"Art\", \"gender\": 0, \"id\": 92359, \"job\": \"Set Designer\", \"name\": \"Karl J. Martin\"}, {\"credit_id\": \"52fe48009251416c750aca35\", \"department\": \"Camera\", \"gender\": 1, \"id\": 72201, \"job\": \"Director of Photography\", \"name\": \"Chiling Lin\"}, {\"credit_id\": \"52fe48009251416c750ac9ff\", \"department\": \"Crew\", \"gender\": 0, \"id\": 89714, \"job\": \"Stunts\", \"name\": \"Ilram Choi\"}, {\"credit_id\": \"54959c529251416e2b004394\", \"department\": \"Visual Effects\", \"gender\": 2, \"id\": 93214, \"job\": \"Visual Effects Supervisor\", \"name\": \"Steven Quale\"}, {\"credit_id\": \"54491edf0e0a267489001c37\", \"department\": \"Crew\", \"gender\": 1, \"id\": 122607, \"job\": \"Dialect Coach\", \"name\": \"Carla Meyer\"}, {\"credit_id\": \"539c485bc3a368653d001a3a\", \"department\": \"Art\", \"gender\": 2, \"id\": 132585, \"job\": \"Art Direction\", \"name\": \"Nick Bassett\"}, {\"credit_id\": \"539c4903c3a368653d001a74\", \"department\": \"Art\", \"gender\": 0, \"id\": 132596, \"job\": \"Art Direction\", \"name\": \"Jill Cormack\"}, {\"credit_id\": \"539c4967c3a368653d001a94\", \"department\": \"Art\", \"gender\": 0, \"id\": 132604, \"job\": \"Art Direction\", \"name\": \"Andy McLaren\"}, {\"credit_id\": \"52fe48009251416c750aca45\", \"department\": \"Crew\", \"gender\": 0, \"id\": 236696, \"job\": \"Motion Capture Artist\", \"name\": \"Terry Notary\"}, {\"credit_id\": \"54959e02c3a3680fc60027d2\", \"department\": \"Crew\", \"gender\": 2, \"id\": 956198, \"job\": \"Stunt Coordinator\", \"name\": \"Garrett Warren\"}, {\"credit_id\": \"54959ca3c3a3686ae300438c\", \"department\": \"Visual Effects\", \"gender\": 2, \"id\": 957874, \"job\": \"Visual Effects Supervisor\", \"name\": \"Jonathan Rothbart\"}, {\"credit_id\": \"570b6f519251412c74001b2f\", \"department\": \"Art\", \"gender\": 0, \"id\": 957889, \"job\": \"Supervising Art Director\", \"name\": \"Stefan Dechant\"}, {\"credit_id\": \"570b6f62c3a3680b77007460\", \"department\": \"Art\", \"gender\": 2, \"id\": 959555, \"job\": \"Supervising Art Director\", \"name\": \"Todd Cherniawsky\"}, {\"credit_id\": \"539c4a3ac3a36810da0021cc\", \"department\": \"Production\", \"gender\": 0, \"id\": 1016177, \"job\": \"Casting\", \"name\": \"Miranda Rivers\"}, {\"credit_id\": \"539c482cc3a36810c1002062\", \"department\": \"Art\", \"gender\": 0, \"id\": 1032536, \"job\": \"Production Design\", \"name\": \"Robert Stromberg\"}, {\"credit_id\": \"539c4b65c3a36810c9002125\", \"department\": \"Costume & Make-Up\", \"gender\": 2, \"id\": 1071680, \"job\": \"Costume Design\", \"name\": \"John Harding\"}, {\"credit_id\": \"54959e6692514130fc002e4e\", \"department\": \"Camera\", \"gender\": 0, \"id\": 1177364, \"job\": \"Steadicam Operator\", \"name\": \"Roberto De Angelis\"}, {\"credit_id\": \"539c49f1c3a368653d001aac\", \"department\": \"Costume & Make-Up\", \"gender\": 2, \"id\": 1202850, \"job\": \"Makeup Department Head\", \"name\": \"Mike Smithson\"}, {\"credit_id\": \"5495999ec3a3686ae100460c\", \"department\": \"Visual Effects\", \"gender\": 0, \"id\": 1204668, \"job\": \"Visual Effects Producer\", \"name\": \"Alain Lalanne\"}, {\"credit_id\": \"54959cdfc3a3681153002729\", \"department\": \"Visual Effects\", \"gender\": 0, \"id\": 1206410, \"job\": \"Visual Effects Supervisor\", \"name\": \"Lucas Salton\"}, {\"credit_id\": \"549596239251417a81001eae\", \"department\": \"Crew\", \"gender\": 0, \"id\": 1234266, \"job\": \"Post Production Supervisor\", \"name\": \"Janace Tashjian\"}, {\"credit_id\": \"54959c859251416e1e003efe\", \"department\": \"Visual Effects\", \"gender\": 0, \"id\": 1271932, \"job\": \"Visual Effects Supervisor\", \"name\": \"Stephen Rosenbaum\"}, {\"credit_id\": \"5592af28c3a368775a00105f\", \"department\": \"Costume & Make-Up\", \"gender\": 0, \"id\": 1310064, \"job\": \"Makeup Artist\", \"name\": \"Frankie Karena\"}, {\"credit_id\": \"539c4adfc3a36810e300203b\", \"department\": \"Costume & Make-Up\", \"gender\": 1, \"id\": 1319844, \"job\": \"Costume Supervisor\", \"name\": \"Lisa Lovaas\"}, {\"credit_id\": \"54959b579251416e2b004371\", \"department\": \"Visual Effects\", \"gender\": 0, \"id\": 1327028, \"job\": \"Visual Effects Supervisor\", \"name\": \"Jonathan Fawkner\"}, {\"credit_id\": \"539c48a7c3a36810b5001fa7\", \"department\": \"Art\", \"gender\": 0, \"id\": 1330561, \"job\": \"Art Direction\", \"name\": \"Robert Bavin\"}, {\"credit_id\": \"539c4a71c3a36810da0021e0\", \"department\": \"Costume & Make-Up\", \"gender\": 0, \"id\": 1330567, \"job\": \"Costume Supervisor\", \"name\": \"Anthony Almaraz\"}, {\"credit_id\": \"539c4a8ac3a36810ba0021e4\", \"department\": \"Costume & Make-Up\", \"gender\": 0, \"id\": 1330570, \"job\": \"Costume Supervisor\", \"name\": \"Carolyn M. Fenton\"}, {\"credit_id\": \"539c4ab6c3a36810da0021f0\", \"department\": \"Costume & Make-Up\", \"gender\": 0, \"id\": 1330574, \"job\": \"Costume Supervisor\", \"name\": \"Beth Koenigsberg\"}, {\"credit_id\": \"54491ab70e0a267480001ba2\", \"department\": \"Art\", \"gender\": 0, \"id\": 1336191, \"job\": \"Set Designer\", \"name\": \"Sam Page\"}, {\"credit_id\": \"544919d9c3a3680fc30018bd\", \"department\": \"Art\", \"gender\": 0, \"id\": 1339441, \"job\": \"Set Designer\", \"name\": \"Tex Kadonaga\"}, {\"credit_id\": \"54491cf50e0a267483001b0c\", \"department\": \"Editing\", \"gender\": 0, \"id\": 1352422, \"job\": \"Dialogue Editor\", \"name\": \"Kim Foscato\"}, {\"credit_id\": \"544919f40e0a26748c001b09\", \"department\": \"Art\", \"gender\": 0, \"id\": 1352962, \"job\": \"Set Designer\", \"name\": \"Tammy S. Lee\"}, {\"credit_id\": \"5495a115c3a3680ff5002d71\", \"department\": \"Crew\", \"gender\": 0, \"id\": 1357070, \"job\": \"Transportation Coordinator\", \"name\": \"Denny Caira\"}, {\"credit_id\": \"5495a12f92514130fc002e94\", \"department\": \"Crew\", \"gender\": 0, \"id\": 1357071, \"job\": \"Transportation Coordinator\", \"name\": \"James Waitkus\"}, {\"credit_id\": \"5495976fc3a36811530026b0\", \"department\": \"Sound\", \"gender\": 0, \"id\": 1360103, \"job\": \"Supervising Sound Editor\", \"name\": \"Addison Teague\"}, {\"credit_id\": \"54491837c3a3680fb1001c5a\", \"department\": \"Art\", \"gender\": 2, \"id\": 1376887, \"job\": \"Set Designer\", \"name\": \"C. Scott Baker\"}, {\"credit_id\": \"54491878c3a3680fb4001c9d\", \"department\": \"Art\", \"gender\": 0, \"id\": 1376888, \"job\": \"Set Designer\", \"name\": \"Luke Caska\"}, {\"credit_id\": \"544918dac3a3680fa5001ae0\", \"department\": \"Art\", \"gender\": 0, \"id\": 1376889, \"job\": \"Set Designer\", \"name\": \"David Chow\"}, {\"credit_id\": \"544919110e0a267486001b68\", \"department\": \"Art\", \"gender\": 0, \"id\": 1376890, \"job\": \"Set Designer\", \"name\": \"Jonathan Dyer\"}, {\"credit_id\": \"54491967c3a3680faa001b5e\", \"department\": \"Art\", \"gender\": 0, \"id\": 1376891, \"job\": \"Set Designer\", \"name\": \"Joseph Hiura\"}, {\"credit_id\": \"54491997c3a3680fb1001c8a\", \"department\": \"Art\", \"gender\": 0, \"id\": 1376892, \"job\": \"Art Department Coordinator\", \"name\": \"Rebecca Jellie\"}, {\"credit_id\": \"544919ba0e0a26748f001b42\", \"department\": \"Art\", \"gender\": 0, \"id\": 1376893, \"job\": \"Set Designer\", \"name\": \"Robert Andrew Johnson\"}, {\"credit_id\": \"54491b1dc3a3680faa001b8c\", \"department\": \"Art\", \"gender\": 0, \"id\": 1376895, \"job\": \"Assistant Art Director\", \"name\": \"Mike Stassi\"}, {\"credit_id\": \"54491b79c3a3680fbb001826\", \"department\": \"Art\", \"gender\": 0, \"id\": 1376897, \"job\": \"Construction Coordinator\", \"name\": \"John Villarino\"}, {\"credit_id\": \"54491baec3a3680fb4001ce6\", \"department\": \"Art\", \"gender\": 2, \"id\": 1376898, \"job\": \"Assistant Art Director\", \"name\": \"Jeffrey Wisniewski\"}, {\"credit_id\": \"54491d2fc3a3680fb4001d07\", \"department\": \"Editing\", \"gender\": 0, \"id\": 1376899, \"job\": \"Dialogue Editor\", \"name\": \"Cheryl Nardi\"}, {\"credit_id\": \"54491d86c3a3680fa5001b2f\", \"department\": \"Editing\", \"gender\": 0, \"id\": 1376901, \"job\": \"Dialogue Editor\", \"name\": \"Marshall Winn\"}, {\"credit_id\": \"54491d9dc3a3680faa001bb0\", \"department\": \"Sound\", \"gender\": 0, \"id\": 1376902, \"job\": \"Supervising Sound Editor\", \"name\": \"Gwendolyn Yates Whittle\"}, {\"credit_id\": \"54491dc10e0a267486001bce\", \"department\": \"Sound\", \"gender\": 0, \"id\": 1376903, \"job\": \"Sound Re-Recording Mixer\", \"name\": \"William Stein\"}, {\"credit_id\": \"54491f500e0a26747c001c07\", \"department\": \"Crew\", \"gender\": 0, \"id\": 1376909, \"job\": \"Choreographer\", \"name\": \"Lula Washington\"}, {\"credit_id\": \"549599239251412c4e002a2e\", \"department\": \"Visual Effects\", \"gender\": 0, \"id\": 1391692, \"job\": \"Visual Effects Producer\", \"name\": \"Chris Del Conte\"}, {\"credit_id\": \"54959d54c3a36831b8001d9a\", \"department\": \"Visual Effects\", \"gender\": 2, \"id\": 1391695, \"job\": \"Visual Effects Supervisor\", \"name\": \"R. Christopher White\"}, {\"credit_id\": \"54959bdf9251412c4e002a66\", \"department\": \"Visual Effects\", \"gender\": 0, \"id\": 1394070, \"job\": \"Visual Effects Supervisor\", \"name\": \"Dan Lemmon\"}, {\"credit_id\": \"5495971d92514132ed002922\", \"department\": \"Sound\", \"gender\": 0, \"id\": 1394129, \"job\": \"Sound Effects Editor\", \"name\": \"Tim Nielsen\"}, {\"credit_id\": \"5592b25792514152cc0011aa\", \"department\": \"Crew\", \"gender\": 0, \"id\": 1394286, \"job\": \"CG Supervisor\", \"name\": \"Michael Mulholland\"}, {\"credit_id\": \"54959a329251416e2b004355\", \"department\": \"Crew\", \"gender\": 0, \"id\": 1394750, \"job\": \"Visual Effects Editor\", \"name\": \"Thomas Nittmann\"}, {\"credit_id\": \"54959d6dc3a3686ae9004401\", \"department\": \"Visual Effects\", \"gender\": 0, \"id\": 1394755, \"job\": \"Visual Effects Supervisor\", \"name\": \"Edson Williams\"}, {\"credit_id\": \"5495a08fc3a3686ae300441c\", \"department\": \"Editing\", \"gender\": 0, \"id\": 1394953, \"job\": \"Digital Intermediate\", \"name\": \"Christine Carr\"}, {\"credit_id\": \"55402d659251413d6d000249\", \"department\": \"Visual Effects\", \"gender\": 0, \"id\": 1395269, \"job\": \"Visual Effects Supervisor\", \"name\": \"John Bruno\"}, {\"credit_id\": \"54959e7b9251416e1e003f3e\", \"department\": \"Camera\", \"gender\": 0, \"id\": 1398970, \"job\": \"Steadicam Operator\", \"name\": \"David Emmerichs\"}, {\"credit_id\": \"54959734c3a3686ae10045e0\", \"department\": \"Sound\", \"gender\": 0, \"id\": 1400906, \"job\": \"Sound Effects Editor\", \"name\": \"Christopher Scarabosio\"}, {\"credit_id\": \"549595dd92514130fc002d79\", \"department\": \"Production\", \"gender\": 0, \"id\": 1401784, \"job\": \"Production Supervisor\", \"name\": \"Jennifer Teves\"}, {\"credit_id\": \"549596009251413af70028cc\", \"department\": \"Production\", \"gender\": 0, \"id\": 1401785, \"job\": \"Production Manager\", \"name\": \"Brigitte Yorke\"}, {\"credit_id\": \"549596e892514130fc002d99\", \"department\": \"Sound\", \"gender\": 0, \"id\": 1401786, \"job\": \"Sound Effects Editor\", \"name\": \"Ken Fischer\"}, {\"credit_id\": \"549598229251412c4e002a1c\", \"department\": \"Crew\", \"gender\": 0, \"id\": 1401787, \"job\": \"Special Effects Coordinator\", \"name\": \"Iain Hutton\"}, {\"credit_id\": \"549598349251416e2b00432b\", \"department\": \"Crew\", \"gender\": 0, \"id\": 1401788, \"job\": \"Special Effects Coordinator\", \"name\": \"Steve Ingram\"}, {\"credit_id\": \"54959905c3a3686ae3004324\", \"department\": \"Visual Effects\", \"gender\": 0, \"id\": 1401789, \"job\": \"Visual Effects Producer\", \"name\": \"Joyce Cox\"}, {\"credit_id\": \"5495994b92514132ed002951\", \"department\": \"Visual Effects\", \"gender\": 0, \"id\": 1401790, \"job\": \"Visual Effects Producer\", \"name\": \"Jenny Foster\"}, {\"credit_id\": \"549599cbc3a3686ae1004613\", \"department\": \"Crew\", \"gender\": 0, \"id\": 1401791, \"job\": \"Visual Effects Editor\", \"name\": \"Christopher Marino\"}, {\"credit_id\": \"549599f2c3a3686ae100461e\", \"department\": \"Crew\", \"gender\": 0, \"id\": 1401792, \"job\": \"Visual Effects Editor\", \"name\": \"Jim Milton\"}, {\"credit_id\": \"54959a51c3a3686af3003eb5\", \"department\": \"Visual Effects\", \"gender\": 0, \"id\": 1401793, \"job\": \"Visual Effects Producer\", \"name\": \"Cyndi Ochs\"}, {\"credit_id\": \"54959a7cc3a36811530026f4\", \"department\": \"Crew\", \"gender\": 0, \"id\": 1401794, \"job\": \"Visual Effects Editor\", \"name\": \"Lucas Putnam\"}, {\"credit_id\": \"54959b91c3a3680ff5002cb4\", \"department\": \"Visual Effects\", \"gender\": 0, \"id\": 1401795, \"job\": \"Visual Effects Supervisor\", \"name\": \"Anthony \\'Max\\' Ivins\"}, {\"credit_id\": \"54959bb69251412c4e002a5f\", \"department\": \"Visual Effects\", \"gender\": 0, \"id\": 1401796, \"job\": \"Visual Effects Supervisor\", \"name\": \"John Knoll\"}, {\"credit_id\": \"54959cbbc3a3686ae3004391\", \"department\": \"Visual Effects\", \"gender\": 2, \"id\": 1401799, \"job\": \"Visual Effects Supervisor\", \"name\": \"Eric Saindon\"}, {\"credit_id\": \"54959d06c3a3686ae90043f6\", \"department\": \"Visual Effects\", \"gender\": 0, \"id\": 1401800, \"job\": \"Visual Effects Supervisor\", \"name\": \"Wayne Stables\"}, {\"credit_id\": \"54959d259251416e1e003f11\", \"department\": \"Visual Effects\", \"gender\": 0, \"id\": 1401801, \"job\": \"Visual Effects Supervisor\", \"name\": \"David Stinnett\"}, {\"credit_id\": \"54959db49251413af7002975\", \"department\": \"Visual Effects\", \"gender\": 0, \"id\": 1401803, \"job\": \"Visual Effects Supervisor\", \"name\": \"Guy Williams\"}, {\"credit_id\": \"54959de4c3a3681153002750\", \"department\": \"Crew\", \"gender\": 0, \"id\": 1401804, \"job\": \"Stunt Coordinator\", \"name\": \"Stuart Thorp\"}, {\"credit_id\": \"54959ef2c3a3680fc60027f2\", \"department\": \"Lighting\", \"gender\": 0, \"id\": 1401805, \"job\": \"Best Boy Electric\", \"name\": \"Giles Coburn\"}, {\"credit_id\": \"54959f07c3a3680fc60027f9\", \"department\": \"Camera\", \"gender\": 2, \"id\": 1401806, \"job\": \"Still Photographer\", \"name\": \"Mark Fellman\"}, {\"credit_id\": \"54959f47c3a3681153002774\", \"department\": \"Lighting\", \"gender\": 0, \"id\": 1401807, \"job\": \"Lighting Technician\", \"name\": \"Scott Sprague\"}, {\"credit_id\": \"54959f8cc3a36831b8001df2\", \"department\": \"Visual Effects\", \"gender\": 0, \"id\": 1401808, \"job\": \"Animation Director\", \"name\": \"Jeremy Hollobon\"}, {\"credit_id\": \"54959fa0c3a36831b8001dfb\", \"department\": \"Visual Effects\", \"gender\": 0, \"id\": 1401809, \"job\": \"Animation Director\", \"name\": \"Orlando Meunier\"}, {\"credit_id\": \"54959fb6c3a3686af3003f54\", \"department\": \"Visual Effects\", \"gender\": 0, \"id\": 1401810, \"job\": \"Animation Director\", \"name\": \"Taisuke Tanimura\"}, {\"credit_id\": \"54959fd2c3a36831b8001e02\", \"department\": \"Costume & Make-Up\", \"gender\": 0, \"id\": 1401812, \"job\": \"Set Costumer\", \"name\": \"Lilia Mishel Acevedo\"}, {\"credit_id\": \"54959ff9c3a3686ae300440c\", \"department\": \"Costume & Make-Up\", \"gender\": 0, \"id\": 1401814, \"job\": \"Set Costumer\", \"name\": \"Alejandro M. Hernandez\"}, {\"credit_id\": \"5495a0ddc3a3686ae10046fe\", \"department\": \"Editing\", \"gender\": 0, \"id\": 1401815, \"job\": \"Digital Intermediate\", \"name\": \"Marvin Hall\"}, {\"credit_id\": \"5495a1f7c3a3686ae3004443\", \"department\": \"Production\", \"gender\": 0, \"id\": 1401816, \"job\": \"Publicist\", \"name\": \"Judy Alley\"}, {\"credit_id\": \"5592b29fc3a36869d100002f\", \"department\": \"Crew\", \"gender\": 0, \"id\": 1418381, \"job\": \"CG Supervisor\", \"name\": \"Mike Perry\"}, {\"credit_id\": \"5592b23a9251415df8001081\", \"department\": \"Crew\", \"gender\": 0, \"id\": 1426854, \"job\": \"CG Supervisor\", \"name\": \"Andrew Morley\"}, {\"credit_id\": \"55491e1192514104c40002d8\", \"department\": \"Art\", \"gender\": 0, \"id\": 1438901, \"job\": \"Conceptual Design\", \"name\": \"Seth Engstrom\"}, {\"credit_id\": \"5525d5809251417276002b06\", \"department\": \"Crew\", \"gender\": 0, \"id\": 1447362, \"job\": \"Visual Effects Art Director\", \"name\": \"Eric Oliver\"}, {\"credit_id\": \"554427ca925141586500312a\", \"department\": \"Visual Effects\", \"gender\": 0, \"id\": 1447503, \"job\": \"Modeling\", \"name\": \"Matsune Suzuki\"}, {\"credit_id\": \"551906889251415aab001c88\", \"department\": \"Art\", \"gender\": 0, \"id\": 1447524, \"job\": \"Art Department Manager\", \"name\": \"Paul Tobin\"}, {\"credit_id\": \"5592af8492514152cc0010de\", \"department\": \"Costume & Make-Up\", \"gender\": 0, \"id\": 1452643, \"job\": \"Hairstylist\", \"name\": \"Roxane Griffin\"}, {\"credit_id\": \"553d3c109251415852001318\", \"department\": \"Lighting\", \"gender\": 0, \"id\": 1453938, \"job\": \"Lighting Artist\", \"name\": \"Arun Ram-Mohan\"}, {\"credit_id\": \"5592af4692514152d5001355\", \"department\": \"Costume & Make-Up\", \"gender\": 0, \"id\": 1457305, \"job\": \"Makeup Artist\", \"name\": \"Georgia Lockhart-Adams\"}, {\"credit_id\": \"5592b2eac3a36877470012a5\", \"department\": \"Crew\", \"gender\": 0, \"id\": 1466035, \"job\": \"CG Supervisor\", \"name\": \"Thrain Shadbolt\"}, {\"credit_id\": \"5592b032c3a36877450015f1\", \"department\": \"Crew\", \"gender\": 0, \"id\": 1483220, \"job\": \"CG Supervisor\", \"name\": \"Brad Alexander\"}, {\"credit_id\": \"5592b05592514152d80012f6\", \"department\": \"Crew\", \"gender\": 0, \"id\": 1483221, \"job\": \"CG Supervisor\", \"name\": \"Shadi Almassizadeh\"}, {\"credit_id\": \"5592b090c3a36877570010b5\", \"department\": \"Crew\", \"gender\": 0, \"id\": 1483222, \"job\": \"CG Supervisor\", \"name\": \"Simon Clutterbuck\"}, {\"credit_id\": \"5592b0dbc3a368774b00112c\", \"department\": \"Crew\", \"gender\": 0, \"id\": 1483223, \"job\": \"CG Supervisor\", \"name\": \"Graeme Demmocks\"}, {\"credit_id\": \"5592b0fe92514152db0010c1\", \"department\": \"Crew\", \"gender\": 0, \"id\": 1483224, \"job\": \"CG Supervisor\", \"name\": \"Adrian Fernandes\"}, {\"credit_id\": \"5592b11f9251415df8001059\", \"department\": \"Crew\", \"gender\": 0, \"id\": 1483225, \"job\": \"CG Supervisor\", \"name\": \"Mitch Gates\"}, {\"credit_id\": \"5592b15dc3a3687745001645\", \"department\": \"Crew\", \"gender\": 0, \"id\": 1483226, \"job\": \"CG Supervisor\", \"name\": \"Jerry Kung\"}, {\"credit_id\": \"5592b18e925141645a0004ae\", \"department\": \"Crew\", \"gender\": 0, \"id\": 1483227, \"job\": \"CG Supervisor\", \"name\": \"Andy Lomas\"}, {\"credit_id\": \"5592b1bfc3a368775d0010e7\", \"department\": \"Crew\", \"gender\": 0, \"id\": 1483228, \"job\": \"CG Supervisor\", \"name\": \"Sebastian Marino\"}, {\"credit_id\": \"5592b2049251415df8001078\", \"department\": \"Crew\", \"gender\": 0, \"id\": 1483229, \"job\": \"CG Supervisor\", \"name\": \"Matthias Menz\"}, {\"credit_id\": \"5592b27b92514152d800136a\", \"department\": \"Crew\", \"gender\": 0, \"id\": 1483230, \"job\": \"CG Supervisor\", \"name\": \"Sergei Nevshupov\"}, {\"credit_id\": \"5592b2c3c3a36869e800003c\", \"department\": \"Crew\", \"gender\": 0, \"id\": 1483231, \"job\": \"CG Supervisor\", \"name\": \"Philippe Rebours\"}, {\"credit_id\": \"5592b317c3a36877470012af\", \"department\": \"Crew\", \"gender\": 0, \"id\": 1483232, \"job\": \"CG Supervisor\", \"name\": \"Michael Takarangi\"}, {\"credit_id\": \"5592b345c3a36877470012bb\", \"department\": \"Crew\", \"gender\": 0, \"id\": 1483233, \"job\": \"CG Supervisor\", \"name\": \"David Weitzberg\"}, {\"credit_id\": \"5592b37cc3a368775100113b\", \"department\": \"Crew\", \"gender\": 0, \"id\": 1483234, \"job\": \"CG Supervisor\", \"name\": \"Ben White\"}, {\"credit_id\": \"573c8e2f9251413f5d000094\", \"department\": \"Crew\", \"gender\": 1, \"id\": 1621932, \"job\": \"Stunts\", \"name\": \"Min Windle\"}]'"
      ]
     },
     "execution_count": 34,
     "metadata": {},
     "output_type": "execute_result"
    }
   ],
   "source": [
    "# handle crew\n",
    "\n",
    "movies.iloc[0]['crew']"
   ]
  },
  {
   "cell_type": "code",
   "execution_count": 35,
   "metadata": {},
   "outputs": [],
   "source": [
    "def fetch_director(text):\n",
    "    L = []\n",
    "    for i in ast.literal_eval(text):\n",
    "        if i['job'] == 'Director':\n",
    "            L.append(i['name'])\n",
    "            break\n",
    "    return L"
   ]
  },
  {
   "cell_type": "code",
   "execution_count": 36,
   "metadata": {},
   "outputs": [
    {
     "name": "stderr",
     "output_type": "stream",
     "text": [
      "/tmp/ipykernel_120586/2884021428.py:1: SettingWithCopyWarning: \n",
      "A value is trying to be set on a copy of a slice from a DataFrame.\n",
      "Try using .loc[row_indexer,col_indexer] = value instead\n",
      "\n",
      "See the caveats in the documentation: https://pandas.pydata.org/pandas-docs/stable/user_guide/indexing.html#returning-a-view-versus-a-copy\n",
      "  movies['crew'] = movies['crew'].apply(fetch_director)\n"
     ]
    }
   ],
   "source": [
    "movies['crew'] = movies['crew'].apply(fetch_director)"
   ]
  },
  {
   "cell_type": "code",
   "execution_count": 37,
   "metadata": {},
   "outputs": [
    {
     "data": {
      "text/html": [
       "<div>\n",
       "<style scoped>\n",
       "    .dataframe tbody tr th:only-of-type {\n",
       "        vertical-align: middle;\n",
       "    }\n",
       "\n",
       "    .dataframe tbody tr th {\n",
       "        vertical-align: top;\n",
       "    }\n",
       "\n",
       "    .dataframe thead th {\n",
       "        text-align: right;\n",
       "    }\n",
       "</style>\n",
       "<table border=\"1\" class=\"dataframe\">\n",
       "  <thead>\n",
       "    <tr style=\"text-align: right;\">\n",
       "      <th></th>\n",
       "      <th>id</th>\n",
       "      <th>title</th>\n",
       "      <th>overview</th>\n",
       "      <th>genres</th>\n",
       "      <th>keywords</th>\n",
       "      <th>cast</th>\n",
       "      <th>crew</th>\n",
       "    </tr>\n",
       "  </thead>\n",
       "  <tbody>\n",
       "    <tr>\n",
       "      <th>0</th>\n",
       "      <td>19995</td>\n",
       "      <td>Avatar</td>\n",
       "      <td>In the 22nd century, a paraplegic Marine is di...</td>\n",
       "      <td>[Action, Adventure, Fantasy, Science Fiction]</td>\n",
       "      <td>[culture clash, future, space war, space colon...</td>\n",
       "      <td>[Sam Worthington, Zoe Saldana, Sigourney Weaver]</td>\n",
       "      <td>[James Cameron]</td>\n",
       "    </tr>\n",
       "    <tr>\n",
       "      <th>1</th>\n",
       "      <td>285</td>\n",
       "      <td>Pirates of the Caribbean: At World's End</td>\n",
       "      <td>Captain Barbossa, long believed to be dead, ha...</td>\n",
       "      <td>[Adventure, Fantasy, Action]</td>\n",
       "      <td>[ocean, drug abuse, exotic island, east india ...</td>\n",
       "      <td>[Johnny Depp, Orlando Bloom, Keira Knightley]</td>\n",
       "      <td>[Gore Verbinski]</td>\n",
       "    </tr>\n",
       "    <tr>\n",
       "      <th>2</th>\n",
       "      <td>206647</td>\n",
       "      <td>Spectre</td>\n",
       "      <td>A cryptic message from Bond’s past sends him o...</td>\n",
       "      <td>[Action, Adventure, Crime]</td>\n",
       "      <td>[spy, based on novel, secret agent, sequel, mi...</td>\n",
       "      <td>[Daniel Craig, Christoph Waltz, Léa Seydoux]</td>\n",
       "      <td>[Sam Mendes]</td>\n",
       "    </tr>\n",
       "    <tr>\n",
       "      <th>3</th>\n",
       "      <td>49026</td>\n",
       "      <td>The Dark Knight Rises</td>\n",
       "      <td>Following the death of District Attorney Harve...</td>\n",
       "      <td>[Action, Crime, Drama, Thriller]</td>\n",
       "      <td>[dc comics, crime fighter, terrorist, secret i...</td>\n",
       "      <td>[Christian Bale, Michael Caine, Gary Oldman]</td>\n",
       "      <td>[Christopher Nolan]</td>\n",
       "    </tr>\n",
       "    <tr>\n",
       "      <th>4</th>\n",
       "      <td>49529</td>\n",
       "      <td>John Carter</td>\n",
       "      <td>John Carter is a war-weary, former military ca...</td>\n",
       "      <td>[Action, Adventure, Science Fiction]</td>\n",
       "      <td>[based on novel, mars, medallion, space travel...</td>\n",
       "      <td>[Taylor Kitsch, Lynn Collins, Samantha Morton]</td>\n",
       "      <td>[Andrew Stanton]</td>\n",
       "    </tr>\n",
       "  </tbody>\n",
       "</table>\n",
       "</div>"
      ],
      "text/plain": [
       "       id                                     title  \\\n",
       "0   19995                                    Avatar   \n",
       "1     285  Pirates of the Caribbean: At World's End   \n",
       "2  206647                                   Spectre   \n",
       "3   49026                     The Dark Knight Rises   \n",
       "4   49529                               John Carter   \n",
       "\n",
       "                                            overview  \\\n",
       "0  In the 22nd century, a paraplegic Marine is di...   \n",
       "1  Captain Barbossa, long believed to be dead, ha...   \n",
       "2  A cryptic message from Bond’s past sends him o...   \n",
       "3  Following the death of District Attorney Harve...   \n",
       "4  John Carter is a war-weary, former military ca...   \n",
       "\n",
       "                                          genres  \\\n",
       "0  [Action, Adventure, Fantasy, Science Fiction]   \n",
       "1                   [Adventure, Fantasy, Action]   \n",
       "2                     [Action, Adventure, Crime]   \n",
       "3               [Action, Crime, Drama, Thriller]   \n",
       "4           [Action, Adventure, Science Fiction]   \n",
       "\n",
       "                                            keywords  \\\n",
       "0  [culture clash, future, space war, space colon...   \n",
       "1  [ocean, drug abuse, exotic island, east india ...   \n",
       "2  [spy, based on novel, secret agent, sequel, mi...   \n",
       "3  [dc comics, crime fighter, terrorist, secret i...   \n",
       "4  [based on novel, mars, medallion, space travel...   \n",
       "\n",
       "                                               cast                 crew  \n",
       "0  [Sam Worthington, Zoe Saldana, Sigourney Weaver]      [James Cameron]  \n",
       "1     [Johnny Depp, Orlando Bloom, Keira Knightley]     [Gore Verbinski]  \n",
       "2      [Daniel Craig, Christoph Waltz, Léa Seydoux]         [Sam Mendes]  \n",
       "3      [Christian Bale, Michael Caine, Gary Oldman]  [Christopher Nolan]  \n",
       "4    [Taylor Kitsch, Lynn Collins, Samantha Morton]     [Andrew Stanton]  "
      ]
     },
     "execution_count": 37,
     "metadata": {},
     "output_type": "execute_result"
    }
   ],
   "source": [
    "movies.head()"
   ]
  },
  {
   "cell_type": "code",
   "execution_count": 38,
   "metadata": {},
   "outputs": [
    {
     "data": {
      "text/plain": [
       "'In the 22nd century, a paraplegic Marine is dispatched to the moon Pandora on a unique mission, but becomes torn between following orders and protecting an alien civilization.'"
      ]
     },
     "execution_count": 38,
     "metadata": {},
     "output_type": "execute_result"
    }
   ],
   "source": [
    "# handle overview (converting to list)\n",
    "\n",
    "movies.iloc[0]['overview']"
   ]
  },
  {
   "cell_type": "code",
   "execution_count": 39,
   "metadata": {},
   "outputs": [
    {
     "name": "stderr",
     "output_type": "stream",
     "text": [
      "/tmp/ipykernel_120586/3260684998.py:1: SettingWithCopyWarning: \n",
      "A value is trying to be set on a copy of a slice from a DataFrame.\n",
      "Try using .loc[row_indexer,col_indexer] = value instead\n",
      "\n",
      "See the caveats in the documentation: https://pandas.pydata.org/pandas-docs/stable/user_guide/indexing.html#returning-a-view-versus-a-copy\n",
      "  movies['overview'] = movies['overview'].apply(lambda x:x.split())\n"
     ]
    },
    {
     "data": {
      "text/html": [
       "<div>\n",
       "<style scoped>\n",
       "    .dataframe tbody tr th:only-of-type {\n",
       "        vertical-align: middle;\n",
       "    }\n",
       "\n",
       "    .dataframe tbody tr th {\n",
       "        vertical-align: top;\n",
       "    }\n",
       "\n",
       "    .dataframe thead th {\n",
       "        text-align: right;\n",
       "    }\n",
       "</style>\n",
       "<table border=\"1\" class=\"dataframe\">\n",
       "  <thead>\n",
       "    <tr style=\"text-align: right;\">\n",
       "      <th></th>\n",
       "      <th>id</th>\n",
       "      <th>title</th>\n",
       "      <th>overview</th>\n",
       "      <th>genres</th>\n",
       "      <th>keywords</th>\n",
       "      <th>cast</th>\n",
       "      <th>crew</th>\n",
       "    </tr>\n",
       "  </thead>\n",
       "  <tbody>\n",
       "    <tr>\n",
       "      <th>5495</th>\n",
       "      <td>1025169</td>\n",
       "      <td>The Trapped 13: How We Survived The Thai Cave</td>\n",
       "      <td>[In, this, compelling, documentary,, members, ...</td>\n",
       "      <td>[Documentary]</td>\n",
       "      <td>[]</td>\n",
       "      <td>[Ekapol Chanthawong, Ei Khan, Panumas Sangdee]</td>\n",
       "      <td>[Pailin Wedel]</td>\n",
       "    </tr>\n",
       "    <tr>\n",
       "      <th>2590</th>\n",
       "      <td>15511</td>\n",
       "      <td>VeggieTales: The Pirates Who Don't Do Anything</td>\n",
       "      <td>[Set, Sail, For, Adventure!, A, boatload, of, ...</td>\n",
       "      <td>[Adventure, Animation, Comedy, Science Fiction...</td>\n",
       "      <td>[brother brother relationship, hostage, vegeta...</td>\n",
       "      <td>[Phil Vischer, Mike Nawrocki, Cam Clarke]</td>\n",
       "      <td>[Mike Nawrocki]</td>\n",
       "    </tr>\n",
       "    <tr>\n",
       "      <th>4676</th>\n",
       "      <td>83588</td>\n",
       "      <td>Middle of Nowhere</td>\n",
       "      <td>['Middle, of, Nowhere', follows, a, woman, nam...</td>\n",
       "      <td>[Drama]</td>\n",
       "      <td>[prison, woman director]</td>\n",
       "      <td>[David Oyelowo, Maya Gilbert, Sharon Lawrence]</td>\n",
       "      <td>[Ava DuVernay]</td>\n",
       "    </tr>\n",
       "    <tr>\n",
       "      <th>411</th>\n",
       "      <td>22538</td>\n",
       "      <td>Scott Pilgrim vs. the World</td>\n",
       "      <td>[Scott, Pilgrim, is, a, film, adaptation, of, ...</td>\n",
       "      <td>[Action, Adventure, Comedy]</td>\n",
       "      <td>[whipping, hipster, underage girlfriend, anima...</td>\n",
       "      <td>[Michael Cera, Mary Elizabeth Winstead, Kieran...</td>\n",
       "      <td>[Edgar Wright]</td>\n",
       "    </tr>\n",
       "  </tbody>\n",
       "</table>\n",
       "</div>"
      ],
      "text/plain": [
       "           id                                           title  \\\n",
       "5495  1025169   The Trapped 13: How We Survived The Thai Cave   \n",
       "2590    15511  VeggieTales: The Pirates Who Don't Do Anything   \n",
       "4676    83588                               Middle of Nowhere   \n",
       "411     22538                     Scott Pilgrim vs. the World   \n",
       "\n",
       "                                               overview  \\\n",
       "5495  [In, this, compelling, documentary,, members, ...   \n",
       "2590  [Set, Sail, For, Adventure!, A, boatload, of, ...   \n",
       "4676  ['Middle, of, Nowhere', follows, a, woman, nam...   \n",
       "411   [Scott, Pilgrim, is, a, film, adaptation, of, ...   \n",
       "\n",
       "                                                 genres  \\\n",
       "5495                                      [Documentary]   \n",
       "2590  [Adventure, Animation, Comedy, Science Fiction...   \n",
       "4676                                            [Drama]   \n",
       "411                         [Action, Adventure, Comedy]   \n",
       "\n",
       "                                               keywords  \\\n",
       "5495                                                 []   \n",
       "2590  [brother brother relationship, hostage, vegeta...   \n",
       "4676                           [prison, woman director]   \n",
       "411   [whipping, hipster, underage girlfriend, anima...   \n",
       "\n",
       "                                                   cast             crew  \n",
       "5495     [Ekapol Chanthawong, Ei Khan, Panumas Sangdee]   [Pailin Wedel]  \n",
       "2590          [Phil Vischer, Mike Nawrocki, Cam Clarke]  [Mike Nawrocki]  \n",
       "4676     [David Oyelowo, Maya Gilbert, Sharon Lawrence]   [Ava DuVernay]  \n",
       "411   [Michael Cera, Mary Elizabeth Winstead, Kieran...   [Edgar Wright]  "
      ]
     },
     "execution_count": 39,
     "metadata": {},
     "output_type": "execute_result"
    }
   ],
   "source": [
    "movies['overview'] = movies['overview'].apply(lambda x:x.split())\n",
    "movies.sample(4)"
   ]
  },
  {
   "cell_type": "code",
   "execution_count": 40,
   "metadata": {},
   "outputs": [
    {
     "data": {
      "text/plain": [
       "['In',\n",
       " 'the',\n",
       " '22nd',\n",
       " 'century,',\n",
       " 'a',\n",
       " 'paraplegic',\n",
       " 'Marine',\n",
       " 'is',\n",
       " 'dispatched',\n",
       " 'to',\n",
       " 'the',\n",
       " 'moon',\n",
       " 'Pandora',\n",
       " 'on',\n",
       " 'a',\n",
       " 'unique',\n",
       " 'mission,',\n",
       " 'but',\n",
       " 'becomes',\n",
       " 'torn',\n",
       " 'between',\n",
       " 'following',\n",
       " 'orders',\n",
       " 'and',\n",
       " 'protecting',\n",
       " 'an',\n",
       " 'alien',\n",
       " 'civilization.']"
      ]
     },
     "execution_count": 40,
     "metadata": {},
     "output_type": "execute_result"
    }
   ],
   "source": [
    "movies.iloc[0]['overview']"
   ]
  },
  {
   "cell_type": "code",
   "execution_count": 41,
   "metadata": {},
   "outputs": [],
   "source": [
    "# now removing space like that \n",
    "'John Smith'\n",
    "'JohnSmith'\n",
    "\n",
    "def remove_space(L):\n",
    "    L1 = []\n",
    "    for i in L:\n",
    "        L1.append(i.replace(\" \",\"\"))\n",
    "    return L1"
   ]
  },
  {
   "cell_type": "code",
   "execution_count": 44,
   "metadata": {},
   "outputs": [],
   "source": [
    "\n",
    "movies['cast'] = movies['cast'].apply(remove_space)\n",
    "movies['crew'] = movies['crew'].apply(remove_space)\n",
    "movies['genres'] = movies['genres'].apply(remove_space)\n",
    "movies['keywords'] = movies['keywords'].apply(remove_space)"
   ]
  },
  {
   "cell_type": "code",
   "execution_count": 45,
   "metadata": {},
   "outputs": [
    {
     "data": {
      "text/html": [
       "<div>\n",
       "<style scoped>\n",
       "    .dataframe tbody tr th:only-of-type {\n",
       "        vertical-align: middle;\n",
       "    }\n",
       "\n",
       "    .dataframe tbody tr th {\n",
       "        vertical-align: top;\n",
       "    }\n",
       "\n",
       "    .dataframe thead th {\n",
       "        text-align: right;\n",
       "    }\n",
       "</style>\n",
       "<table border=\"1\" class=\"dataframe\">\n",
       "  <thead>\n",
       "    <tr style=\"text-align: right;\">\n",
       "      <th></th>\n",
       "      <th>id</th>\n",
       "      <th>title</th>\n",
       "      <th>overview</th>\n",
       "      <th>genres</th>\n",
       "      <th>keywords</th>\n",
       "      <th>cast</th>\n",
       "      <th>crew</th>\n",
       "    </tr>\n",
       "  </thead>\n",
       "  <tbody>\n",
       "    <tr>\n",
       "      <th>0</th>\n",
       "      <td>19995</td>\n",
       "      <td>Avatar</td>\n",
       "      <td>[In, the, 22nd, century,, a, paraplegic, Marin...</td>\n",
       "      <td>[Action, Adventure, Fantasy, ScienceFiction]</td>\n",
       "      <td>[cultureclash, future, spacewar, spacecolony, ...</td>\n",
       "      <td>[SamWorthington, ZoeSaldana, SigourneyWeaver]</td>\n",
       "      <td>[JamesCameron]</td>\n",
       "    </tr>\n",
       "    <tr>\n",
       "      <th>1</th>\n",
       "      <td>285</td>\n",
       "      <td>Pirates of the Caribbean: At World's End</td>\n",
       "      <td>[Captain, Barbossa,, long, believed, to, be, d...</td>\n",
       "      <td>[Adventure, Fantasy, Action]</td>\n",
       "      <td>[ocean, drugabuse, exoticisland, eastindiatrad...</td>\n",
       "      <td>[JohnnyDepp, OrlandoBloom, KeiraKnightley]</td>\n",
       "      <td>[GoreVerbinski]</td>\n",
       "    </tr>\n",
       "    <tr>\n",
       "      <th>2</th>\n",
       "      <td>206647</td>\n",
       "      <td>Spectre</td>\n",
       "      <td>[A, cryptic, message, from, Bond’s, past, send...</td>\n",
       "      <td>[Action, Adventure, Crime]</td>\n",
       "      <td>[spy, basedonnovel, secretagent, sequel, mi6, ...</td>\n",
       "      <td>[DanielCraig, ChristophWaltz, LéaSeydoux]</td>\n",
       "      <td>[SamMendes]</td>\n",
       "    </tr>\n",
       "    <tr>\n",
       "      <th>3</th>\n",
       "      <td>49026</td>\n",
       "      <td>The Dark Knight Rises</td>\n",
       "      <td>[Following, the, death, of, District, Attorney...</td>\n",
       "      <td>[Action, Crime, Drama, Thriller]</td>\n",
       "      <td>[dccomics, crimefighter, terrorist, secretiden...</td>\n",
       "      <td>[ChristianBale, MichaelCaine, GaryOldman]</td>\n",
       "      <td>[ChristopherNolan]</td>\n",
       "    </tr>\n",
       "    <tr>\n",
       "      <th>4</th>\n",
       "      <td>49529</td>\n",
       "      <td>John Carter</td>\n",
       "      <td>[John, Carter, is, a, war-weary,, former, mili...</td>\n",
       "      <td>[Action, Adventure, ScienceFiction]</td>\n",
       "      <td>[basedonnovel, mars, medallion, spacetravel, p...</td>\n",
       "      <td>[TaylorKitsch, LynnCollins, SamanthaMorton]</td>\n",
       "      <td>[AndrewStanton]</td>\n",
       "    </tr>\n",
       "  </tbody>\n",
       "</table>\n",
       "</div>"
      ],
      "text/plain": [
       "       id                                     title  \\\n",
       "0   19995                                    Avatar   \n",
       "1     285  Pirates of the Caribbean: At World's End   \n",
       "2  206647                                   Spectre   \n",
       "3   49026                     The Dark Knight Rises   \n",
       "4   49529                               John Carter   \n",
       "\n",
       "                                            overview  \\\n",
       "0  [In, the, 22nd, century,, a, paraplegic, Marin...   \n",
       "1  [Captain, Barbossa,, long, believed, to, be, d...   \n",
       "2  [A, cryptic, message, from, Bond’s, past, send...   \n",
       "3  [Following, the, death, of, District, Attorney...   \n",
       "4  [John, Carter, is, a, war-weary,, former, mili...   \n",
       "\n",
       "                                         genres  \\\n",
       "0  [Action, Adventure, Fantasy, ScienceFiction]   \n",
       "1                  [Adventure, Fantasy, Action]   \n",
       "2                    [Action, Adventure, Crime]   \n",
       "3              [Action, Crime, Drama, Thriller]   \n",
       "4           [Action, Adventure, ScienceFiction]   \n",
       "\n",
       "                                            keywords  \\\n",
       "0  [cultureclash, future, spacewar, spacecolony, ...   \n",
       "1  [ocean, drugabuse, exoticisland, eastindiatrad...   \n",
       "2  [spy, basedonnovel, secretagent, sequel, mi6, ...   \n",
       "3  [dccomics, crimefighter, terrorist, secretiden...   \n",
       "4  [basedonnovel, mars, medallion, spacetravel, p...   \n",
       "\n",
       "                                            cast                crew  \n",
       "0  [SamWorthington, ZoeSaldana, SigourneyWeaver]      [JamesCameron]  \n",
       "1     [JohnnyDepp, OrlandoBloom, KeiraKnightley]     [GoreVerbinski]  \n",
       "2      [DanielCraig, ChristophWaltz, LéaSeydoux]         [SamMendes]  \n",
       "3      [ChristianBale, MichaelCaine, GaryOldman]  [ChristopherNolan]  \n",
       "4    [TaylorKitsch, LynnCollins, SamanthaMorton]     [AndrewStanton]  "
      ]
     },
     "execution_count": 45,
     "metadata": {},
     "output_type": "execute_result"
    }
   ],
   "source": [
    "movies.head()"
   ]
  },
  {
   "cell_type": "code",
   "execution_count": 46,
   "metadata": {},
   "outputs": [],
   "source": [
    "# Concatinate all\n",
    "movies['tags'] = movies['overview'] + movies['genres'] + movies['keywords'] + movies['cast'] + movies['crew']"
   ]
  },
  {
   "cell_type": "code",
   "execution_count": 47,
   "metadata": {},
   "outputs": [
    {
     "data": {
      "text/html": [
       "<div>\n",
       "<style scoped>\n",
       "    .dataframe tbody tr th:only-of-type {\n",
       "        vertical-align: middle;\n",
       "    }\n",
       "\n",
       "    .dataframe tbody tr th {\n",
       "        vertical-align: top;\n",
       "    }\n",
       "\n",
       "    .dataframe thead th {\n",
       "        text-align: right;\n",
       "    }\n",
       "</style>\n",
       "<table border=\"1\" class=\"dataframe\">\n",
       "  <thead>\n",
       "    <tr style=\"text-align: right;\">\n",
       "      <th></th>\n",
       "      <th>id</th>\n",
       "      <th>title</th>\n",
       "      <th>overview</th>\n",
       "      <th>genres</th>\n",
       "      <th>keywords</th>\n",
       "      <th>cast</th>\n",
       "      <th>crew</th>\n",
       "      <th>tags</th>\n",
       "    </tr>\n",
       "  </thead>\n",
       "  <tbody>\n",
       "    <tr>\n",
       "      <th>0</th>\n",
       "      <td>19995</td>\n",
       "      <td>Avatar</td>\n",
       "      <td>[In, the, 22nd, century,, a, paraplegic, Marin...</td>\n",
       "      <td>[Action, Adventure, Fantasy, ScienceFiction]</td>\n",
       "      <td>[cultureclash, future, spacewar, spacecolony, ...</td>\n",
       "      <td>[SamWorthington, ZoeSaldana, SigourneyWeaver]</td>\n",
       "      <td>[JamesCameron]</td>\n",
       "      <td>[In, the, 22nd, century,, a, paraplegic, Marin...</td>\n",
       "    </tr>\n",
       "    <tr>\n",
       "      <th>1</th>\n",
       "      <td>285</td>\n",
       "      <td>Pirates of the Caribbean: At World's End</td>\n",
       "      <td>[Captain, Barbossa,, long, believed, to, be, d...</td>\n",
       "      <td>[Adventure, Fantasy, Action]</td>\n",
       "      <td>[ocean, drugabuse, exoticisland, eastindiatrad...</td>\n",
       "      <td>[JohnnyDepp, OrlandoBloom, KeiraKnightley]</td>\n",
       "      <td>[GoreVerbinski]</td>\n",
       "      <td>[Captain, Barbossa,, long, believed, to, be, d...</td>\n",
       "    </tr>\n",
       "    <tr>\n",
       "      <th>2</th>\n",
       "      <td>206647</td>\n",
       "      <td>Spectre</td>\n",
       "      <td>[A, cryptic, message, from, Bond’s, past, send...</td>\n",
       "      <td>[Action, Adventure, Crime]</td>\n",
       "      <td>[spy, basedonnovel, secretagent, sequel, mi6, ...</td>\n",
       "      <td>[DanielCraig, ChristophWaltz, LéaSeydoux]</td>\n",
       "      <td>[SamMendes]</td>\n",
       "      <td>[A, cryptic, message, from, Bond’s, past, send...</td>\n",
       "    </tr>\n",
       "    <tr>\n",
       "      <th>3</th>\n",
       "      <td>49026</td>\n",
       "      <td>The Dark Knight Rises</td>\n",
       "      <td>[Following, the, death, of, District, Attorney...</td>\n",
       "      <td>[Action, Crime, Drama, Thriller]</td>\n",
       "      <td>[dccomics, crimefighter, terrorist, secretiden...</td>\n",
       "      <td>[ChristianBale, MichaelCaine, GaryOldman]</td>\n",
       "      <td>[ChristopherNolan]</td>\n",
       "      <td>[Following, the, death, of, District, Attorney...</td>\n",
       "    </tr>\n",
       "    <tr>\n",
       "      <th>4</th>\n",
       "      <td>49529</td>\n",
       "      <td>John Carter</td>\n",
       "      <td>[John, Carter, is, a, war-weary,, former, mili...</td>\n",
       "      <td>[Action, Adventure, ScienceFiction]</td>\n",
       "      <td>[basedonnovel, mars, medallion, spacetravel, p...</td>\n",
       "      <td>[TaylorKitsch, LynnCollins, SamanthaMorton]</td>\n",
       "      <td>[AndrewStanton]</td>\n",
       "      <td>[John, Carter, is, a, war-weary,, former, mili...</td>\n",
       "    </tr>\n",
       "  </tbody>\n",
       "</table>\n",
       "</div>"
      ],
      "text/plain": [
       "       id                                     title  \\\n",
       "0   19995                                    Avatar   \n",
       "1     285  Pirates of the Caribbean: At World's End   \n",
       "2  206647                                   Spectre   \n",
       "3   49026                     The Dark Knight Rises   \n",
       "4   49529                               John Carter   \n",
       "\n",
       "                                            overview  \\\n",
       "0  [In, the, 22nd, century,, a, paraplegic, Marin...   \n",
       "1  [Captain, Barbossa,, long, believed, to, be, d...   \n",
       "2  [A, cryptic, message, from, Bond’s, past, send...   \n",
       "3  [Following, the, death, of, District, Attorney...   \n",
       "4  [John, Carter, is, a, war-weary,, former, mili...   \n",
       "\n",
       "                                         genres  \\\n",
       "0  [Action, Adventure, Fantasy, ScienceFiction]   \n",
       "1                  [Adventure, Fantasy, Action]   \n",
       "2                    [Action, Adventure, Crime]   \n",
       "3              [Action, Crime, Drama, Thriller]   \n",
       "4           [Action, Adventure, ScienceFiction]   \n",
       "\n",
       "                                            keywords  \\\n",
       "0  [cultureclash, future, spacewar, spacecolony, ...   \n",
       "1  [ocean, drugabuse, exoticisland, eastindiatrad...   \n",
       "2  [spy, basedonnovel, secretagent, sequel, mi6, ...   \n",
       "3  [dccomics, crimefighter, terrorist, secretiden...   \n",
       "4  [basedonnovel, mars, medallion, spacetravel, p...   \n",
       "\n",
       "                                            cast                crew  \\\n",
       "0  [SamWorthington, ZoeSaldana, SigourneyWeaver]      [JamesCameron]   \n",
       "1     [JohnnyDepp, OrlandoBloom, KeiraKnightley]     [GoreVerbinski]   \n",
       "2      [DanielCraig, ChristophWaltz, LéaSeydoux]         [SamMendes]   \n",
       "3      [ChristianBale, MichaelCaine, GaryOldman]  [ChristopherNolan]   \n",
       "4    [TaylorKitsch, LynnCollins, SamanthaMorton]     [AndrewStanton]   \n",
       "\n",
       "                                                tags  \n",
       "0  [In, the, 22nd, century,, a, paraplegic, Marin...  \n",
       "1  [Captain, Barbossa,, long, believed, to, be, d...  \n",
       "2  [A, cryptic, message, from, Bond’s, past, send...  \n",
       "3  [Following, the, death, of, District, Attorney...  \n",
       "4  [John, Carter, is, a, war-weary,, former, mili...  "
      ]
     },
     "execution_count": 47,
     "metadata": {},
     "output_type": "execute_result"
    }
   ],
   "source": [
    "movies.head()"
   ]
  },
  {
   "cell_type": "code",
   "execution_count": 49,
   "metadata": {},
   "outputs": [
    {
     "data": {
      "text/plain": [
       "['In',\n",
       " 'the',\n",
       " '22nd',\n",
       " 'century,',\n",
       " 'a',\n",
       " 'paraplegic',\n",
       " 'Marine',\n",
       " 'is',\n",
       " 'dispatched',\n",
       " 'to',\n",
       " 'the',\n",
       " 'moon',\n",
       " 'Pandora',\n",
       " 'on',\n",
       " 'a',\n",
       " 'unique',\n",
       " 'mission,',\n",
       " 'but',\n",
       " 'becomes',\n",
       " 'torn',\n",
       " 'between',\n",
       " 'following',\n",
       " 'orders',\n",
       " 'and',\n",
       " 'protecting',\n",
       " 'an',\n",
       " 'alien',\n",
       " 'civilization.',\n",
       " 'Action',\n",
       " 'Adventure',\n",
       " 'Fantasy',\n",
       " 'ScienceFiction',\n",
       " 'cultureclash',\n",
       " 'future',\n",
       " 'spacewar',\n",
       " 'spacecolony',\n",
       " 'society',\n",
       " 'spacetravel',\n",
       " 'futuristic',\n",
       " 'romance',\n",
       " 'space',\n",
       " 'alien',\n",
       " 'tribe',\n",
       " 'alienplanet',\n",
       " 'cgi',\n",
       " 'marine',\n",
       " 'soldier',\n",
       " 'battle',\n",
       " 'loveaffair',\n",
       " 'antiwar',\n",
       " 'powerrelations',\n",
       " 'mindandsoul',\n",
       " '3d',\n",
       " 'SamWorthington',\n",
       " 'ZoeSaldana',\n",
       " 'SigourneyWeaver',\n",
       " 'JamesCameron']"
      ]
     },
     "execution_count": 49,
     "metadata": {},
     "output_type": "execute_result"
    }
   ],
   "source": [
    "movies.iloc[0]['tags']"
   ]
  },
  {
   "cell_type": "code",
   "execution_count": 51,
   "metadata": {},
   "outputs": [],
   "source": [
    "# droping those extra columns\n",
    "new_df = movies[['id','title','tags']]"
   ]
  },
  {
   "cell_type": "code",
   "execution_count": 52,
   "metadata": {},
   "outputs": [
    {
     "data": {
      "text/html": [
       "<div>\n",
       "<style scoped>\n",
       "    .dataframe tbody tr th:only-of-type {\n",
       "        vertical-align: middle;\n",
       "    }\n",
       "\n",
       "    .dataframe tbody tr th {\n",
       "        vertical-align: top;\n",
       "    }\n",
       "\n",
       "    .dataframe thead th {\n",
       "        text-align: right;\n",
       "    }\n",
       "</style>\n",
       "<table border=\"1\" class=\"dataframe\">\n",
       "  <thead>\n",
       "    <tr style=\"text-align: right;\">\n",
       "      <th></th>\n",
       "      <th>id</th>\n",
       "      <th>title</th>\n",
       "      <th>tags</th>\n",
       "    </tr>\n",
       "  </thead>\n",
       "  <tbody>\n",
       "    <tr>\n",
       "      <th>0</th>\n",
       "      <td>19995</td>\n",
       "      <td>Avatar</td>\n",
       "      <td>[In, the, 22nd, century,, a, paraplegic, Marin...</td>\n",
       "    </tr>\n",
       "    <tr>\n",
       "      <th>1</th>\n",
       "      <td>285</td>\n",
       "      <td>Pirates of the Caribbean: At World's End</td>\n",
       "      <td>[Captain, Barbossa,, long, believed, to, be, d...</td>\n",
       "    </tr>\n",
       "    <tr>\n",
       "      <th>2</th>\n",
       "      <td>206647</td>\n",
       "      <td>Spectre</td>\n",
       "      <td>[A, cryptic, message, from, Bond’s, past, send...</td>\n",
       "    </tr>\n",
       "    <tr>\n",
       "      <th>3</th>\n",
       "      <td>49026</td>\n",
       "      <td>The Dark Knight Rises</td>\n",
       "      <td>[Following, the, death, of, District, Attorney...</td>\n",
       "    </tr>\n",
       "    <tr>\n",
       "      <th>4</th>\n",
       "      <td>49529</td>\n",
       "      <td>John Carter</td>\n",
       "      <td>[John, Carter, is, a, war-weary,, former, mili...</td>\n",
       "    </tr>\n",
       "  </tbody>\n",
       "</table>\n",
       "</div>"
      ],
      "text/plain": [
       "       id                                     title  \\\n",
       "0   19995                                    Avatar   \n",
       "1     285  Pirates of the Caribbean: At World's End   \n",
       "2  206647                                   Spectre   \n",
       "3   49026                     The Dark Knight Rises   \n",
       "4   49529                               John Carter   \n",
       "\n",
       "                                                tags  \n",
       "0  [In, the, 22nd, century,, a, paraplegic, Marin...  \n",
       "1  [Captain, Barbossa,, long, believed, to, be, d...  \n",
       "2  [A, cryptic, message, from, Bond’s, past, send...  \n",
       "3  [Following, the, death, of, District, Attorney...  \n",
       "4  [John, Carter, is, a, war-weary,, former, mili...  "
      ]
     },
     "execution_count": 52,
     "metadata": {},
     "output_type": "execute_result"
    }
   ],
   "source": [
    "new_df.head()"
   ]
  },
  {
   "cell_type": "code",
   "execution_count": 53,
   "metadata": {},
   "outputs": [
    {
     "data": {
      "text/html": [
       "<div>\n",
       "<style scoped>\n",
       "    .dataframe tbody tr th:only-of-type {\n",
       "        vertical-align: middle;\n",
       "    }\n",
       "\n",
       "    .dataframe tbody tr th {\n",
       "        vertical-align: top;\n",
       "    }\n",
       "\n",
       "    .dataframe thead th {\n",
       "        text-align: right;\n",
       "    }\n",
       "</style>\n",
       "<table border=\"1\" class=\"dataframe\">\n",
       "  <thead>\n",
       "    <tr style=\"text-align: right;\">\n",
       "      <th></th>\n",
       "      <th>id</th>\n",
       "      <th>title</th>\n",
       "      <th>tags</th>\n",
       "    </tr>\n",
       "  </thead>\n",
       "  <tbody>\n",
       "    <tr>\n",
       "      <th>0</th>\n",
       "      <td>19995</td>\n",
       "      <td>Avatar</td>\n",
       "      <td>In the 22nd century, a paraplegic Marine is di...</td>\n",
       "    </tr>\n",
       "    <tr>\n",
       "      <th>1</th>\n",
       "      <td>285</td>\n",
       "      <td>Pirates of the Caribbean: At World's End</td>\n",
       "      <td>Captain Barbossa, long believed to be dead, ha...</td>\n",
       "    </tr>\n",
       "    <tr>\n",
       "      <th>2</th>\n",
       "      <td>206647</td>\n",
       "      <td>Spectre</td>\n",
       "      <td>A cryptic message from Bond’s past sends him o...</td>\n",
       "    </tr>\n",
       "    <tr>\n",
       "      <th>3</th>\n",
       "      <td>49026</td>\n",
       "      <td>The Dark Knight Rises</td>\n",
       "      <td>Following the death of District Attorney Harve...</td>\n",
       "    </tr>\n",
       "    <tr>\n",
       "      <th>4</th>\n",
       "      <td>49529</td>\n",
       "      <td>John Carter</td>\n",
       "      <td>John Carter is a war-weary, former military ca...</td>\n",
       "    </tr>\n",
       "  </tbody>\n",
       "</table>\n",
       "</div>"
      ],
      "text/plain": [
       "       id                                     title  \\\n",
       "0   19995                                    Avatar   \n",
       "1     285  Pirates of the Caribbean: At World's End   \n",
       "2  206647                                   Spectre   \n",
       "3   49026                     The Dark Knight Rises   \n",
       "4   49529                               John Carter   \n",
       "\n",
       "                                                tags  \n",
       "0  In the 22nd century, a paraplegic Marine is di...  \n",
       "1  Captain Barbossa, long believed to be dead, ha...  \n",
       "2  A cryptic message from Bond’s past sends him o...  \n",
       "3  Following the death of District Attorney Harve...  \n",
       "4  John Carter is a war-weary, former military ca...  "
      ]
     },
     "execution_count": 53,
     "metadata": {},
     "output_type": "execute_result"
    }
   ],
   "source": [
    "# Converting list to str\n",
    "new_df['tags'] = new_df['tags'].apply(lambda x: \" \".join(x))\n",
    "new_df.head()"
   ]
  },
  {
   "cell_type": "code",
   "execution_count": 54,
   "metadata": {},
   "outputs": [
    {
     "data": {
      "text/plain": [
       "'In the 22nd century, a paraplegic Marine is dispatched to the moon Pandora on a unique mission, but becomes torn between following orders and protecting an alien civilization. Action Adventure Fantasy ScienceFiction cultureclash future spacewar spacecolony society spacetravel futuristic romance space alien tribe alienplanet cgi marine soldier battle loveaffair antiwar powerrelations mindandsoul 3d SamWorthington ZoeSaldana SigourneyWeaver JamesCameron'"
      ]
     },
     "execution_count": 54,
     "metadata": {},
     "output_type": "execute_result"
    }
   ],
   "source": [
    "new_df.iloc[0]['tags']"
   ]
  },
  {
   "cell_type": "code",
   "execution_count": 55,
   "metadata": {},
   "outputs": [],
   "source": [
    "# Converting to lower case\n",
    "new_df['tags'] = new_df['tags'].apply(lambda x:x.lower())"
   ]
  },
  {
   "cell_type": "code",
   "execution_count": 56,
   "metadata": {},
   "outputs": [
    {
     "data": {
      "text/html": [
       "<div>\n",
       "<style scoped>\n",
       "    .dataframe tbody tr th:only-of-type {\n",
       "        vertical-align: middle;\n",
       "    }\n",
       "\n",
       "    .dataframe tbody tr th {\n",
       "        vertical-align: top;\n",
       "    }\n",
       "\n",
       "    .dataframe thead th {\n",
       "        text-align: right;\n",
       "    }\n",
       "</style>\n",
       "<table border=\"1\" class=\"dataframe\">\n",
       "  <thead>\n",
       "    <tr style=\"text-align: right;\">\n",
       "      <th></th>\n",
       "      <th>id</th>\n",
       "      <th>title</th>\n",
       "      <th>tags</th>\n",
       "    </tr>\n",
       "  </thead>\n",
       "  <tbody>\n",
       "    <tr>\n",
       "      <th>0</th>\n",
       "      <td>19995</td>\n",
       "      <td>Avatar</td>\n",
       "      <td>in the 22nd century, a paraplegic marine is di...</td>\n",
       "    </tr>\n",
       "    <tr>\n",
       "      <th>1</th>\n",
       "      <td>285</td>\n",
       "      <td>Pirates of the Caribbean: At World's End</td>\n",
       "      <td>captain barbossa, long believed to be dead, ha...</td>\n",
       "    </tr>\n",
       "    <tr>\n",
       "      <th>2</th>\n",
       "      <td>206647</td>\n",
       "      <td>Spectre</td>\n",
       "      <td>a cryptic message from bond’s past sends him o...</td>\n",
       "    </tr>\n",
       "    <tr>\n",
       "      <th>3</th>\n",
       "      <td>49026</td>\n",
       "      <td>The Dark Knight Rises</td>\n",
       "      <td>following the death of district attorney harve...</td>\n",
       "    </tr>\n",
       "    <tr>\n",
       "      <th>4</th>\n",
       "      <td>49529</td>\n",
       "      <td>John Carter</td>\n",
       "      <td>john carter is a war-weary, former military ca...</td>\n",
       "    </tr>\n",
       "  </tbody>\n",
       "</table>\n",
       "</div>"
      ],
      "text/plain": [
       "       id                                     title  \\\n",
       "0   19995                                    Avatar   \n",
       "1     285  Pirates of the Caribbean: At World's End   \n",
       "2  206647                                   Spectre   \n",
       "3   49026                     The Dark Knight Rises   \n",
       "4   49529                               John Carter   \n",
       "\n",
       "                                                tags  \n",
       "0  in the 22nd century, a paraplegic marine is di...  \n",
       "1  captain barbossa, long believed to be dead, ha...  \n",
       "2  a cryptic message from bond’s past sends him o...  \n",
       "3  following the death of district attorney harve...  \n",
       "4  john carter is a war-weary, former military ca...  "
      ]
     },
     "execution_count": 56,
     "metadata": {},
     "output_type": "execute_result"
    }
   ],
   "source": [
    "new_df.head()"
   ]
  },
  {
   "cell_type": "code",
   "execution_count": 57,
   "metadata": {},
   "outputs": [
    {
     "data": {
      "text/plain": [
       "'in the 22nd century, a paraplegic marine is dispatched to the moon pandora on a unique mission, but becomes torn between following orders and protecting an alien civilization. action adventure fantasy sciencefiction cultureclash future spacewar spacecolony society spacetravel futuristic romance space alien tribe alienplanet cgi marine soldier battle loveaffair antiwar powerrelations mindandsoul 3d samworthington zoesaldana sigourneyweaver jamescameron'"
      ]
     },
     "execution_count": 57,
     "metadata": {},
     "output_type": "execute_result"
    }
   ],
   "source": [
    "new_df.iloc[0]['tags']"
   ]
  },
  {
   "cell_type": "code",
   "execution_count": 58,
   "metadata": {},
   "outputs": [],
   "source": [
    "import nltk\n",
    "from nltk.stem import PorterStemmer"
   ]
  },
  {
   "cell_type": "code",
   "execution_count": 59,
   "metadata": {},
   "outputs": [],
   "source": [
    "ps = PorterStemmer()"
   ]
  },
  {
   "cell_type": "code",
   "execution_count": null,
   "metadata": {},
   "outputs": [],
   "source": [
    "# this function perform stemming operations such i.e, \"going\", \"goes\" and \"go\" will be convert to go\n",
    "def stems(text):\n",
    "    transform = []\n",
    "    \n",
    "    for i in text.split():\n",
    "        transform.append(ps.stem(i))\n",
    "    \n",
    "    return \" \".join(transform)"
   ]
  },
  {
   "cell_type": "code",
   "execution_count": 63,
   "metadata": {},
   "outputs": [],
   "source": [
    "new_df['tags'] = new_df['tags'].apply(stems)"
   ]
  },
  {
   "cell_type": "code",
   "execution_count": 64,
   "metadata": {},
   "outputs": [
    {
     "data": {
      "text/plain": [
       "'in the 22nd century, a parapleg marin is dispatch to the moon pandora on a uniqu mission, but becom torn between follow order and protect an alien civilization. action adventur fantasi sciencefict cultureclash futur spacewar spacecoloni societi spacetravel futurist romanc space alien tribe alienplanet cgi marin soldier battl loveaffair antiwar powerrel mindandsoul 3d samworthington zoesaldana sigourneyweav jamescameron'"
      ]
     },
     "execution_count": 64,
     "metadata": {},
     "output_type": "execute_result"
    }
   ],
   "source": [
    "new_df.iloc[0]['tags']"
   ]
  },
  {
   "cell_type": "code",
   "execution_count": 69,
   "metadata": {},
   "outputs": [],
   "source": [
    "from sklearn.feature_extraction.text import CountVectorizer\n",
    "cv = CountVectorizer(max_features=6000,stop_words='english')\n"
   ]
  },
  {
   "cell_type": "code",
   "execution_count": 70,
   "metadata": {},
   "outputs": [],
   "source": [
    "vector = cv.fit_transform(new_df['tags']).toarray()"
   ]
  },
  {
   "cell_type": "code",
   "execution_count": 71,
   "metadata": {},
   "outputs": [
    {
     "data": {
      "text/plain": [
       "array([0, 0, 0, ..., 0, 0, 0])"
      ]
     },
     "execution_count": 71,
     "metadata": {},
     "output_type": "execute_result"
    }
   ],
   "source": [
    "vector[0]"
   ]
  },
  {
   "cell_type": "code",
   "execution_count": 72,
   "metadata": {},
   "outputs": [
    {
     "data": {
      "text/plain": [
       "(5791, 6000)"
      ]
     },
     "execution_count": 72,
     "metadata": {},
     "output_type": "execute_result"
    }
   ],
   "source": [
    "vector.shape"
   ]
  },
  {
   "cell_type": "code",
   "execution_count": 74,
   "metadata": {},
   "outputs": [],
   "source": [
    "from sklearn.metrics.pairwise import cosine_similarity"
   ]
  },
  {
   "cell_type": "code",
   "execution_count": 75,
   "metadata": {},
   "outputs": [],
   "source": [
    "similarity = cosine_similarity(vector)"
   ]
  },
  {
   "cell_type": "code",
   "execution_count": 76,
   "metadata": {},
   "outputs": [
    {
     "data": {
      "text/plain": [
       "(5791, 5791)"
      ]
     },
     "execution_count": 76,
     "metadata": {},
     "output_type": "execute_result"
    }
   ],
   "source": [
    "similarity.shape"
   ]
  },
  {
   "cell_type": "code",
   "execution_count": 77,
   "metadata": {},
   "outputs": [
    {
     "data": {
      "text/plain": [
       "array([[1.        , 0.07808688, 0.08155909, ..., 0.03256448, 0.        ,\n",
       "        0.09188458],\n",
       "       [0.07808688, 1.        , 0.05802589, ..., 0.0347524 , 0.04166667,\n",
       "        0.06537205],\n",
       "       [0.08155909, 0.05802589, 1.        , ..., 0.0362977 , 0.04351941,\n",
       "        0.13655775],\n",
       "       ...,\n",
       "       [0.03256448, 0.0347524 , 0.0362977 , ..., 1.        , 0.        ,\n",
       "        0.04089304],\n",
       "       [0.        , 0.04166667, 0.04351941, ..., 0.        , 1.        ,\n",
       "        0.04902903],\n",
       "       [0.09188458, 0.06537205, 0.13655775, ..., 0.04089304, 0.04902903,\n",
       "        1.        ]])"
      ]
     },
     "execution_count": 77,
     "metadata": {},
     "output_type": "execute_result"
    }
   ],
   "source": [
    "similarity"
   ]
  },
  {
   "cell_type": "code",
   "execution_count": 83,
   "metadata": {},
   "outputs": [
    {
     "data": {
      "text/plain": [
       "array([0.05066946, 0.05407381, 0.02823912, ..., 0.0338255 , 0.        ,\n",
       "       0.        ])"
      ]
     },
     "execution_count": 83,
     "metadata": {},
     "output_type": "execute_result"
    }
   ],
   "source": [
    "similarity[744]"
   ]
  },
  {
   "cell_type": "code",
   "execution_count": 78,
   "metadata": {},
   "outputs": [
    {
     "data": {
      "text/plain": [
       "744"
      ]
     },
     "execution_count": 78,
     "metadata": {},
     "output_type": "execute_result"
    }
   ],
   "source": [
    "new_df[new_df['title'] == 'The Lego Movie'].index[0]"
   ]
  },
  {
   "cell_type": "code",
   "execution_count": 81,
   "metadata": {},
   "outputs": [],
   "source": [
    "index = new_df[new_df['title'] == 'The Lego Movie'].index"
   ]
  },
  {
   "cell_type": "code",
   "execution_count": 82,
   "metadata": {},
   "outputs": [
    {
     "data": {
      "text/plain": [
       "Index([744], dtype='int64')"
      ]
     },
     "execution_count": 82,
     "metadata": {},
     "output_type": "execute_result"
    }
   ],
   "source": [
    "index"
   ]
  },
  {
   "cell_type": "code",
   "execution_count": 84,
   "metadata": {},
   "outputs": [],
   "source": [
    "def recommend(movie_title):\n",
    "    index = new_df[new_df['title'] == movie_title].index[0]\n",
    "    distances = sorted(list(enumerate(similarity[index])),reverse=True,key = lambda x: x[1])\n",
    "    print(distances)\n",
    "    for i in distances[1:6]:\n",
    "        print(new_df.iloc[i[0]].title)"
   ]
  },
  {
   "cell_type": "code",
   "execution_count": 85,
   "metadata": {},
   "outputs": [
    {
     "name": "stdout",
     "output_type": "stream",
     "text": [
      "[(30, 1.0), (5, 0.5094278322972742), (159, 0.3965257928590721), (20, 0.353474592615119), (5405, 0.3369302785126566), (79, 0.27911694506082074), (813, 0.271960041460034), (5364, 0.26328523321274916), (3223, 0.26146494664705744), (4952, 0.25930372530182266), (5407, 0.25777491755679216), (784, 0.25774176535839693), (4811, 0.25697808437502334), (610, 0.2559643601695689), (2655, 0.25539990311691463), (788, 0.25509819019042246), (115, 0.2547139161486371), (583, 0.2537765074298061), (1359, 0.25182770057259657), (5216, 0.2500462406366666), (5568, 0.248264415746168), (3980, 0.2467068557457242), (5034, 0.2457180467335805), (5625, 0.24511108480187255), (38, 0.244525496780202), (339, 0.24303252296561462), (182, 0.24078203063740675), (1140, 0.23955065286808352), (5451, 0.23951761823331735), (4823, 0.23911404992940524), (2490, 0.23911404992940521), (3088, 0.23862250691966455), (5053, 0.23597327607707927), (232, 0.23557142371577275), (2023, 0.23493769283712096), (3192, 0.23362835924302428), (5428, 0.2331086069657434), (2653, 0.23218173010628607), (2699, 0.23166519614030368), (4668, 0.2285817953278378), (4507, 0.22789803132115208), (3467, 0.22778672580471013), (3372, 0.22665280054087936), (5281, 0.22663336788336166), (5408, 0.22615920980391588), (274, 0.2259371039710045), (5653, 0.2257064381589836), (3808, 0.22548634406650145), (10, 0.22524154283911543), (2427, 0.22507573177686824), (420, 0.22226033597299086), (903, 0.2220361701711518), (5628, 0.22200819711023187), (3606, 0.2203970724177368), (3841, 0.22026692946430573), (5684, 0.22026692946430573), (5654, 0.21977690231790248), (1262, 0.21832621384168893), (1918, 0.21815642906304095), (5527, 0.2171861213815347), (60, 0.2163597919882636), (3660, 0.21560302229643788), (4942, 0.21500329089188294), (5458, 0.2145211600700721), (4442, 0.21406097828860826), (2043, 0.2138073013537997), (3165, 0.21201428134419545), (3796, 0.21201428134419545), (2152, 0.2119519516996487), (3305, 0.21157758823102557), (5318, 0.21148042285817178), (4788, 0.21148042285817176), (1450, 0.21108192915032148), (1179, 0.20947289622255394), (4447, 0.20933770879561556), (5427, 0.20896355709565745), (4245, 0.20895528835192725), (1199, 0.207669652660466), (3668, 0.20707884164064558), (5713, 0.20604084592303354), (2414, 0.2056164565004162), (4302, 0.20499759443009796), (545, 0.20476503894465042), (869, 0.2047650389446504), (2219, 0.20349795765537637), (203, 0.2032374384797152), (2977, 0.2032374384797152), (3619, 0.2032374384797152), (5065, 0.2032374384797152), (942, 0.20252710247134553), (4141, 0.20252710247134553), (2955, 0.20172447199604693), (2746, 0.20137516528896088), (4523, 0.20135435411466626), (3919, 0.20054543301971392), (4458, 0.20036097492521526), (5383, 0.20036097492521526), (482, 0.20013236268821485), (5100, 0.20013236268821485), (4015, 0.1998889813958309), (197, 0.19964591297103415), (2189, 0.19840970348143974), (1017, 0.1983995823447238), (1566, 0.19834724567667453), (543, 0.19826289642953607), (122, 0.19736548459657938), (471, 0.1967110445541081), (3334, 0.19671104455410807), (5069, 0.19671104455410807), (2064, 0.19627025393221556), (771, 0.19627025393221553), (5657, 0.19622937706955573), (196, 0.19546750924338122), (1647, 0.19546750924338122), (3086, 0.19546750924338122), (5550, 0.19546750924338122), (3054, 0.1954675092433812), (4737, 0.19502046489110014), (3163, 0.19425717247145285), (292, 0.19425717247145283), (3084, 0.19425717247145283), (2883, 0.19345939837194498), (591, 0.19345939837194492), (126, 0.19306904406306488), (241, 0.19306904406306485), (1117, 0.19297493289780315), (2499, 0.19255561701187998), (335, 0.19234326202820506), (5583, 0.19234326202820506), (4397, 0.19230478952816465), (5608, 0.19230478952816465), (3852, 0.19189289972931428), (1365, 0.1916140945866539), (5454, 0.19161409458665388), (2875, 0.19135041743602826), (4847, 0.19129123994352418), (5111, 0.19075675652968385), (1897, 0.19075675652968382), (1813, 0.19066253239129508), (1230, 0.19048482943986483), (4472, 0.19048482943986483), (5576, 0.19036384827209382), (5661, 0.1903549091136624), (69, 0.18940402007417426), (2268, 0.18907604749897633), (5698, 0.18907604749897633), (3153, 0.1888707754294474), (282, 0.18867924528301888), (1085, 0.18867924528301888), (1536, 0.18867924528301888), (5708, 0.18867924528301888), (1248, 0.1885703604541279), (5278, 0.1885703604541279), (1694, 0.1884571389726182), (697, 0.18784426860496276), (2995, 0.18719089525627675), (3375, 0.18692405136401474), (640, 0.18598708280026727), (193, 0.18590805705512317), (5325, 0.18590805705512317), (313, 0.18574538408502883), (4661, 0.18574538408502883), (215, 0.18521694664415905), (1937, 0.1850453700009003), (4915, 0.1850453700009003), (1597, 0.18459390151488078), (460, 0.18428853505018536), (1296, 0.18428853505018536), (2381, 0.18428853505018536), (2334, 0.18355577455358812), (2874, 0.18355577455358812), (3069, 0.1835557745535881), (4997, 0.18323156627951165), (152, 0.18314741859825204), (206, 0.18314741859825204), (1266, 0.18314741859825204), (4659, 0.18314741859825204), (5588, 0.18314741859825204), (7, 0.182274392224211), (2177, 0.182274392224211), (2593, 0.18227439222421096), (3803, 0.18211609919198704), (706, 0.18193851153474078), (2148, 0.18193851153474078), (4339, 0.1818989553843581), (511, 0.18171094607790778), (2945, 0.18171094607790778), (5719, 0.18171094607790778), (1986, 0.18130907839966046), (790, 0.1809273678431327), (2109, 0.18092736784313268), (727, 0.18090512859925997), (493, 0.18090512859925995), (72, 0.18065550087085797), (47, 0.18059500340835766), (809, 0.1805950034083576), (2356, 0.1805950034083576), (129, 0.18036325667702163), (443, 0.18036325667702163), (1008, 0.18036325667702163), (5355, 0.18036325667702163), (3418, 0.18032487743269374), (4944, 0.18032487743269374), (2506, 0.17984719479905426), (3415, 0.17984719479905423), (5241, 0.17984719479905423), (103, 0.1793186976388148), (448, 0.17882822232191645), (5049, 0.17882822232191645), (5052, 0.17882822232191645), (3289, 0.17856873313329574), (562, 0.17855051462249658), (970, 0.17855051462249658), (5734, 0.17855051462249658), (905, 0.1782626071286346), (1740, 0.1782626071286346), (1741, 0.1782626071286346), (3649, 0.1782626071286346), (5377, 0.1782626071286346), (5689, 0.1782626071286346), (5760, 0.1782626071286346), (710, 0.1780690747654985), (3377, 0.1777436464725046), (3572, 0.1768452178246822), (4377, 0.1767191788821336), (2644, 0.17660643936260018), (3387, 0.17660643936260018), (5572, 0.17660643936260018), (1626, 0.17660643936260015), (868, 0.1758721803381318), (4824, 0.17587218033813176), (5776, 0.17587218033813176), (857, 0.17571222379722684), (5649, 0.17571222379722679), (1442, 0.1755494519014317), (4822, 0.1755494519014317), (304, 0.17540106324883972), (165, 0.17483145522430757), (409, 0.17483145522430757), (4407, 0.17483145522430757), (1999, 0.1744713488579917), (5227, 0.17444809066301298), (4672, 0.1742652396911105), (5323, 0.17374889710522776), (1280, 0.17331971020739498), (4116, 0.17310893582538456), (423, 0.17305804388372167), (2603, 0.17305804388372167), (5071, 0.17305804388372167), (1044, 0.17269479902200696), (3360, 0.17269479902200696), (4145, 0.17269479902200696), (5229, 0.17269479902200696), (5391, 0.17269479902200696), (1509, 0.17269479902200693), (4633, 0.1721905795545492), (4947, 0.17184994503786144), (1792, 0.1717007049358613), (4422, 0.1717007049358613), (5106, 0.1717007049358613), (5423, 0.1717007049358613), (174, 0.17161692805605766), (711, 0.17161692805605766), (1616, 0.17143634649587836), (3539, 0.17143634649587836), (4181, 0.17143634649587836), (1867, 0.17108323315187576), (2355, 0.1703748109239964), (3672, 0.1703748109239964), (238, 0.16999697941934996), (4664, 0.16999697941934996), (3297, 0.16997502591252125), (4512, 0.16997502591252125), (3292, 0.16997502591252123), (171, 0.169811320754717), (636, 0.169811320754717), (4375, 0.169811320754717), (5128, 0.169811320754717), (5190, 0.169811320754717), (2508, 0.16956156135971898), (3178, 0.16956156135971898), (3440, 0.16956156135971898), (4376, 0.16907916618206115), (4820, 0.16823164622761333), (1247, 0.16823164622761327), (2651, 0.16823164622761327), (4995, 0.16823164622761327), (3802, 0.16788513371506436), (26, 0.16757831697804318), (1907, 0.16757831697804315), (3977, 0.16737983495058367), (2565, 0.16737983495058364), (3614, 0.16737983495058364), (3940, 0.16685830369290808), (2796, 0.16669525197974316), (3635, 0.16669525197974316), (4137, 0.16669525197974316), (4210, 0.16669525197974316), (4876, 0.16669525197974316), (5564, 0.16669525197974316), (518, 0.16669525197974314), (1390, 0.1665741511631924), (1438, 0.1665741511631924), (1641, 0.1665741511631924), (2456, 0.1665741511631924), (1845, 0.1665061478326739), (438, 0.16566307331251645), (535, 0.16566307331251645), (1780, 0.16566307331251645), (2346, 0.16566307331251645), (3361, 0.16566307331251645), (3481, 0.16566307331251645), (4638, 0.16566307331251645), (919, 0.1652001970982293), (2046, 0.1652001970982293), (2769, 0.1652001970982293), (4813, 0.1652001970982293), (4868, 0.1652001970982293), (2787, 0.16489999660104093), (4032, 0.16489999660104093), (530, 0.1648999966010409), (5702, 0.1648999966010409), (5160, 0.1648326767384269), (4816, 0.16483267673842686), (2301, 0.16483267673842683), (4753, 0.16417727582577968), (3688, 0.16417727582577965), (939, 0.1638872951298985), (3632, 0.16381203115572032), (5735, 0.16381203115572032), (113, 0.1637446603812667), (4726, 0.1637446603812667), (4021, 0.16370070798203676), (4586, 0.163016997853468), (1535, 0.1629316759331292), (2757, 0.1629316759331292), (2438, 0.1625272110744002), (3256, 0.1625272110744002), (262, 0.16232693100931947), (1016, 0.16232693100931947), (2485, 0.16232693100931947), (3869, 0.16232693100931947), (5000, 0.16232693100931947), (5692, 0.16202168197707642), (469, 0.16188097705954407), (4650, 0.16188097705954407), (2285, 0.16188097705954405), (5611, 0.16188097705954405), (368, 0.16163173753210963), (495, 0.16163173753210963), (217, 0.1609454000897248), (1453, 0.1609454000897248), (1727, 0.1609454000897248), (1811, 0.1609454000897248), (2409, 0.1609454000897248), (1807, 0.1607683798406202), (21, 0.16025399127347054), (2246, 0.16025399127347054), (2362, 0.16025399127347054), (3493, 0.16025399127347054), (3954, 0.16016209724029729), (1203, 0.1596784121555449), (4843, 0.15959855297967943), (3308, 0.15926982234645878), (4624, 0.15926982234645878), (3972, 0.15861031714362883), (5707, 0.15861031714362883), (2861, 0.1582849623043186), (3690, 0.1582849623043186), (5282, 0.1582849623043186), (1836, 0.15807356326200073), (2463, 0.15807356326200073), (3568, 0.15807356326200073), (3684, 0.15807356326200073), (4721, 0.15807356326200073), (189, 0.15756337291581363), (1037, 0.15756337291581363), (1852, 0.15756337291581363), (3505, 0.15756337291581363), (3723, 0.15756337291581363), (4096, 0.15756337291581363), (5401, 0.15756337291581363), (5650, 0.15756337291581363), (2207, 0.15700328159671167), (2980, 0.15700328159671167), (4269, 0.15700328159671167), (3480, 0.15698350165564462), (86, 0.1569835016556446), (2765, 0.1569835016556446), (1116, 0.15667989653329206), (4831, 0.15597978123755527), (4836, 0.15597978123755527), (4933, 0.15597978123755527), (4098, 0.15453063444227516), (4924, 0.15453063444227516), (5558, 0.15453063444227516), (5334, 0.15437994631824253), (164, 0.1539670545751043), (716, 0.1539670545751043), (1192, 0.1539670545751043), (1380, 0.1539670545751043), (4127, 0.1539670545751043), (5374, 0.1539670545751043), (5472, 0.1539670545751043), (2010, 0.15387460962256405), (3366, 0.15387460962256405), (4077, 0.15387460962256405), (5238, 0.15387460962256405), (1319, 0.15357377920848783), (4085, 0.15357377920848783), (205, 0.1535737792084878), (1346, 0.1535737792084878), (1481, 0.1535737792084878), (4556, 0.1535737792084878), (5521, 0.1535737792084878), (2344, 0.15333732983159676), (4482, 0.15333732983159676), (68, 0.1530432982478542), (664, 0.1530432982478542), (2221, 0.1530432982478542), (3744, 0.1530432982478542), (4314, 0.1530432982478542), (5434, 0.1530432982478542), (4700, 0.15275550670032126), (560, 0.1526228488318767), (4541, 0.1526228488318767), (140, 0.15238786355189188), (1095, 0.15238786355189188), (2233, 0.15238786355189188), (2357, 0.15238786355189188), (40, 0.15203028496707427), (1454, 0.15203028496707427), (5176, 0.15203028496707427), (5587, 0.15203028496707427), (4516, 0.15200780026903415), (4228, 0.1518578172031401), (1103, 0.1516893669935528), (1953, 0.1516893669935528), (3986, 0.1516893669935528), (682, 0.15103137396672064), (1433, 0.15103137396672064), (2433, 0.15103137396672064), (5388, 0.15103137396672064), (3837, 0.15094339622641512), (3897, 0.15094339622641512), (4774, 0.1507728065359439), (742, 0.15047095877265576), (2589, 0.15047095877265573), (138, 0.15016481204905047), (402, 0.15016481204905047), (851, 0.15016481204905047), (1497, 0.14991673604687317), (3376, 0.14991673604687317), (5534, 0.14991673604687317), (4128, 0.1498726623325452), (4675, 0.1498726623325452), (5287, 0.1498726623325452), (4122, 0.1498478879440244), (2937, 0.1495392410912118), (277, 0.14898845011808953), (1774, 0.14898845011808953), (491, 0.14882641804174754), (3073, 0.14882641804174754), (1091, 0.1483663661897541), (1882, 0.1483663661897541), (187, 0.14836636618975407), (1290, 0.14836636618975407), (3221, 0.14836636618975407), (5380, 0.14836636618975407), (2021, 0.14817355731532725), (2117, 0.14817355731532725), (2296, 0.14817355731532722), (2673, 0.14817355731532722), (486, 0.14816242607110047), (781, 0.14802411344743455), (954, 0.14802411344743455), (1409, 0.14802411344743455), (2054, 0.14802411344743452), (3725, 0.147265982401778), (618, 0.1468446196428705), (1078, 0.1468446196428705), (2028, 0.1468446196428705), (2079, 0.1468446196428705), (2918, 0.1468446196428705), (3043, 0.1468446196428705), (3755, 0.1468446196428705), (4550, 0.1468446196428705), (5348, 0.1468446196428705), (17, 0.1467152980681212), (2966, 0.1467152980681212), (3578, 0.1467152980681212), (3673, 0.1467152980681212), (4779, 0.1467152980681212), (5641, 0.1467152980681212), (2484, 0.14663102735578779), (4117, 0.14663102735578779), (4994, 0.14663102735578779), (5687, 0.14663102735578779), (2113, 0.14642685316435566), (3050, 0.14642685316435566), (3303, 0.14642685316435566), (4164, 0.14642685316435566), (4750, 0.14642685316435566), (5543, 0.14642685316435566), (3549, 0.14607061625759676), (4240, 0.14569287935358965), (4795, 0.14569287935358965), (167, 0.14569287935358963), (1239, 0.14569287935358963), (2310, 0.14569287935358963), (4078, 0.14569287935358963), (4134, 0.14569287935358963), (5107, 0.14569287935358963), (1254, 0.14555080922779262), (2105, 0.1455508092277926), (3355, 0.1455508092277926), (4006, 0.1455508092277926), (4313, 0.14539279071499311), (1982, 0.1449551891484519), (3615, 0.1449551891484519), (3838, 0.1449551891484519), (4258, 0.1449551891484519), (2511, 0.14469154185655816), (1947, 0.1445678209772805), (2682, 0.14436426434143343), (746, 0.1442906053416173), (4879, 0.1442906053416173), (3101, 0.14401497833666102), (496, 0.1439929963509821), (824, 0.14371057093999043), (1425, 0.14346842995764314), (1583, 0.14346842995764314), (4573, 0.14346842995764314), (3389, 0.1434684299576431), (71, 0.14333552726125529), (503, 0.14333552726125529), (557, 0.14333552726125529), (1657, 0.14333552726125529), (3895, 0.14333552726125529), (3975, 0.1432082875315512), (4861, 0.1432082875315512), (5121, 0.1432082875315512), (5476, 0.1432082875315512), (5629, 0.1432082875315512), (572, 0.14306257785753315), (1183, 0.14306257785753315), (1253, 0.1429280573032364), (3092, 0.1429280573032364), (551, 0.14274928542926593), (3855, 0.14274928542926593), (1278, 0.14186538042638175), (3733, 0.14186538042638175), (3373, 0.14186538042638172), (4597, 0.14186538042638172), (2986, 0.14180703562423225), (823, 0.14176897172994188), (1020, 0.14176897172994188), (1782, 0.14176897172994188), (3060, 0.14176897172994188), (1825, 0.14176897172994185), (2629, 0.14176897172994185), (5382, 0.14176897172994185), (121, 0.14134285422946366), (1174, 0.14134285422946366), (2161, 0.14134285422946366), (3066, 0.14134285422946366), (893, 0.1409289650415634), (1411, 0.14088320145372207), (1523, 0.14088320145372207), (450, 0.1406977442705054), (1188, 0.1406977442705054), (4839, 0.1406977442705054), (4937, 0.1406977442705054), (2686, 0.1402526824476507), (3937, 0.1402526824476507), (9, 0.14025268244765068), (44, 0.1401930385230111), (237, 0.1401930385230111), (1074, 0.1401930385230111), (1277, 0.1401930385230111), (1476, 0.1401930385230111), (1878, 0.1401930385230111), (3236, 0.1401930385230111), (4199, 0.1401930385230111), (5422, 0.1401930385230111), (4923, 0.14019303852301107), (3956, 0.13997719076062562), (1490, 0.13955847253041037), (5161, 0.13946852184589267), (927, 0.13930903806377162), (1131, 0.13930903806377162), (1193, 0.13930903806377162), (2767, 0.13930903806377162), (4969, 0.13930903806377162), (3646, 0.13908843770674087), (4553, 0.13908843770674087), (599, 0.13881415536980268), (11, 0.13878402750067526), (387, 0.13878402750067526), (2814, 0.13878402750067526), (3641, 0.13878402750067526), (5311, 0.13878402750067526), (3156, 0.13844643510697735), (5310, 0.13844643510697735), (2100, 0.13844643510697732), (5332, 0.13821640128763904), (127, 0.138216401287639), (3793, 0.13805256109376374), (4218, 0.1378400089105911), (1191, 0.13736056394868906), (2244, 0.13736056394868906), (2708, 0.13736056394868906), (3331, 0.13736056394868906), (3670, 0.13736056394868906), (4869, 0.13736056394868906), (5151, 0.13736056394868906), (5173, 0.13736056394868906), (230, 0.13736056394868904), (364, 0.13736056394868904), (1135, 0.13736056394868904), (1803, 0.13736056394868904), (2373, 0.13736056394868904), (2668, 0.13736056394868904), (3697, 0.13736056394868904), (3863, 0.13736056394868904), (3918, 0.13736056394868904), (4163, 0.13736056394868904), (4233, 0.13736056394868904), (4277, 0.13736056394868904), (4800, 0.13736056394868904), (5050, 0.13736056394868904), (5086, 0.13736056394868904), (5105, 0.13736056394868904), (5552, 0.13736056394868904), (5616, 0.13736056394868904), (870, 0.137360563948689), (4794, 0.13667886959716308), (1451, 0.135980020730017), (4169, 0.135980020730017), (4429, 0.135980020730017), (130, 0.1354916256531435), (641, 0.1354916256531435), (4305, 0.1354916256531435), (4446, 0.1354916256531435), (5126, 0.1354916256531435), (1304, 0.1352633329456489), (4621, 0.1352633329456489), (4982, 0.13469311461009137), (35, 0.13469311461009134), (1259, 0.13469311461009134), (3248, 0.13469311461009134), (3999, 0.13469311461009134), (5790, 0.13469311461009134), (1035, 0.13464028341974354), (1577, 0.13464028341974354), (2086, 0.13464028341974354), (3102, 0.13464028341974354), (3108, 0.13464028341974354), (4366, 0.13464028341974354), (5213, 0.13464028341974354), (1687, 0.13425011019264058), (2416, 0.13425011019264058), (2967, 0.13369695534647594), (4058, 0.13369695534647594), (4071, 0.13369695534647594), (4149, 0.13369695534647594), (114, 0.1333393806079054), (575, 0.1333393806079054), (1217, 0.1333393806079054), (4576, 0.13330773485437844), (673, 0.13325932093055393), (3825, 0.13325932093055393), (4996, 0.13325932093055393), (264, 0.13229014937044226), (299, 0.13229014937044226), (921, 0.13229014937044226), (4722, 0.13229014937044226), (31, 0.13217526428635737), (668, 0.13217526428635737), (715, 0.13217526428635737), (1715, 0.13217526428635737), (1721, 0.13217526428635737), (3128, 0.13217526428635737), (4773, 0.13217526428635737), (4829, 0.13217526428635737), (5035, 0.13217526428635737), (5138, 0.13217526428635737), (5633, 0.13217526428635737), (5688, 0.13217526428635737), (1000, 0.13207547169811323), (3099, 0.13207547169811323), (3203, 0.13207547169811323), (3560, 0.13207547169811323), (5452, 0.1320754716981132), (922, 0.1319717610643751), (1231, 0.1319717610643751), (2933, 0.1319717610643751), (4453, 0.1319717610643751), (1635, 0.1317841678479201), (3687, 0.13155079743662976), (1881, 0.13134182066062372), (2778, 0.13134182066062372), (2912, 0.13134182066062372), (3873, 0.13134182066062372), (4801, 0.13134182066062372), (5666, 0.13134182066062372), (1855, 0.1310417159238796), (4760, 0.1310417159238796), (83, 0.13084683595481034), (124, 0.13084683595481034), (2319, 0.13084683595481034), (2345, 0.13084683595481034), (5143, 0.13084683595481034), (270, 0.1308468359548103), (2019, 0.1308468359548103), (969, 0.1304135982827744), (1756, 0.1304135982827744), (4895, 0.1304135982827744), (112, 0.1303116728289208), (879, 0.1303116728289208), (1646, 0.1303116728289208), (2516, 0.1303116728289208), (2976, 0.1303116728289208), (3728, 0.1303116728289208), (4062, 0.1303116728289208), (5426, 0.1303116728289208), (2114, 0.12979353291279128), (2390, 0.12979353291279128), (3118, 0.12979353291279128), (5268, 0.12979353291279128), (5280, 0.12979353291279128), (2707, 0.12965186265091136), (3810, 0.12965186265091136), (386, 0.12965186265091133), (1098, 0.12965186265091133), (1172, 0.12965186265091133), (1952, 0.12965186265091133), (3013, 0.12965186265091133), (3630, 0.12965186265091133), (5145, 0.12965186265091133), (5242, 0.12965186265091133), (5631, 0.12965186265091133), (62, 0.12950478164763524), (343, 0.12950478164763524), (1530, 0.12950478164763524), (1771, 0.12950478164763524), (3993, 0.12950478164763524), (4003, 0.12950478164763524), (5225, 0.12950478164763524), (5233, 0.12950478164763524), (5671, 0.12950478164763524), (1342, 0.12888745877839608), (14, 0.12871269604204325), (235, 0.12871269604204325), (242, 0.12871269604204325), (492, 0.12871269604204325), (3181, 0.12871269604204325), (3596, 0.12871269604204325), (4310, 0.12871269604204325), (5236, 0.12871269604204325), (5239, 0.12871269604204325), (119, 0.12848904218751167), (2074, 0.12848904218751167), (4874, 0.12848904218751167), (4972, 0.12848904218751167), (1170, 0.12774272972443593), (5743, 0.12774272972443593), (826, 0.12753608187321183), (1041, 0.12753608187321183), (1896, 0.12753608187321183), (5504, 0.12753608187321183), (5535, 0.12753608187321183), (5599, 0.12753608187321183), (3394, 0.12735695807431854), (1814, 0.12735695807431852), (2175, 0.12717117101978923), (2691, 0.12717117101978923), (3429, 0.12717117101978923), (96, 0.1271711710197892), (207, 0.1271711710197892), (210, 0.1271711710197892), (1987, 0.1271711710197892), (2154, 0.1271711710197892), (3818, 0.1271711710197892), (4701, 0.1271711710197892), (5518, 0.1271711710197892), (379, 0.12683606853740706), (2366, 0.12625427967391514), (2082, 0.12625427967391512), (428, 0.1260506983326509), (1320, 0.1260506983326509), (1496, 0.1260506983326509), (4742, 0.1260506983326509), (2075, 0.12605069833265087), (2361, 0.12605069833265087), (2723, 0.12605069833265087), (4838, 0.12605069833265087), (361, 0.1256837377335324), (617, 0.1256837377335324), (4198, 0.1256837377335324), (4513, 0.1256837377335324), (5630, 0.1256837377335324), (1067, 0.12568373773353236), (2887, 0.12568373773353236), (4104, 0.1255216696613034), (5363, 0.1255216696613034), (94, 0.1253924656438798), (247, 0.1253924656438798), (1076, 0.1253924656438798), (1303, 0.1253924656438798), (1652, 0.1253924656438798), (2179, 0.1253924656438798), (3494, 0.1253924656438798), (4949, 0.1253924656438798), (5492, 0.1253924656438798), (1308, 0.1252295124033085), (1572, 0.1252295124033085), (2250, 0.1252295124033085), (592, 0.1251797556253415), (1090, 0.1251797556253415), (1973, 0.1251797556253415), (3187, 0.1251797556253415), (4353, 0.1251797556253415), (729, 0.12424730498438735), (2797, 0.12424730498438735), (82, 0.12424730498438734), (1455, 0.12424730498438734), (1589, 0.12424730498438734), (4986, 0.12424730498438734), (5542, 0.12424730498438734), (844, 0.12424730498438732), (1112, 0.12413220787308403), (2726, 0.12413220787308402), (4792, 0.12413220787308402), (355, 0.12363416685043635), (3225, 0.12362450755382012), (64, 0.12335342787286212), (4680, 0.12335342787286212), (1435, 0.1233534278728621), (1468, 0.1233534278728621), (1580, 0.1233534278728621), (2116, 0.1233534278728621), (4295, 0.1233534278728621), (4322, 0.1233534278728621), (4439, 0.1233534278728621), (5007, 0.1233534278728621), (1241, 0.12311052623669225), (1328, 0.12311052623669225), (1555, 0.12311052623669225), (2348, 0.12311052623669223), (3602, 0.12311052623669223), (5738, 0.12311052623669223), (644, 0.12285902336679025), (867, 0.12285902336679025), (1619, 0.12285902336679025), (1906, 0.12285902336679025), (1993, 0.12285902336679025), (3027, 0.12285902336679025), (3150, 0.12285902336679025), (3280, 0.12285902336679025), (3569, 0.12285902336679025), (3989, 0.12285902336679025), (4063, 0.12285902336679025), (4161, 0.12285902336679025), (4448, 0.12285902336679025), (4900, 0.12285902336679025), (4931, 0.12285902336679025), (4945, 0.12285902336679025), (5180, 0.12285902336679025), (5600, 0.12285902336679025), (5655, 0.12285902336679025), (1195, 0.12285902336679023), (2263, 0.12285902336679023), (3848, 0.12285902336679023), (5571, 0.12285902336679023), (143, 0.12211366346410908), (27, 0.12211366346410907), (750, 0.12211366346410907), (1672, 0.12209827906550136), (5372, 0.12209827906550136), (521, 0.12151626148280732), (3927, 0.12151626148280732), (5080, 0.12151626148280732), (36, 0.12151626148280731), (2625, 0.12151626148280731), (2898, 0.12151626148280731), (12, 0.12141073279465803), (5076, 0.12141073279465803), (5157, 0.12141073279465803), (1123, 0.12141073279465801), (1462, 0.12141073279465801), (4114, 0.12141073279465801), (4572, 0.12141073279465801), (4585, 0.12141073279465801), (3367, 0.12135149359484222), (2958, 0.12114063071860517), (5099, 0.12114063071860517), (3642, 0.12021658495512917), (271, 0.12021658495512916), (371, 0.12021658495512916), (4821, 0.12021658495512916), (5326, 0.12021658495512916), (1312, 0.12019049345510291), (1373, 0.12019049345510291), (2027, 0.12019049345510291), (3266, 0.12019049345510291), (1669, 0.12007473642790431), (627, 0.11989812986603615), (808, 0.11989812986603615), (1307, 0.11989812986603615), (1404, 0.11989812986603615), (1705, 0.11989812986603615), (1783, 0.11989812986603615), (3386, 0.11989812986603615), (3915, 0.11989812986603615), (4538, 0.11989812986603615), (4777, 0.11989812986603615), (4928, 0.11989812986603615), (4974, 0.11989812986603615), (5132, 0.11989812986603615), (5331, 0.11989812986603615), (5645, 0.11989812986603615), (1744, 0.11955702496470261), (2394, 0.11955702496470261), (2742, 0.11955702496470261), (3009, 0.11955702496470261), (3452, 0.11955702496470261), (3758, 0.11955702496470261), (4508, 0.11955702496470261), (4921, 0.11955702496470261), (821, 0.11951232239257918), (910, 0.11926236764679748), (2623, 0.11926236764679748), (4, 0.11895773785772165), (221, 0.11895773785772165), (674, 0.11895773785772165), (4540, 0.11895773785772165), (4615, 0.11895773785772165), (5532, 0.11895773785772165), (2322, 0.11895773785772164), (5177, 0.11895773785772164), (1027, 0.11835541632744279), (4010, 0.11835541632744279), (960, 0.11778571185788639), (1300, 0.11778571185788637), (2353, 0.11778571185788637), (2932, 0.11778571185788637), (4554, 0.11778571185788637), (5127, 0.11778571185788637), (5191, 0.11778571185788637), (5578, 0.11778571185788637), (1485, 0.11773762624173346), (2230, 0.11773762624173345), (814, 0.11773762624173344), (2338, 0.11773762624173344), (3846, 0.11773762624173344), (5060, 0.11773762624173344), (5267, 0.11773762624173344), (224, 0.11746884641856051), (1908, 0.1174688464185605), (3774, 0.11714148253148456), (1218, 0.11714148253148454), (2206, 0.11714148253148454), (2251, 0.11714148253148454), (2317, 0.11714148253148454), (2388, 0.11714148253148454), (2539, 0.11714148253148454), (3042, 0.11714148253148454), (3216, 0.11714148253148454), (5305, 0.11714148253148454), (5710, 0.11714148253148454), (2017, 0.11660190581423469), (5043, 0.11660190581423469), (289, 0.11655430348287171), (902, 0.11655430348287171), (1143, 0.11655430348287171), (1557, 0.11655430348287171), (1723, 0.11655430348287171), (1808, 0.11655430348287171), (2352, 0.11655430348287171), (2488, 0.11655430348287171), (2903, 0.11655430348287171), (3929, 0.11655430348287171), (4281, 0.11655430348287171), (4393, 0.11655430348287171), (5040, 0.11655430348287171), (993, 0.11609086505314302), (1943, 0.11609086505314302), (3344, 0.11609086505314302), (5217, 0.11609086505314302), (5260, 0.11609086505314302), (1565, 0.11575388069913697), (3484, 0.11575388069913697), (4781, 0.11575388069913697), (1148, 0.11540595721692305), (743, 0.11540595721692304), (2237, 0.11540595721692304), (2605, 0.11540595721692304), (3626, 0.11540595721692304), (4060, 0.11540595721692304), (5159, 0.11540595721692304), (5486, 0.11540595721692304), (887, 0.11519439708078569), (153, 0.11492409307804576), (296, 0.11492409307804576), (747, 0.11492409307804574), (5553, 0.11492409307804574), (2343, 0.11478247368589066), (105, 0.11456663002524096), (624, 0.11456663002524096), (1288, 0.11456663002524096), (2802, 0.11456663002524096), (4297, 0.11456663002524096), (4529, 0.11456663002524096), (4598, 0.11456663002524096), (5273, 0.11456663002524096), (5302, 0.11456663002524096), (39, 0.11446713662390753), (786, 0.11446713662390753), (1, 0.11446713662390752), (512, 0.11446713662390752), (1416, 0.11446713662390752), (2385, 0.11446713662390752), (3132, 0.11446713662390752), (3512, 0.11446713662390752), (5118, 0.11446713662390752), (5294, 0.11446713662390752), (5395, 0.11446713662390752), (5540, 0.11446713662390752), (388, 0.11429089766391892), (2869, 0.11429089766391892), (4311, 0.11429089766391892), (470, 0.11429089766391891), (3561, 0.11429089766391891), (3878, 0.11429089766391891), (4496, 0.11429089766391891), (5766, 0.11429089766391891), (1698, 0.1142908976639189), (1874, 0.1142908976639189), (1890, 0.1142908976639189), (2569, 0.1142908976639189), (4892, 0.1142908976639189), (5089, 0.1142908976639189), (139, 0.1141118984974276), (607, 0.1141118984974276), (5166, 0.1141118984974276), (3923, 0.11320754716981134), (4329, 0.11320754716981134), (805, 0.11290968804428624), (306, 0.11290968804428622), (328, 0.11290968804428622), (1322, 0.11290968804428622), (2128, 0.11290968804428622), (3589, 0.11290968804428622), (5041, 0.11290968804428622), (3274, 0.11253786588843415), (4827, 0.11253786588843415), (246, 0.11253786588843413), (476, 0.11215443081840888), (796, 0.11215443081840888), (2188, 0.11215443081840888), (2400, 0.11215443081840888), (2755, 0.11215443081840888), (2801, 0.11215443081840888), (3764, 0.11215443081840888), (4459, 0.11215443081840888), (5062, 0.11215443081840888), (3633, 0.11215443081840887), (5352, 0.11215443081840887), (1777, 0.11215443081840885), (5635, 0.11215443081840885), (1603, 0.11177488850888144), (18, 0.11177488850888143), (1249, 0.11177488850888143), (2080, 0.11177488850888143), (2895, 0.11177488850888143), (37, 0.11141412945539662), (133, 0.11141412945539662), (1234, 0.11141412945539662), (1673, 0.11141412945539662), (1733, 0.11141412945539662), (2788, 0.11141412945539662), (2852, 0.11141412945539662), (3244, 0.11141412945539662), (3529, 0.11141412945539662), (3840, 0.11141412945539662), (5316, 0.11141412945539662), (245, 0.11141412945539661), (890, 0.11141412945539661), (734, 0.11113016798649544), (3930, 0.11113016798649544), (1868, 0.11113016798649543), (2314, 0.11113016798649543), (2925, 0.11113016798649543), (3056, 0.11100409855511592), (488, 0.11044204887501097), (3820, 0.11044204887501097), (1022, 0.11029436104106952), (3829, 0.11013346473215288), (4891, 0.11013346473215288), (228, 0.11013346473215287), (383, 0.11013346473215287), (1934, 0.11013346473215287), (2065, 0.11013346473215287), (2790, 0.11013346473215287), (2850, 0.11013346473215287), (3270, 0.11013346473215287), (3942, 0.11013346473215287), (16, 0.10997646755364593), (485, 0.10997646755364593), (439, 0.10997646755364592), (576, 0.10997646755364592), (731, 0.10997646755364592), (2016, 0.10997646755364592), (2178, 0.10997646755364592), (2853, 0.10997646755364592), (3097, 0.10997646755364592), (3754, 0.10997646755364592), (5315, 0.10997646755364592), (2647, 0.10990661904386646), (267, 0.10988845115895124), (498, 0.10988845115895124), (912, 0.10988845115895124), (1289, 0.10988845115895124), (3206, 0.10988845115895124), (3222, 0.10988845115895124), (3792, 0.10988845115895124), (4054, 0.10988845115895124), (4151, 0.10988845115895124), (4951, 0.10988845115895124), (5027, 0.10988845115895124), (5437, 0.10988845115895124), (4093, 0.10957582335289494), (5112, 0.10934309567773046), (53, 0.10916310692084447), (169, 0.10916310692084447), (475, 0.10916310692084447), (3842, 0.10916310692084447), (5022, 0.10916310692084447), (4445, 0.10916310692084445), (3612, 0.10887114836937548), (2513, 0.10880577991654784), (322, 0.10859306069076735), (411, 0.10859306069076735), (4223, 0.10859306069076735), (4253, 0.10859306069076735), (5269, 0.10859306069076735), (5319, 0.10859306069076735), (1152, 0.10821795400621298), (1446, 0.10821795400621298), (3243, 0.10821795400621298), (4591, 0.10821795400621298), (3103, 0.10821795400621297), (848, 0.1081798959941318), (1912, 0.1081798959941318), (773, 0.10775449168807308), (1397, 0.10775449168807308), (2186, 0.10775449168807308), (2380, 0.10775449168807308), (3680, 0.10775449168807308), (3761, 0.10775449168807308), (4221, 0.10775449168807308), (4249, 0.10775449168807308), (4267, 0.10775449168807308), (4871, 0.10775449168807308), (4925, 0.10775449168807308), (4981, 0.10775449168807308), (5739, 0.10775449168807308), (212, 0.10729693339314986), (1527, 0.10729693339314986), (2099, 0.10729693339314986), (3395, 0.10729693339314986), (185, 0.10726058003503604), (413, 0.10726058003503604), (556, 0.10726058003503604), (563, 0.10726058003503604), (883, 0.10726058003503604), (1257, 0.10726058003503604), (1505, 0.10726058003503604), (3564, 0.10726058003503604), (3809, 0.10726058003503604), (4203, 0.10726058003503604), (4323, 0.10726058003503604), (4867, 0.10726058003503604), (4898, 0.10726058003503604), (5510, 0.10726058003503604), (3374, 0.10679530870378956), (2295, 0.10673309904702605), (1176, 0.10639903531978631), (48, 0.1063990353197863), (3339, 0.1063990353197863), (5604, 0.1063990353197863), (534, 0.10639903531978628), (3049, 0.10639903531978628), (3125, 0.10639903531978628), (3175, 0.10639903531978628), (3724, 0.10639903531978628), (5167, 0.10639903531978628), (5574, 0.10639903531978628), (81, 0.10618255689548695), (2469, 0.10597597584982435), (2496, 0.10597597584982435), (2962, 0.10597597584982435), (3623, 0.10597597584982435), (168, 0.10597597584982434), (1291, 0.10597597584982434), (276, 0.10574021142908589), (309, 0.10574021142908589), (769, 0.10574021142908589), (820, 0.10574021142908589), (1563, 0.10574021142908589), (1680, 0.10574021142908589), (1799, 0.10574021142908589), (1893, 0.10574021142908589), (1926, 0.10574021142908589), (3772, 0.10574021142908589), (3813, 0.10574021142908589), (4485, 0.10574021142908589), (4653, 0.10574021142908589), (5606, 0.10574021142908589), (5701, 0.10574021142908589), (2813, 0.10552330820287907), (199, 0.10552330820287906), (654, 0.10552330820287906), (2963, 0.10552330820287906), (3338, 0.10552330820287906), (5259, 0.10552330820287906), (5474, 0.10552330820287906), (2283, 0.10477452717020144), (2007, 0.104736448111277), (2536, 0.104736448111277), (3928, 0.104736448111277), (4818, 0.104736448111277), (416, 0.10473644811127698), (445, 0.10473644811127698), (792, 0.10473644811127698), (1559, 0.10473644811127698), (2979, 0.10473644811127698), (4976, 0.10473644811127698), (5029, 0.10473644811127698), (1842, 0.10466885439780778), (5263, 0.10466885439780778), (5693, 0.10466885439780778), (1534, 0.10466885439780776), (3785, 0.10429191508266267), (135, 0.10383482633023301), (202, 0.10383482633023301), (359, 0.10383482633023301), (615, 0.10383482633023301), (1155, 0.10383482633023301), (1329, 0.10383482633023301), (1360, 0.10383482633023301), (1419, 0.10383482633023301), (1654, 0.10383482633023301), (2110, 0.10383482633023301), (2121, 0.10383482633023301), (2359, 0.10383482633023301), (2676, 0.10383482633023301), (3598, 0.10383482633023301), (3701, 0.10383482633023301), (4318, 0.10383482633023301), (4850, 0.10383482633023301), (4930, 0.10383482633023301), (5335, 0.10383482633023301), (5596, 0.10383482633023301), (5763, 0.10383482633023301), (1100, 0.10383482633023298), (2521, 0.10383482633023298), (3650, 0.10383482633023298), (2784, 0.10368379377562768), (101, 0.10353942082032278), (508, 0.10353942082032278), (1287, 0.10353942082032278), (1946, 0.10353942082032278), (2146, 0.10353942082032278), (3871, 0.10353942082032278), (4330, 0.10353942082032278), (3504, 0.10337435919957712), (1471, 0.10308618768124461), (2470, 0.10308618768124461), (381, 0.10302042296151678), (1870, 0.10302042296151678), (1960, 0.10302042296151677), (2974, 0.10302042296151677), (3191, 0.10249879721504898), (730, 0.10247150907580291), (98, 0.10238251947232521), (1637, 0.10238251947232521), (2270, 0.10238251947232521), (5139, 0.10238251947232521), (567, 0.1023825194723252), (585, 0.1023825194723252), (614, 0.1023825194723252), (1726, 0.1023825194723252), (1964, 0.1023825194723252), (2003, 0.1023825194723252), (2049, 0.1023825194723252), (3085, 0.1023825194723252), (3490, 0.1023825194723252), (5514, 0.1023825194723252), (92, 0.10222488655439785), (155, 0.10222488655439785), (403, 0.10222488655439785), (3456, 0.10222488655439785), (3594, 0.10222488655439785), (5539, 0.10222488655439783), (1089, 0.10202886549856947), (1475, 0.10202886549856947), (3104, 0.10202886549856947), (3437, 0.10202886549856947), (3683, 0.10202886549856947), (4197, 0.10202886549856947), (4865, 0.10202886549856947), (4959, 0.10202886549856947), (5054, 0.10202886549856947), (5664, 0.10202886549856947), (3310, 0.1016187192398576), (1056, 0.10135352331138285), (410, 0.10126355123567277), (431, 0.10126355123567277), (1708, 0.10126355123567277), (1879, 0.10126355123567277), (2360, 0.10126355123567277), (2694, 0.10126355123567277), (3482, 0.10126355123567277), (3722, 0.10126355123567277), (4180, 0.10126355123567277), (5073, 0.10126355123567277), (555, 0.1011605189370901), (4352, 0.10068758264448043), (2805, 0.10031397251510385), (137, 0.10031397251510384), (1024, 0.10031397251510384), (3351, 0.10031397251510384), (3593, 0.10031397251510384), (4196, 0.10031397251510384), (4402, 0.10031397251510384), (4870, 0.10031397251510384), (5477, 0.10031397251510384), (5663, 0.10031397251510384), (1850, 0.10024580127208585), (372, 0.10018048746260763), (683, 0.10018048746260763), (2768, 0.10018048746260763), (2846, 0.10018048746260763), (2880, 0.10018048746260763), (3201, 0.10018048746260763), (5520, 0.10018048746260763), (776, 0.09994449069791544), (1030, 0.09994449069791544), (1587, 0.09994449069791544), (1667, 0.09994449069791544), (1729, 0.09994449069791544), (1851, 0.09994449069791544), (2474, 0.09994449069791544), (3052, 0.09994449069791544), (3714, 0.09994449069791544), (5621, 0.09994449069791544), (5682, 0.09994449069791544), (3582, 0.09989859196268294), (5283, 0.09921761202783169), (4526, 0.09917362283833726), (1142, 0.09913144821476805), (225, 0.09913144821476803), (1396, 0.09913144821476803), (1910, 0.09913144821476803), (2550, 0.09913144821476803), (538, 0.09868274229828969), (986, 0.09868274229828969), (1134, 0.09868274229828969), (1256, 0.09868274229828969), (1344, 0.09868274229828969), (1421, 0.09868274229828969), (1486, 0.09868274229828969), (2242, 0.09868274229828969), (2950, 0.09868274229828969), (3329, 0.09868274229828969), (3674, 0.09868274229828969), (4579, 0.09868274229828969), (5095, 0.09868274229828969), (5417, 0.09868274229828969), (1830, 0.09865027552909439), (65, 0.09850636549546779), (213, 0.09850636549546779), (589, 0.09850636549546779), (1528, 0.09850636549546779), (4070, 0.09850636549546779), (4460, 0.09850636549546779), (116, 0.09811468853477787), (481, 0.09811468853477787), (728, 0.09811468853477787), (900, 0.09811468853477787), (1464, 0.09811468853477787), (2776, 0.09811468853477787), (2940, 0.09811468853477787), (4319, 0.09811468853477787), (4561, 0.09811468853477787), (4918, 0.09781019871208081), (149, 0.0978101987120808), (316, 0.0978101987120808), (318, 0.0978101987120808), (1279, 0.0978101987120808), (3499, 0.0978101987120808), (4219, 0.0978101987120808), (1108, 0.09762796529212486), (145, 0.09712858623572643), (218, 0.09712858623572643), (240, 0.09712858623572643), (286, 0.09712858623572643), (444, 0.09712858623572643), (446, 0.09712858623572643), (584, 0.09712858623572643), (948, 0.09712858623572643), (1440, 0.09712858623572643), (1544, 0.09712858623572643), (1695, 0.09712858623572643), (1858, 0.09712858623572643), (2034, 0.09712858623572643), (2401, 0.09712858623572643), (2858, 0.09712858623572643), (3343, 0.09712858623572643), (4342, 0.09712858623572643), (4405, 0.09712858623572643), (4490, 0.09712858623572643), (4535, 0.09712858623572643), (4724, 0.09712858623572643), (5232, 0.09712858623572643), (5677, 0.09712858623572643), (5725, 0.09712858623572643), (8, 0.09712858623572641), (294, 0.09712858623572641), (1051, 0.09712858623572641), (1186, 0.09712858623572641), (1331, 0.09712858623572641), (1434, 0.09712858623572641), (1923, 0.09712858623572641), (3510, 0.09712858623572641), (3707, 0.09712858623572641), (3780, 0.09712858623572641), (4667, 0.09712858623572641), (4775, 0.09712858623572641), (5385, 0.09712858623572641), (5433, 0.09712858623572641), (5609, 0.09712858623572641), (1653, 0.09646102790437212), (374, 0.09646102790437211), (864, 0.09646102790437211), (1884, 0.09646102790437211), (419, 0.09617163101410253), (665, 0.09617163101410253), (923, 0.09617163101410253), (1265, 0.09617163101410253), (1516, 0.09617163101410253), (1794, 0.09617163101410253), (1796, 0.09617163101410253), (2367, 0.09617163101410253), (3007, 0.09617163101410253), (3402, 0.09617163101410253), (3900, 0.09617163101410253), (4417, 0.09617163101410253), (4147, 0.09580704729332694), (198, 0.09564561997176209), (1031, 0.09564561997176209), (1138, 0.09564561997176209), (1298, 0.09564561997176209), (1853, 0.09564561997176209), (3000, 0.09564561997176209), (3398, 0.09564561997176209), (3853, 0.09564561997176209), (3859, 0.09564561997176209), (5204, 0.09564561997176209), (5277, 0.09564561997176209), (5672, 0.09564561997176209), (732, 0.09524241471993242), (806, 0.09524241471993242), (1141, 0.09524241471993242), (2732, 0.09524241471993242), (2893, 0.09524241471993242), (3535, 0.09524241471993242), (4386, 0.09524241471993242), (4896, 0.09524241471993242), (462, 0.09520505742697935), (1132, 0.09516619028617729), (1515, 0.09453802374948816), (1764, 0.09453802374948816), (2199, 0.09453802374948816), (2420, 0.09453802374948816), (3058, 0.09453802374948816), (3072, 0.09453802374948816), (3285, 0.09453802374948816), (3298, 0.09453802374948816), (4536, 0.09453802374948816), (4567, 0.09453802374948816), (5733, 0.09453802374948816), (5773, 0.09453802374948816), (4367, 0.09453802374948815), (1014, 0.09433962264150944), (1215, 0.09433962264150944), (1746, 0.09433962264150944), (1900, 0.09433962264150944), (3028, 0.09433962264150944), (3979, 0.09433962264150944), (4817, 0.09433962264150944), (46, 0.0942285694863091), (672, 0.0942285694863091), (764, 0.0942285694863091), (1238, 0.0942285694863091), (1931, 0.0942285694863091), (2051, 0.0942285694863091), (2418, 0.0942285694863091), (2480, 0.0942285694863091), (2683, 0.0942285694863091), (3576, 0.0942285694863091), (3938, 0.0942285694863091), (4897, 0.0942285694863091), (5182, 0.0942285694863091), (5482, 0.0942285694863091), (5705, 0.0942285694863091), (1984, 0.09392213430248138), (5515, 0.09392213430248138), (2993, 0.09388403974228425), (2598, 0.09346202568200737), (2799, 0.09346202568200737), (3872, 0.09346202568200737), (5201, 0.09346202568200737), (5234, 0.09346202568200737), (4423, 0.09331812717375042), (3, 0.0933181271737504), (142, 0.09287269204251442), (147, 0.09287269204251442), (449, 0.09287269204251442), (568, 0.09287269204251442), (579, 0.09287269204251442), (1229, 0.09287269204251442), (1447, 0.09287269204251442), (1720, 0.09287269204251442), (1975, 0.09287269204251442), (1976, 0.09287269204251442), (2071, 0.09287269204251442), (2234, 0.09287269204251442), (2762, 0.09287269204251442), (3233, 0.09287269204251442), (3756, 0.09287269204251442), (3795, 0.09287269204251442), (4030, 0.09287269204251442), (4946, 0.09287269204251442), (5290, 0.09287269204251442), (5706, 0.09287269204251442), (3517, 0.09272562513782726), (3885, 0.09272562513782726), (694, 0.09260847332207953), (1114, 0.09260847332207953), (2571, 0.09260847332207953), (2722, 0.09260847332207953), (3062, 0.09260847332207953), (3304, 0.09260847332207953), (4378, 0.09260847332207953), (5031, 0.09260847332207953), (5300, 0.09260847332207953), (1136, 0.0921442675250927), (1801, 0.0921442675250927), (2375, 0.0921442675250927), (2602, 0.0921442675250927), (2615, 0.0921442675250927), (2866, 0.0921442675250927), (3214, 0.0921442675250927), (3965, 0.0921442675250927), (4965, 0.0921442675250927), (5149, 0.0921442675250927), (5221, 0.0921442675250927), (5503, 0.0921442675250927), (5513, 0.0921442675250927), (5723, 0.0921442675250927), (785, 0.09214426752509268), (132, 0.09177788727679406), (396, 0.09177788727679406), (645, 0.09177788727679406), (752, 0.09177788727679406), (827, 0.09177788727679406), (1270, 0.09177788727679406), (1314, 0.09177788727679406), (2129, 0.09177788727679406), (3127, 0.09177788727679406), (3226, 0.09177788727679406), (3453, 0.09177788727679406), (5156, 0.09177788727679406), (1815, 0.09157370929912602), (2200, 0.09157370929912602), (3423, 0.09157370929912602), (3970, 0.09157370929912602), (4396, 0.09157370929912602), (4596, 0.09157370929912602), (4630, 0.09157370929912602), (5400, 0.09157370929912602), (5404, 0.09157370929912602), (307, 0.09126381430107945), (150, 0.09101362019613167), (1274, 0.09096925576737039), (1525, 0.09096925576737039), (3551, 0.09096925576737039), (4126, 0.09096925576737039), (5140, 0.09096925576737039), (3906, 0.09046368392156634), (847, 0.09040319332040482), (547, 0.09032775043542898), (901, 0.09032775043542898), (1062, 0.09032775043542898), (1157, 0.09032775043542898), (3580, 0.09032775043542898), (4202, 0.09032775043542898), (4333, 0.09032775043542898), (5340, 0.09032775043542898), (5493, 0.09032775043542898), (5566, 0.09032775043542898), (5777, 0.09032775043542898), (407, 0.09018162833851082), (2258, 0.09018162833851082), (2588, 0.09018162833851082), (3400, 0.09018162833851082), (3489, 0.09018162833851082), (3800, 0.09018162833851082), (466, 0.08992359739952711), (490, 0.08992359739952711), (613, 0.08992359739952711), (1495, 0.08992359739952711), (1569, 0.08992359739952711), (2628, 0.08992359739952711), (2994, 0.08992359739952711), (4471, 0.08992359739952711), (4917, 0.08992359739952711), (5288, 0.08992359739952711), (5489, 0.08992359739952711), (5603, 0.08992359739952711), (5784, 0.08992359739952711), (5286, 0.08966257044132755), (1997, 0.08941411116095821), (2572, 0.08939307007085373), (24, 0.0891313035643173), (268, 0.0891313035643173), (964, 0.0891313035643173), (1003, 0.0891313035643173), (1955, 0.0891313035643173), (2677, 0.0891313035643173), (2815, 0.0891313035643173), (3228, 0.0891313035643173), (3231, 0.0891313035643173), (3335, 0.0891313035643173), (3430, 0.0891313035643173), (4157, 0.0891313035643173), (4926, 0.0891313035643173), (5258, 0.0891313035643173), (5415, 0.0891313035643173), (467, 0.08866586276648858), (852, 0.08866586276648858), (1302, 0.08866586276648858), (2141, 0.08866586276648858), (3571, 0.08866586276648858), (3990, 0.08866586276648858), (4193, 0.08866586276648858), (5432, 0.08866586276648858), (3995, 0.08835958944106681), (341, 0.08798117404291673), (499, 0.08798117404291673), (687, 0.08798117404291673), (1146, 0.08798117404291673), (1410, 0.08798117404291673), (1614, 0.08798117404291673), (1713, 0.08798117404291673), (2171, 0.08798117404291673), (2948, 0.08798117404291673), (3662, 0.08798117404291673), (3952, 0.08798117404291673), (4844, 0.08798117404291673), (5292, 0.08798117404291673), (5471, 0.08798117404291673), (5781, 0.08798117404291673), (2884, 0.0879360901690659), (15, 0.08793609016906588), (873, 0.08793609016906588), (963, 0.08793609016906588), (4570, 0.08793609016906588), (3914, 0.08785611189861342), (858, 0.0878561118986134), (1324, 0.0878561118986134), (1415, 0.0878561118986134), (1612, 0.0878561118986134), (2307, 0.0878561118986134), (2666, 0.0878561118986134), (2848, 0.0878561118986134), (3068, 0.0878561118986134), (3616, 0.0878561118986134), (4970, 0.0878561118986134), (5386, 0.0878561118986134), (904, 0.08722404533150649), (1473, 0.08722404533150649), (2147, 0.08722404533150649), (5084, 0.08722404533150649), (75, 0.08687444855261388), (131, 0.08687444855261388), (280, 0.08687444855261388), (332, 0.08687444855261388), (380, 0.08687444855261388), (436, 0.08687444855261388), (500, 0.08687444855261388), (650, 0.08687444855261388), (1184, 0.08687444855261388), (1802, 0.08687444855261388), (2323, 0.08687444855261388), (2680, 0.08687444855261388), (2710, 0.08687444855261388), (2811, 0.08687444855261388), (2870, 0.08687444855261388), (2968, 0.08687444855261388), (4335, 0.08687444855261388), (4875, 0.08687444855261388), (4893, 0.08687444855261388), (5312, 0.08687444855261388), (2185, 0.08652902194186082), (2597, 0.08652902194186082), (4546, 0.08652902194186082), (4723, 0.08652902194186082), (233, 0.08592497251893072), (693, 0.08592497251893072), (1059, 0.08592497251893072), (1233, 0.08592497251893072), (1368, 0.08592497251893072), (1519, 0.08592497251893072), (1871, 0.08592497251893072), (1880, 0.08592497251893072), (2527, 0.08592497251893072), (2560, 0.08592497251893072), (2658, 0.08592497251893072), (3347, 0.08592497251893072), (4209, 0.08592497251893072), (4263, 0.08592497251893072), (4284, 0.08592497251893072), (4408, 0.08592497251893072), (5224, 0.08592497251893072), (5495, 0.08592497251893072), (5498, 0.08592497251893072), (5644, 0.08592497251893072), (190, 0.08585035246793066), (252, 0.08585035246793066), (3057, 0.08585035246793064), (646, 0.08580846402802883), (794, 0.08580846402802883), (835, 0.08580846402802883), (1643, 0.08580846402802883), (2663, 0.08580846402802883), (3133, 0.08580846402802883), (3147, 0.08580846402802883), (3665, 0.08580846402802883), (3857, 0.08580846402802883), (4183, 0.08580846402802883), (4628, 0.08580846402802883), (4754, 0.08580846402802883), (5045, 0.08580846402802883), (5068, 0.08580846402802883), (4154, 0.08546176174543203), (4966, 0.08546176174543203), (3935, 0.08518740546199821), (979, 0.0851874054619982), (4884, 0.0851874054619982), (80, 0.08500596243286052), (1276, 0.08500596243286052), (312, 0.08478078067985947), (1043, 0.08478078067985947), (1809, 0.08478078067985947), (1945, 0.08478078067985947), (1969, 0.08478078067985947), (2006, 0.08478078067985947), (2102, 0.08478078067985947), (2792, 0.08478078067985947), (3397, 0.08478078067985947), (3461, 0.08478078067985947), (4040, 0.08478078067985947), (4506, 0.08478078067985947), (5336, 0.08478078067985947), (4017, 0.08455737902493805), (2517, 0.08453958309103057), (3316, 0.08453958309103057), (5096, 0.08453958309103057), (5285, 0.08453958309103057), (56, 0.08411582311380666), (537, 0.08411582311380666), (601, 0.08411582311380666), (881, 0.08411582311380666), (988, 0.08411582311380666), (1149, 0.08411582311380666), (1470, 0.08411582311380666), (1488, 0.08411582311380666), (2311, 0.08411582311380666), (2372, 0.08411582311380666), (2449, 0.08411582311380666), (3219, 0.08411582311380666), (3884, 0.08411582311380666), (4484, 0.08411582311380666), (4825, 0.08411582311380666), (4858, 0.08411582311380666), (4862, 0.08411582311380666), (4961, 0.08411582311380666), (5150, 0.08411582311380666), (5674, 0.08411582311380666), (1358, 0.08390631887040037), (266, 0.08378915848902159), (540, 0.08378915848902159), (594, 0.08378915848902159), (1747, 0.08378915848902159), (2599, 0.08378915848902159), (2724, 0.08378915848902159), (2759, 0.08378915848902159), (2954, 0.08378915848902159), (3656, 0.08378915848902159), (4762, 0.08378915848902159), (4799, 0.08378915848902159), (5075, 0.08378915848902159), (5122, 0.08378915848902159), (5168, 0.08378915848902159), (5244, 0.08378915848902159), (842, 0.0832870755815962), (1849, 0.0832870755815962), (1959, 0.0832870755815962), (2543, 0.0832870755815962), (2786, 0.0832870755815962), (3106, 0.0832870755815962), (4988, 0.0832870755815962), (5208, 0.0832870755815962), (1628, 0.08283153665625824), (144, 0.08283153665625823), (291, 0.08283153665625823), (649, 0.08283153665625823), (855, 0.08283153665625823), (937, 0.08283153665625823), (1006, 0.08283153665625823), (1383, 0.08283153665625823), (2050, 0.08283153665625823), (2243, 0.08283153665625823), (3020, 0.08283153665625823), (3170, 0.08283153665625823), (3798, 0.08283153665625823), (3905, 0.08283153665625823), (4275, 0.08283153665625823), (5187, 0.08283153665625823), (5248, 0.08283153665625823), (61, 0.08241633836921343), (1052, 0.08241633836921343), (1375, 0.08241633836921343), (2047, 0.08241633836921343), (2264, 0.08241633836921343), (2303, 0.08241633836921343), (2877, 0.08241633836921343), (3098, 0.08241633836921343), (3369, 0.08241633836921343), (3870, 0.08241633836921343), (4238, 0.08241633836921343), (4428, 0.08241633836921343), (4515, 0.08241633836921343), (4852, 0.08241633836921343), (4860, 0.08241633836921343), (4885, 0.08241633836921343), (5524, 0.08241633836921343), (5563, 0.08241633836921343), (2657, 0.08241633836921342), (749, 0.08208863791288983), (999, 0.08208863791288983), (52, 0.08190601557786016), (261, 0.08190601557786016), (630, 0.08190601557786016), (651, 0.08190601557786016), (656, 0.08190601557786016), (946, 0.08190601557786016), (1699, 0.08190601557786016), (1927, 0.08190601557786016), (2008, 0.08190601557786016), (2205, 0.08190601557786016), (2209, 0.08190601557786016), (2481, 0.08190601557786016), (2705, 0.08190601557786016), (3575, 0.08190601557786016), (3925, 0.08190601557786016), (4243, 0.08190601557786016), (4718, 0.08190601557786016), (5247, 0.08190601557786016), (5546, 0.08190601557786016), (5555, 0.08190601557786016), (1378, 0.08150849892673401), (3866, 0.08150849892673401), (982, 0.0812072311942812), (76, 0.08101084098853821), (369, 0.08101084098853821), (757, 0.08101084098853821), (976, 0.08101084098853821), (985, 0.08101084098853821), (1115, 0.08101084098853821), (1201, 0.08101084098853821), (1494, 0.08101084098853821), (1684, 0.08101084098853821), (1904, 0.08101084098853821), (2548, 0.08101084098853821), (3115, 0.08101084098853821), (3468, 0.08101084098853821), (3554, 0.08101084098853821), (4502, 0.08101084098853821), (4877, 0.08101084098853821), (5056, 0.08101084098853821), (2020, 0.08097492396571823), (1549, 0.08094048852977202), (3542, 0.08094048852977202), (33, 0.08081586876605482), (209, 0.08081586876605482), (263, 0.08081586876605482), (408, 0.08081586876605482), (477, 0.08081586876605482), (1065, 0.08081586876605482), (1417, 0.08081586876605482), (1913, 0.08081586876605482), (2204, 0.08081586876605482), (2222, 0.08081586876605482), (2907, 0.08081586876605482), (3063, 0.08081586876605482), (4216, 0.08081586876605482), (4832, 0.08081586876605482), (5113, 0.08081586876605482), (5275, 0.08081586876605482), (5455, 0.08081586876605482), (5636, 0.08081586876605482), (5715, 0.08081586876605482), (1920, 0.0803841899203101), (3401, 0.0803841899203101), (4308, 0.0803841899203101), (3607, 0.08035839406258206), (1688, 0.0801443899700861), (1932, 0.0801443899700861), (2090, 0.0801443899700861), (3365, 0.0801443899700861), (3752, 0.0801443899700861), (3984, 0.0801443899700861), (4766, 0.0801443899700861), (5393, 0.0801443899700861), (5696, 0.0801443899700861), (3137, 0.07983920607777245), (996, 0.07930515857181443), (1273, 0.07930515857181443), (1294, 0.07930515857181443), (1686, 0.07930515857181443), (2586, 0.07930515857181443), (2649, 0.07930515857181443), (3492, 0.07930515857181443), (4182, 0.07930515857181443), (4192, 0.07930515857181443), (4399, 0.07930515857181443), (4440, 0.07930515857181443), (5309, 0.07930515857181443), (5378, 0.07930515857181443), (5647, 0.07930515857181443), (134, 0.07930515857181442), (1582, 0.07930515857181442), (1599, 0.07930515857181442), (2144, 0.07930515857181442), (2253, 0.07930515857181442), (2265, 0.07930515857181442), (2365, 0.07930515857181442), (2377, 0.07930515857181442), (2556, 0.07930515857181442), (2727, 0.07930515857181442), (3055, 0.07930515857181442), (3255, 0.07930515857181442), (3777, 0.07930515857181442), (4351, 0.07930515857181442), (4804, 0.07930515857181442), (5135, 0.07930515857181442), (5249, 0.07930515857181442), (5697, 0.07930515857181442), (679, 0.07878168645790681), (1187, 0.07878168645790681), (41, 0.0784917508278223), (136, 0.0784917508278223), (300, 0.0784917508278223), (302, 0.0784917508278223), (529, 0.0784917508278223), (782, 0.0784917508278223), (829, 0.0784917508278223), (1165, 0.0784917508278223), (1220, 0.0784917508278223), (1611, 0.0784917508278223), (1627, 0.0784917508278223), (1793, 0.0784917508278223), (2533, 0.07826844525206782), (244, 0.07787611974767476), (433, 0.07787611974767476), (1093, 0.07787611974767476), (2031, 0.07787611974767476), (2472, 0.07787611974767476), (2982, 0.07787611974767476), (3208, 0.07787611974767476), (3532, 0.07787611974767476), (4143, 0.07787611974767476), (5030, 0.07787611974767476), (5033, 0.07787611974767476), (5101, 0.07787611974767476), (5120, 0.07787611974767476), (284, 0.07776510597812535), (3941, 0.07776510597812535), (1166, 0.07770286898858114), (1586, 0.07770286898858114), (1996, 0.07770286898858114), (2327, 0.07770286898858114), (2667, 0.07770286898858114), (5251, 0.07770286898858114), (5505, 0.07770286898858114), (5554, 0.07770286898858114), (602, 0.07693730481128203), (758, 0.07693730481128203), (1840, 0.07693730481128203), (2479, 0.07693730481128203), (2764, 0.07693730481128203), (2785, 0.07693730481128203), (3644, 0.07693730481128203), (4798, 0.07693730481128203), (5189, 0.07693730481128203), (208, 0.0765216491239271), (356, 0.0765216491239271), (1049, 0.0765216491239271), (1104, 0.0765216491239271), (1428, 0.0765216491239271), (1812, 0.0765216491239271), (1965, 0.0765216491239271), (2262, 0.0765216491239271), (2369, 0.0765216491239271), (3939, 0.0765216491239271), (5327, 0.0765216491239271), (5585, 0.0765216491239271), (5613, 0.0765216491239271), (5747, 0.0765216491239271), (58, 0.07619393177594594), (279, 0.07619393177594594), (600, 0.07619393177594594), (994, 0.07619393177594594), (1072, 0.07619393177594594), (1189, 0.07619393177594594), (1412, 0.07619393177594594), (1427, 0.07619393177594594), (1956, 0.07619393177594594), (2029, 0.07619393177594594), (2273, 0.07619393177594594), (2689, 0.07619393177594594), (3541, 0.07619393177594594), (3648, 0.07619393177594594), (3983, 0.07619393177594594), (4000, 0.07619393177594594), (4110, 0.07619393177594594), (4167, 0.07619393177594594), (4173, 0.07619393177594594), (4226, 0.07619393177594594), (4331, 0.07619393177594594), (4389, 0.07619393177594594), (5618, 0.07619393177594594), (5757, 0.07619393177594594), (2662, 0.07587038920281758), (582, 0.07547169811320756), (777, 0.07547169811320756), (932, 0.07547169811320756), (1532, 0.07547169811320756), (1742, 0.07547169811320756), (2464, 0.07547169811320756), (2825, 0.07547169811320756), (3336, 0.07547169811320756), (3874, 0.07547169811320756), (5174, 0.07547169811320756), (1144, 0.07523547938632788), (1970, 0.07523547938632788), (2069, 0.07523547938632788), (2245, 0.07523547938632788), (2342, 0.07523547938632788), (2952, 0.07523547938632788), (3738, 0.07523547938632788), (4612, 0.07523547938632788), (4767, 0.07523547938632788), (4809, 0.07523547938632788), (4939, 0.07523547938632788), (5090, 0.07523547938632788), (5592, 0.07523547938632788), (5593, 0.07523547938632788), (125, 0.07508240602452523), (1015, 0.0747696205456059), (2467, 0.0747696205456059), (3378, 0.0747696205456059), (3556, 0.0747696205456059), (4337, 0.0747696205456059), (5243, 0.0747696205456059), (2728, 0.07449422505904477), (331, 0.07408677865766362), (1019, 0.07408677865766362), (1084, 0.07408677865766362), (1099, 0.07408677865766362), (1122, 0.07408677865766362), (1749, 0.07408677865766362), (2127, 0.07408677865766362), (2214, 0.07408677865766362), (3654, 0.07408677865766362), (5303, 0.07408677865766362), (293, 0.07401205672371727), (691, 0.07401205672371727), (1244, 0.07401205672371727), (1398, 0.07401205672371727), (2035, 0.07401205672371727), (2210, 0.07401205672371727), (2582, 0.07401205672371727), (2834, 0.07401205672371727), (3371, 0.07401205672371727), (3552, 0.07401205672371727), (3880, 0.07401205672371727), (4186, 0.07401205672371727), (4479, 0.07401205672371727), (4696, 0.07401205672371727), (5047, 0.07401205672371727), (5210, 0.07401205672371727), (5272, 0.07401205672371727), (5276, 0.07401205672371727), (5339, 0.07401205672371727), (5622, 0.07401205672371727), (5652, 0.07401205672371727), (5252, 0.07371541402007414), (670, 0.07363299120088901), (458, 0.07342230982143524), (1092, 0.07342230982143524), (1506, 0.07342230982143524), (1553, 0.07342230982143524), (2743, 0.07342230982143524), (2889, 0.07342230982143524), (3264, 0.07342230982143524), (3823, 0.07342230982143524), (4140, 0.07342230982143524), (4370, 0.07342230982143524), (5459, 0.07342230982143524), (5485, 0.07342230982143524), (5487, 0.07342230982143524), (5770, 0.07342230982143524), (23, 0.07284643967679481), (49, 0.07284643967679481), (141, 0.07284643967679481), (441, 0.07284643967679481), (678, 0.07284643967679481), (931, 0.07284643967679481), (1069, 0.07284643967679481), (1070, 0.07284643967679481), (1246, 0.07284643967679481), (1310, 0.07284643967679481), (2349, 0.07284643967679481), (2609, 0.07284643967679481), (2943, 0.07284643967679481), (3260, 0.07284643967679481), (3910, 0.07284643967679481), (4714, 0.07284643967679481), (4805, 0.07284643967679481), (5214, 0.07284643967679481), (5261, 0.07284643967679481), (5447, 0.07284643967679481), (5465, 0.07284643967679481), (5577, 0.07284643967679481), (2442, 0.07280095329104422), (623, 0.07277540461389631), (740, 0.07277540461389631), (1671, 0.07277540461389631), (1761, 0.07277540461389631), (2063, 0.07277540461389631), (4498, 0.07277540461389631), (180, 0.07214530267080865), (181, 0.07214530267080865), (456, 0.07214530267080865), (3169, 0.07214530267080865), (3997, 0.07214530267080865), (2201, 0.07199649817549106), (2, 0.07173421497882157), (552, 0.07173421497882157), (934, 0.07173421497882157), (973, 0.07173421497882157), (974, 0.07173421497882157), (1139, 0.07173421497882157), (2191, 0.07173421497882157), (2255, 0.07173421497882157), (2399, 0.07173421497882157), (3349, 0.07173421497882157), (3498, 0.07173421497882157), (3544, 0.07173421497882157), (3778, 0.07173421497882157), (3786, 0.07173421497882157), (4400, 0.07173421497882157), (4670, 0.07173421497882157), (4764, 0.07173421497882157), (5365, 0.07173421497882157), (4214, 0.0716041437657756), (425, 0.07153128892876658), (2812, 0.07153128892876658), (1369, 0.07093269021319086), (1541, 0.07093269021319086), (2478, 0.07093269021319086), (3014, 0.07093269021319086), (3065, 0.07093269021319086), (3822, 0.07093269021319086), (3959, 0.07093269021319086), (4179, 0.07093269021319086), (5020, 0.07093269021319086), (5640, 0.07093269021319086), (5753, 0.07093269021319086), (50, 0.07067142711473183), (272, 0.07067142711473183), (539, 0.07067142711473183), (676, 0.07067142711473183), (1348, 0.07067142711473183), (1562, 0.07067142711473183), (2122, 0.07067142711473183), (2298, 0.07067142711473183), (2577, 0.07067142711473183), (2583, 0.07067142711473183), (3155, 0.07067142711473183), (3538, 0.07067142711473183), (4343, 0.07067142711473183), (5362, 0.07067142711473183), (5384, 0.07067142711473183), (5502, 0.07067142711473183), (5559, 0.07067142711473183), (5610, 0.07067142711473183), (5679, 0.07067142711473183), (5299, 0.0704644825207817), (507, 0.0703488721352527), (573, 0.0703488721352527), (652, 0.0703488721352527), (661, 0.0703488721352527), (811, 0.0703488721352527), (160, 0.07009651926150555), (1891, 0.06977923626520519), (1925, 0.06977923626520519), (2492, 0.06977923626520519), (118, 0.06973426092294634), (3727, 0.06973426092294634), (28, 0.06965451903188581), (315, 0.06965451903188581), (352, 0.06965451903188581), (405, 0.06965451903188581), (468, 0.06965451903188581), (895, 0.06965451903188581), (917, 0.06965451903188581), (943, 0.06965451903188581), (1009, 0.06965451903188581), (1521, 0.06965451903188581), (1560, 0.06965451903188581), (1610, 0.06965451903188581), (1661, 0.06965451903188581), (1682, 0.06965451903188581), (1762, 0.06965451903188581), (2018, 0.06965451903188581), (2163, 0.06965451903188581), (2570, 0.06965451903188581), (2656, 0.06965451903188581), (3003, 0.06965451903188581), (3166, 0.06965451903188581), (3342, 0.06965451903188581), (3381, 0.06965451903188581), (3739, 0.06965451903188581), (3932, 0.06965451903188581), (4826, 0.06965451903188581), (4929, 0.06965451903188581), (5146, 0.06965451903188581), (5441, 0.06965451903188581), (5473, 0.06965451903188581), (5496, 0.06965451903188581), (5714, 0.06965451903188581), (84, 0.06922321755348866), (106, 0.06922321755348866), (107, 0.06922321755348866), (1456, 0.06922321755348866), (3261, 0.06922321755348866), (5412, 0.06922321755348866), (2826, 0.06902628054688187), (4911, 0.06902628054688187), (455, 0.06868028197434452), (753, 0.06868028197434452), (859, 0.06868028197434452), (882, 0.06868028197434452), (933, 0.06868028197434452), (1028, 0.06868028197434452), (1658, 0.06868028197434452), (1821, 0.06868028197434452), (1939, 0.06868028197434452), (2037, 0.06868028197434452), (2313, 0.06868028197434452), (2326, 0.06868028197434452), (2333, 0.06868028197434452), (2483, 0.06868028197434452), (2641, 0.06868028197434452), (2816, 0.06868028197434452), (2841, 0.06868028197434452), (2886, 0.06868028197434452), (2970, 0.06868028197434452), (2985, 0.06868028197434452), (3078, 0.06868028197434452), (3283, 0.06868028197434452), (3296, 0.06868028197434452), (3465, 0.06868028197434452), (3522, 0.06868028197434452), (3963, 0.06868028197434452), (4048, 0.06868028197434452), (4206, 0.06868028197434452), (4371, 0.06868028197434452), (4635, 0.06868028197434452), (4643, 0.06868028197434452), (4712, 0.06868028197434452), (4732, 0.06868028197434452), (4993, 0.06868028197434452), (5195, 0.06868028197434452), (5531, 0.06868028197434452), (5675, 0.06868028197434452), (5771, 0.06868028197434452), (3899, 0.0684430436765953), (4144, 0.06844304367659529), (85, 0.06833943479858154), (63, 0.06814992436959856), (768, 0.06814992436959856), (2048, 0.06814992436959856), (3053, 0.06814992436959856), (3436, 0.06814992436959856), (3770, 0.06814992436959856), (544, 0.06774581282657174), (807, 0.06774581282657174), (830, 0.06774581282657174), (1513, 0.06774581282657174), (2638, 0.06774581282657174), (3273, 0.06774581282657174), (3896, 0.06774581282657174), (4266, 0.06774581282657174), (4669, 0.06774581282657174), (4846, 0.06774581282657174), (5078, 0.06774581282657174), (5304, 0.06774581282657174), (501, 0.06763166647282445), (1161, 0.06763166647282445), (1413, 0.06763166647282445), (2854, 0.06763166647282445), (4171, 0.06763166647282445), (4783, 0.06763166647282445), (5228, 0.06763166647282445), (222, 0.06712505509632029), (1399, 0.06712505509632029), (2714, 0.06712505509632029), (5021, 0.06712505509632029), (257, 0.06684847767323797), (472, 0.06684847767323797), (744, 0.06684847767323797), (995, 0.06684847767323797), (2720, 0.06684847767323797), (4088, 0.06684847767323797), (5220, 0.06684847767323797), (5444, 0.06684847767323797), (5526, 0.06684847767323797), (363, 0.06662966046527696), (1180, 0.06662966046527696), (1376, 0.06662966046527696), (1709, 0.06662966046527696), (1769, 0.06662966046527696), (1785, 0.06662966046527696), (1901, 0.06662966046527696), (2172, 0.06662966046527696), (2528, 0.06662966046527696), (3454, 0.06662966046527696), (4254, 0.06662966046527696), (4486, 0.06662966046527696), (4562, 0.06662966046527696), (4571, 0.06662966046527696), (4741, 0.06662966046527696), (5169, 0.06662966046527696), (5721, 0.06662966046527696), (1594, 0.06614507468522113), (1822, 0.06614507468522113), (329, 0.06598588053218755), (577, 0.06598588053218755), (1542, 0.06598588053218755), (1765, 0.06598588053218755), (2218, 0.06598588053218755), (3029, 0.06598588053218755), (3174, 0.06598588053218755), (3290, 0.06598588053218755), (3507, 0.06598588053218755), (3617, 0.06598588053218755), (4941, 0.06598588053218755), (5087, 0.06598588053218755), (5509, 0.06598588053218755), (5759, 0.06598588053218755), (3790, 0.06578377935142762), (1581, 0.0652067991413872), (4424, 0.0652067991413872), (714, 0.0651558364144604), (1068, 0.0651558364144604), (1338, 0.0651558364144604), (1512, 0.0651558364144604), (1734, 0.0651558364144604), (1859, 0.0651558364144604), (1894, 0.0651558364144604), (2142, 0.0651558364144604), (2845, 0.0651558364144604), (2926, 0.0651558364144604), (3168, 0.0651558364144604), (3405, 0.0651558364144604), (5361, 0.0651558364144604), (5602, 0.0651558364144604), (5742, 0.0651558364144604), (357, 0.06475239082381762), (780, 0.06475239082381762), (846, 0.06475239082381762), (1002, 0.06475239082381762), (1025, 0.06475239082381762), (1101, 0.06475239082381762), (1472, 0.06475239082381762), (1491, 0.06475239082381762), (3277, 0.06475239082381762), (3558, 0.06475239082381762), (3768, 0.06475239082381762), (3889, 0.06475239082381762), (4401, 0.06475239082381762), (4713, 0.06475239082381762), (4992, 0.06475239082381762), (5009, 0.06475239082381762), (5037, 0.06475239082381762), (5055, 0.06475239082381762), (5097, 0.06475239082381762), (5528, 0.06475239082381762), (5727, 0.06475239082381762), (0, 0.06435634802102162), (78, 0.06435634802102162), (437, 0.06435634802102162), (1479, 0.06435634802102162), (2397, 0.06435634802102162), (2465, 0.06435634802102162), (2822, 0.06435634802102162), (3040, 0.06435634802102162), (3396, 0.06435634802102162), (3677, 0.06435634802102162), (4261, 0.06435634802102162), (4618, 0.06435634802102162), (5341, 0.06435634802102162), (5637, 0.06435634802102162), (310, 0.06432497763260106), (593, 0.06430735193624808), (3356, 0.06430735193624808), (1212, 0.06387136486221796), (2386, 0.06387136486221796), (5436, 0.06387136486221796), (330, 0.0635855855098946), (666, 0.0635855855098946), (690, 0.0635855855098946), (1110, 0.0635855855098946), (1156, 0.0635855855098946), (1558, 0.0635855855098946), (1608, 0.0635855855098946), (2530, 0.0635855855098946), (3446, 0.0635855855098946), (3681, 0.0635855855098946), (3710, 0.0635855855098946), (4866, 0.0635855855098946), (5399, 0.0635855855098946), (5420, 0.0635855855098946), (5538, 0.0635855855098946), (5594, 0.0635855855098946), (3455, 0.06344412685745153), (4041, 0.06344412685745153), (4705, 0.06344412685745153), (897, 0.06302534916632545), (950, 0.06302534916632545), (2159, 0.06302534916632545), (2320, 0.06302534916632545), (2363, 0.06302534916632545), (2608, 0.06302534916632545), (2685, 0.06302534916632545), (2748, 0.06302534916632545), (3064, 0.06302534916632545), (3142, 0.06302534916632545), (4059, 0.06302534916632545), (4124, 0.06302534916632545), (4142, 0.06302534916632545), (4320, 0.06302534916632545), (4362, 0.06302534916632545), (5394, 0.06302534916632545), (5519, 0.06302534916632545), (311, 0.0628418688667662), (349, 0.0628418688667662), (370, 0.0628418688667662), (708, 0.0628418688667662), (1517, 0.0628418688667662), (2044, 0.0628418688667662), (2157, 0.0628418688667662), (3185, 0.0628418688667662), (3694, 0.0628418688667662), (3776, 0.0628418688667662), (4395, 0.0628418688667662), (4599, 0.0628418688667662), (5406, 0.0628418688667662), (793, 0.06284186886676618), (755, 0.06261475620165426), (3047, 0.06261475620165426), (3516, 0.062212084782500274), (178, 0.06212365249219367), (333, 0.06212365249219367), (723, 0.06212365249219367), (754, 0.06212365249219367), (1361, 0.06212365249219367), (1465, 0.06212365249219367), (1602, 0.06212365249219367), (2170, 0.06212365249219367), (2174, 0.06212365249219367), (2294, 0.06212365249219367), (3179, 0.06212365249219367), (4080, 0.06212365249219367), (4282, 0.06212365249219367), (5024, 0.06212365249219367), (239, 0.06181708342521817), (1281, 0.06181708342521817), (2058, 0.06181708342521817), (2564, 0.06181708342521817), (211, 0.061429511683395124), (453, 0.061429511683395124), (523, 0.061429511683395124), (598, 0.061429511683395124), (629, 0.061429511683395124), (800, 0.061429511683395124), (884, 0.061429511683395124), (967, 0.061429511683395124), (1023, 0.061429511683395124), (1334, 0.061429511683395124), (1820, 0.061429511683395124), (1909, 0.061429511683395124), (1919, 0.061429511683395124), (2291, 0.061429511683395124), (2389, 0.061429511683395124), (2473, 0.061429511683395124), (2659, 0.061429511683395124), (2807, 0.061429511683395124), (2863, 0.061429511683395124), (2911, 0.061429511683395124), (2920, 0.061429511683395124), (3496, 0.061429511683395124), (3712, 0.061429511683395124), (4315, 0.061429511683395124), (4425, 0.061429511683395124), (4682, 0.061429511683395124), (4950, 0.061429511683395124), (5025, 0.061429511683395124), (5194, 0.061429511683395124), (5297, 0.061429511683395124), (5370, 0.061429511683395124), (5397, 0.061429511683395124), (5456, 0.061429511683395124), (5589, 0.061429511683395124), (5591, 0.061429511683395124), (3363, 0.060943895278468795), (111, 0.060758130741403654), (480, 0.060758130741403654), (639, 0.060758130741403654), (1758, 0.060758130741403654), (1810, 0.060758130741403654), (2235, 0.060758130741403654), (3557, 0.060758130741403654), (3695, 0.060758130741403654), (3740, 0.060758130741403654), (3799, 0.060758130741403654), (5023, 0.060758130741403654), (5367, 0.060758130741403654), (5764, 0.060758130741403654), (5772, 0.060758130741403654), (59, 0.06067574679742111), (426, 0.06067574679742111), (2876, 0.06059369706847663), (2878, 0.06030912261437756), (108, 0.06010829247756458), (175, 0.06010829247756458), (412, 0.06010829247756458), (831, 0.06010829247756458), (833, 0.06010829247756458), (898, 0.06010829247756458), (1863, 0.06010829247756458), (2703, 0.06010829247756458), (3691, 0.06010829247756458), (3731, 0.06010829247756458), (3794, 0.06010829247756458), (4274, 0.06010829247756458), (5627, 0.06010829247756458), (719, 0.059949064933018076), (1237, 0.059949064933018076), (1379, 0.059949064933018076), (1518, 0.059949064933018076), (1615, 0.059949064933018076), (1664, 0.059949064933018076), (2504, 0.059949064933018076), (2766, 0.059949064933018076), (2777, 0.059949064933018076), (2803, 0.059949064933018076), (3114, 0.059949064933018076), (3140, 0.059949064933018076), (3508, 0.059949064933018076), (3703, 0.059949064933018076), (4250, 0.059949064933018076), (4632, 0.059949064933018076), (4681, 0.059949064933018076), (4699, 0.059949064933018076), (4936, 0.059949064933018076), (4975, 0.059949064933018076), (5081, 0.059949064933018076), (5170, 0.059949064933018076), (5186, 0.059949064933018076), (5462, 0.059949064933018076), (5464, 0.059949064933018076), (5670, 0.059949064933018076), (5741, 0.059949064933018076), (1537, 0.059595380047235816), (3242, 0.059595380047235816), (440, 0.059478868928860826), (1339, 0.059478868928860826), (1585, 0.059478868928860826), (2750, 0.059478868928860826), (3186, 0.059478868928860826), (3473, 0.059478868928860826), (3741, 0.059478868928860826), (4076, 0.059478868928860826), (4237, 0.05933072705766086), (183, 0.059247882157501534), (4075, 0.059247882157501534), (254, 0.058868813120866725), (514, 0.058868813120866725), (609, 0.058868813120866725), (803, 0.058868813120866725), (907, 0.058868813120866725), (1990, 0.058868813120866725), (1991, 0.058868813120866725), (2318, 0.058868813120866725), (2471, 0.058868813120866725), (2510, 0.058868813120866725), (3742, 0.058868813120866725), (4280, 0.058868813120866725), (5561, 0.058868813120866725), (5669, 0.058868813120866725), (200, 0.05857074126574227), (435, 0.05857074126574227), (1194, 0.05857074126574227), (1327, 0.05857074126574227), (1514, 0.05857074126574227), (1728, 0.05857074126574227), (2271, 0.05857074126574227), (2547, 0.05857074126574227), (2552, 0.05857074126574227), (2617, 0.05857074126574227), (2957, 0.05857074126574227), (2999, 0.05857074126574227), (3678, 0.05857074126574227), (3779, 0.05857074126574227), (3819, 0.05857074126574227), (4150, 0.05857074126574227), (4190, 0.05857074126574227), (4437, 0.05857074126574227), (4468, 0.05857074126574227), (4727, 0.05857074126574227), (4913, 0.05857074126574227), (5117, 0.05857074126574227), (5506, 0.05857074126574227), (5685, 0.05857074126574227), (5778, 0.05857074126574227), (95, 0.058277151741435856), (596, 0.058277151741435856), (1841, 0.058277151741435856), (2203, 0.058277151741435856), (2278, 0.058277151741435856), (3295, 0.058277151741435856), (3587, 0.058277151741435856), (3836, 0.058277151741435856), (243, 0.05770297860846152), (841, 0.05770297860846152), (1716, 0.05770297860846152), (1724, 0.05770297860846152), (1757, 0.05770297860846152), (2239, 0.05770297860846152), (2554, 0.05770297860846152), (2843, 0.05770297860846152), (3417, 0.05770297860846152), (3447, 0.05770297860846152), (5328, 0.057597198540392844), (151, 0.05728331501262048), (256, 0.05728331501262048), (459, 0.05728331501262048), (505, 0.05728331501262048), (570, 0.05728331501262048), (916, 0.05728331501262048), (924, 0.05728331501262048), (1340, 0.05728331501262048), (1666, 0.05728331501262048), (1770, 0.05728331501262048), (2975, 0.05728331501262048), (3247, 0.05728331501262048), (3340, 0.05728331501262048), (3362, 0.05728331501262048), (3585, 0.05728331501262048), (3835, 0.05728331501262048), (3864, 0.05728331501262048), (4139, 0.05728331501262048), (4234, 0.05728331501262048), (4264, 0.05728331501262048), (4605, 0.05728331501262048), (4782, 0.05728331501262048), (5002, 0.05728331501262048), (5098, 0.05728331501262048), (5547, 0.05728331501262048), (5775, 0.05728331501262048), (5788, 0.05728331501262048), (43, 0.057145448831959454), (66, 0.057145448831959454), (248, 0.057145448831959454), (337, 0.057145448831959454), (569, 0.057145448831959454), (1584, 0.057145448831959454), (2077, 0.057145448831959454), (2181, 0.057145448831959454), (2435, 0.057145448831959454), (2600, 0.057145448831959454), (2936, 0.057145448831959454), (3022, 0.057145448831959454), (4091, 0.057145448831959454), (4683, 0.057145448831959454), (25, 0.05667064162190701), (531, 0.05660377358490567), (702, 0.05660377358490567), (2299, 0.05660377358490567), (2752, 0.05660377358490567), (3328, 0.05660377358490567), (3409, 0.05660377358490567), (3448, 0.05660377358490567), (5163, 0.05660377358490567), (3025, 0.05637158601662536), (22, 0.05607721540920444), (100, 0.05607721540920444), (494, 0.05607721540920444), (935, 0.05607721540920444), (1082, 0.05607721540920444), (1252, 0.05607721540920444), (1520, 0.05607721540920444), (1538, 0.05607721540920444), (1854, 0.05607721540920444), (1905, 0.05607721540920444), (1929, 0.05607721540920444), (2515, 0.05607721540920444), (2905, 0.05607721540920444), (3024, 0.05607721540920444), (3817, 0.05607721540920444), (3891, 0.05607721540920444), (4185, 0.05607721540920444), (4990, 0.05607721540920444), (5042, 0.05607721540920444), (5360, 0.05607721540920444), (5379, 0.05607721540920444), (5499, 0.05607721540920444), (5659, 0.05607721540920444), (5746, 0.05607721540920444), (509, 0.05607721540920443), (1224, 0.05607721540920443), (1337, 0.05607721540920443), (1429, 0.05607721540920443), (2101, 0.05607721540920443), (2240, 0.05607721540920443), (2935, 0.05607721540920443), (3985, 0.05607721540920443), (4061, 0.05607721540920443), (5530, 0.05607721540920443), (5624, 0.05607721540920443), (123, 0.05556508399324772), (633, 0.05556508399324772), (675, 0.05556508399324772), (1118, 0.05556508399324772), (1685, 0.05556508399324772), (2103, 0.05556508399324772), (2280, 0.05556508399324772), (2519, 0.05556508399324772), (3325, 0.05556508399324772), (5004, 0.05556508399324772), (158, 0.055565083993247714), (4481, 0.05556508399324771), (4012, 0.055502049277557954), (1644, 0.05506673236607643), (2156, 0.05506673236607643), (3012, 0.05506673236607643), (3385, 0.05506673236607643), (3781, 0.05506673236607643), (4334, 0.05506673236607643), (5612, 0.05506673236607643), (109, 0.05494422557947562), (157, 0.05494422557947562), (172, 0.05494422557947562), (249, 0.05494422557947562), (336, 0.05494422557947562), (721, 0.05494422557947562), (971, 0.05494422557947562), (1197, 0.05494422557947562), (1355, 0.05494422557947562), (1394, 0.05494422557947562), (1493, 0.05494422557947562), (1731, 0.05494422557947562), (1781, 0.05494422557947562), (2039, 0.05494422557947562), (2059, 0.05494422557947562), (2238, 0.05494422557947562), (2321, 0.05494422557947562), (2566, 0.05494422557947562), (2573, 0.05494422557947562), (2578, 0.05494422557947562), (2620, 0.05494422557947562), (2756, 0.05494422557947562), (2781, 0.05494422557947562), (3152, 0.05494422557947562), (3311, 0.05494422557947562), (3390, 0.05494422557947562), (3789, 0.05494422557947562), (4011, 0.05494422557947562), (4097, 0.05494422557947562), (4177, 0.05494422557947562), (4279, 0.05494422557947562), (4497, 0.05494422557947562), (4617, 0.05494422557947562), (4711, 0.05494422557947562), (5257, 0.05494422557947562), (5375, 0.05494422557947562), (234, 0.05458155346042223), (688, 0.05458155346042223), (1384, 0.05458155346042223), (1702, 0.05458155346042223), (2145, 0.05458155346042223), (2398, 0.05458155346042223), (3865, 0.05458155346042223), (4433, 0.05458155346042223), (1681, 0.05440288995827393), (698, 0.05410897700310649), (1125, 0.05410897700310649), (3321, 0.05410897700310649), (3815, 0.05410897700310649), (5188, 0.05410897700310649), (5307, 0.05410897700310649), (5445, 0.05410897700310649), (5711, 0.05410897700310649), (194, 0.05387724584403654), (604, 0.05387724584403654), (695, 0.05387724584403654), (791, 0.05387724584403654), (1216, 0.05387724584403654), (1622, 0.05387724584403654), (1936, 0.05387724584403654), (2107, 0.05387724584403654), (2709, 0.05387724584403654), (3082, 0.05387724584403654), (3138, 0.05387724584403654), (3143, 0.05387724584403654), (3227, 0.05387724584403654), (3553, 0.05387724584403654), (3579, 0.05387724584403654), (3875, 0.05387724584403654), (4087, 0.05387724584403654), (4306, 0.05387724584403654), (4349, 0.05387724584403654), (4830, 0.05387724584403654), (4910, 0.05387724584403654), (4979, 0.05387724584403654), (4999, 0.05387724584403654), (5018, 0.05387724584403654), (5082, 0.05387724584403654), (5396, 0.05387724584403654), (5450, 0.05387724584403654), (3207, 0.05379454856452488), (32, 0.05364846669657493), (273, 0.05364846669657493), (281, 0.05364846669657493), (1510, 0.05364846669657493), (4607, 0.05364846669657493), (4745, 0.05364846669657493), (5700, 0.05364846669657493), (2559, 0.05362007375111092), (1119, 0.05319951765989314), (1121, 0.05319951765989314), (1548, 0.05319951765989314), (1633, 0.05319951765989314), (1753, 0.05319951765989314), (5178, 0.05319951765989314), (216, 0.052870105714542946), (290, 0.052870105714542946), (325, 0.052870105714542946), (483, 0.052870105714542946), (1073, 0.052870105714542946), (1350, 0.052870105714542946), (1600, 0.052870105714542946), (1639, 0.052870105714542946), (1663, 0.052870105714542946), (1846, 0.052870105714542946), (1899, 0.052870105714542946), (2457, 0.052870105714542946), (2502, 0.052870105714542946), (3081, 0.052870105714542946), (3528, 0.052870105714542946), (3661, 0.052870105714542946), (3922, 0.052870105714542946), (3961, 0.052870105714542946), (4325, 0.052870105714542946), (4698, 0.052870105714542946), (4834, 0.052870105714542946), (4934, 0.052870105714542946), (5085, 0.052870105714542946), (5440, 0.052870105714542946), (5442, 0.052870105714542946), (5551, 0.052870105714542946), (5683, 0.052870105714542946), (5728, 0.052870105714542946), (19, 0.05276165410143953), (1426, 0.05276165410143953), (1504, 0.05276165410143953), (1745, 0.05276165410143953), (2514, 0.05276165410143953), (5109, 0.05276165410143953), (5293, 0.05276165410143953), (612, 0.05233442719890389), (3008, 0.05233442719890389), (5262, 0.05233442719890389), (148, 0.051917413165116506), (154, 0.051917413165116506), (452, 0.051917413165116506), (660, 0.051917413165116506), (877, 0.051917413165116506), (920, 0.051917413165116506), (1055, 0.051917413165116506), (1335, 0.051917413165116506), (1539, 0.051917413165116506), (1567, 0.051917413165116506), (1662, 0.051917413165116506), (1668, 0.051917413165116506), (1750, 0.051917413165116506), (1837, 0.051917413165116506), (1848, 0.051917413165116506), (1928, 0.051917413165116506), (1989, 0.051917413165116506), (2104, 0.051917413165116506), (2441, 0.051917413165116506), (2501, 0.051917413165116506), (2614, 0.051917413165116506), (2739, 0.051917413165116506), (3158, 0.051917413165116506), (3702, 0.051917413165116506), (3858, 0.051917413165116506), (4213, 0.051917413165116506), (4658, 0.051917413165116506), (4855, 0.051917413165116506), (4863, 0.051917413165116506), (4932, 0.051917413165116506), (5011, 0.051917413165116506), (5032, 0.051917413165116506), (5148, 0.051917413165116506), (5537, 0.051917413165116506), (5541, 0.051917413165116506), (2290, 0.0519174131651165), (2535, 0.0519174131651165), (4955, 0.0519174131651165), (29, 0.05151021148075839), (812, 0.05151021148075839), (836, 0.05151021148075839), (1449, 0.05151021148075839), (2452, 0.05151021148075839), (2798, 0.05151021148075839), (3129, 0.05151021148075839), (3591, 0.05151021148075839), (5330, 0.05151021148075839), (45, 0.051112443277198924), (815, 0.051112443277198924), (90, 0.05101443274928474), (219, 0.05101443274928474), (226, 0.05101443274928474), (259, 0.05101443274928474), (320, 0.05101443274928474), (504, 0.05101443274928474), (559, 0.05101443274928474), (648, 0.05101443274928474), (686, 0.05101443274928474), (928, 0.05101443274928474), (977, 0.05101443274928474), (1001, 0.05101443274928474), (1057, 0.05101443274928474), (1402, 0.05101443274928474), (1511, 0.05101443274928474), (2092, 0.05101443274928474), (2139, 0.05101443274928474), (2328, 0.05101443274928474), (2553, 0.05101443274928474), (2678, 0.05101443274928474), (2839, 0.05101443274928474), (3708, 0.05101443274928474), (3763, 0.05101443274928474), (3877, 0.05101443274928474), (3982, 0.05101443274928474), (4189, 0.05101443274928474), (4592, 0.05101443274928474), (4687, 0.05101443274928474), (4803, 0.05101443274928474), (5017, 0.05101443274928474), (5342, 0.05101443274928474), (3326, 0.05079595451729729), (1343, 0.05072374985461834), (3824, 0.05072374985461834), (1892, 0.05034379132224022), (88, 0.05015698625755192), (195, 0.05015698625755192), (400, 0.05015698625755192), (463, 0.05015698625755192), (863, 0.05015698625755192), (876, 0.05015698625755192), (941, 0.05015698625755192), (1240, 0.05015698625755192), (1258, 0.05015698625755192), (1271, 0.05015698625755192), (1564, 0.05015698625755192), (1625, 0.05015698625755192), (1797, 0.05015698625755192), (1827, 0.05015698625755192), (2260, 0.05015698625755192), (2453, 0.05015698625755192), (2500, 0.05015698625755192), (2645, 0.05015698625755192), (3070, 0.05015698625755192), (3089, 0.05015698625755192), (3317, 0.05015698625755192), (3812, 0.05015698625755192), (3992, 0.05015698625755192), (4092, 0.05015698625755192), (4398, 0.05015698625755192), (4414, 0.05015698625755192), (4674, 0.05015698625755192), (4677, 0.05015698625755192), (4746, 0.05015698625755192), (4899, 0.05015698625755192), (5368, 0.05015698625755192), (5619, 0.05015698625755192), (5620, 0.05015698625755192), (5691, 0.05015698625755192), (3974, 0.04994929598134147), (1995, 0.049608806013915846), (4244, 0.049608806013915846), (422, 0.049341371149144844), (581, 0.049341371149144844), (972, 0.049341371149144844), (980, 0.049341371149144844), (1097, 0.049341371149144844), (1940, 0.049341371149144844), (2106, 0.049341371149144844), (2196, 0.049341371149144844), (2448, 0.049341371149144844), (2733, 0.049341371149144844), (2735, 0.049341371149144844), (2862, 0.049341371149144844), (3113, 0.049341371149144844), (3288, 0.049341371149144844), (3718, 0.049341371149144844), (3883, 0.049341371149144844), (4739, 0.049341371149144844), (4808, 0.049341371149144844), (4956, 0.049341371149144844), (4987, 0.049341371149144844), (5083, 0.049341371149144844), (5435, 0.049341371149144844), (5573, 0.049341371149144844), (5724, 0.049341371149144844), (285, 0.049253182747733895), (1096, 0.049253182747733895), (1235, 0.049253182747733895), (1370, 0.049253182747733895), (2981, 0.049253182747733895), (1420, 0.0489050993560404), (4260, 0.0489050993560404), (2187, 0.048564293117863214), (176, 0.04856429311786321), (260, 0.04856429311786321), (389, 0.04856429311786321), (524, 0.04856429311786321), (663, 0.04856429311786321), (1738, 0.04856429311786321), (1790, 0.04856429311786321), (2551, 0.04856429311786321), (2913, 0.04856429311786321), (3019, 0.04856429311786321), (3083, 0.04856429311786321), (3130, 0.04856429311786321), (3182, 0.04856429311786321), (3272, 0.04856429311786321), (3282, 0.04856429311786321), (3443, 0.04856429311786321), (3444, 0.04856429311786321), (3466, 0.04856429311786321), (4016, 0.04856429311786321), (4194, 0.04856429311786321), (4748, 0.04856429311786321), (4889, 0.04856429311786321), (4977, 0.04856429311786321), (5008, 0.04856429311786321), (5245, 0.04856429311786321), (5306, 0.04856429311786321), (5787, 0.04856429311786321), (5740, 0.048230513952186055), (1861, 0.04790352364666347), (366, 0.047822809985881044), (457, 0.047822809985881044), (736, 0.047822809985881044), (745, 0.047822809985881044), (761, 0.047822809985881044), (894, 0.047822809985881044), (1309, 0.047822809985881044), (1372, 0.047822809985881044), (1414, 0.047822809985881044), (1484, 0.047822809985881044), (1697, 0.047822809985881044), (1979, 0.047822809985881044), (2190, 0.047822809985881044), (2789, 0.047822809985881044), (3506, 0.047822809985881044), (3581, 0.047822809985881044), (4475, 0.047822809985881044), (4563, 0.047822809985881044), (4663, 0.047822809985881044), (4769, 0.047822809985881044), (4784, 0.047822809985881044), (5240, 0.047822809985881044), (5508, 0.047822809985881044), (5642, 0.047822809985881044), (5732, 0.047822809985881044), (1788, 0.047583095143088644), (3599, 0.047583095143088644), (301, 0.04726901187474408), (91, 0.04711428474315455), (117, 0.04711428474315455), (384, 0.04711428474315455), (701, 0.04711428474315455), (801, 0.04711428474315455), (840, 0.04711428474315455), (2820, 0.04711428474315455), (2953, 0.04711428474315455), (3079, 0.04711428474315455), (3145, 0.04711428474315455), (3259, 0.04711428474315455), (4383, 0.04711428474315455), (5028, 0.04711428474315455), (5142, 0.04711428474315455), (5402, 0.04711428474315455), (391, 0.046961067151240696), (1570, 0.046961067151240696), (2503, 0.046961067151240696), (1213, 0.0466590635868752), (1568, 0.0466590635868752), (3476, 0.0466590635868752), (227, 0.04643634602125721), (288, 0.04643634602125721), (346, 0.04643634602125721), (474, 0.04643634602125721), (681, 0.04643634602125721), (984, 0.04643634602125721), (1400, 0.04643634602125721), (1648, 0.04643634602125721), (1707, 0.04643634602125721), (1743, 0.04643634602125721), (1818, 0.04643634602125721), (1828, 0.04643634602125721), (2140, 0.04643634602125721), (2446, 0.04643634602125721), (2491, 0.04643634602125721), (2916, 0.04643634602125721), (2988, 0.04643634602125721), (3036, 0.04643634602125721), (3521, 0.04643634602125721), (4002, 0.04643634602125721), (4118, 0.04643634602125721), (4462, 0.04643634602125721), (4693, 0.04643634602125721), (4833, 0.04643634602125721), (4908, 0.04643634602125721), (5429, 0.04643634602125721), (799, 0.04607213376254635), (3116, 0.04607213376254635), (478, 0.04578685464956301), (741, 0.04578685464956301), (802, 0.04578685464956301), (1204, 0.04578685464956301), (1507, 0.04578685464956301), (1844, 0.04578685464956301), (1962, 0.04578685464956301), (2022, 0.04578685464956301), (2184, 0.04578685464956301), (2412, 0.04578685464956301), (2493, 0.04578685464956301), (2630, 0.04578685464956301), (3135, 0.04578685464956301), (3245, 0.04578685464956301), (3782, 0.04578685464956301), (4166, 0.04578685464956301), (4246, 0.04578685464956301), (4303, 0.04578685464956301), (4534, 0.04578685464956301), (4651, 0.04578685464956301), (5597, 0.04578685464956301), (5694, 0.04578685464956301), (5699, 0.04578685464956301), (5765, 0.04578685464956301), (4215, 0.045506810098065835), (104, 0.04516387521771449), (1029, 0.04516387521771449), (1167, 0.04516387521771449), (1351, 0.04516387521771449), (2085, 0.04516387521771449), (2229, 0.04516387521771449), (2859, 0.04516387521771449), (3090, 0.04516387521771449), (3134, 0.04516387521771449), (3294, 0.04516387521771449), (3669, 0.04516387521771449), (3804, 0.04516387521771449), (4338, 0.04516387521771449), (4715, 0.04516387521771449), (5291, 0.04516387521771449), (5557, 0.04516387521771449), (5581, 0.04516387521771449), (5119, 0.04496179869976356), (229, 0.044696535035426865), (2592, 0.044696535035426865), (67, 0.04456565178215865), (760, 0.04456565178215865), (787, 0.04456565178215865), (1077, 0.04456565178215865), (1382, 0.04456565178215865), (1466, 0.04456565178215865), (1500, 0.04456565178215865), (1591, 0.04456565178215865), (1752, 0.04456565178215865), (1786, 0.04456565178215865), (1838, 0.04456565178215865), (2158, 0.04456565178215865), (2546, 0.04456565178215865), (2771, 0.04456565178215865), (2835, 0.04456565178215865), (2931, 0.04456565178215865), (4289, 0.04456565178215865), (4963, 0.04456565178215865), (5091, 0.04456565178215865), (5298, 0.04456565178215865), (5736, 0.04456565178215865), (5774, 0.04456565178215865), (55, 0.04443591161812615), (397, 0.04399058702145837), (603, 0.04399058702145837), (899, 0.04399058702145837), (965, 0.04399058702145837), (1175, 0.04399058702145837), (1478, 0.04399058702145837), (1545, 0.04399058702145837), (1722, 0.04399058702145837), (1977, 0.04399058702145837), (2215, 0.04399058702145837), (2289, 0.04399058702145837), (2315, 0.04399058702145837), (2368, 0.04399058702145837), (2563, 0.04399058702145837), (2618, 0.04399058702145837), (3002, 0.04399058702145837), (3144, 0.04399058702145837), (3161, 0.04399058702145837), (3411, 0.04399058702145837), (3887, 0.04399058702145837), (4082, 0.04399058702145837), (4135, 0.04399058702145837), (4160, 0.04399058702145837), (4368, 0.04399058702145837), (4685, 0.04399058702145837), (5137, 0.04399058702145837), (5179, 0.04399058702145837), (5414, 0.04399058702145837), (5562, 0.04399058702145837), (5761, 0.04399058702145837), (258, 0.0439280559493067), (1306, 0.0439280559493067), (5359, 0.0439280559493067), (287, 0.04343722427630694), (597, 0.04343722427630694), (828, 0.04343722427630694), (854, 0.04343722427630694), (874, 0.04343722427630694), (1012, 0.04343722427630694), (1391, 0.04343722427630694), (1445, 0.04343722427630694), (1469, 0.04343722427630694), (1829, 0.04343722427630694), (2169, 0.04343722427630694), (2284, 0.04343722427630694), (2624, 0.04343722427630694), (2897, 0.04343722427630694), (3262, 0.04343722427630694), (3757, 0.04343722427630694), (3962, 0.04343722427630694), (4527, 0.04343722427630694), (4671, 0.04343722427630694), (4771, 0.04343722427630694), (5373, 0.04343722427630694), (5411, 0.04343722427630694), (5516, 0.04343722427630694), (5580, 0.04343722427630694), (5668, 0.04343722427630694), (5779, 0.04343722427630694), (70, 0.042904232014014415), (1079, 0.042904232014014415), (1177, 0.042904232014014415), (1640, 0.042904232014014415), (2033, 0.042904232014014415), (2131, 0.042904232014014415), (2267, 0.042904232014014415), (2817, 0.042904232014014415), (3037, 0.042904232014014415), (3268, 0.042904232014014415), (3743, 0.042904232014014415), (5199, 0.042904232014014415), (5717, 0.042904232014014415), (365, 0.04239039033992974), (430, 0.04239039033992974), (938, 0.04239039033992974), (952, 0.04239039033992974), (1083, 0.04239039033992974), (1638, 0.04239039033992974), (1791, 0.04239039033992974), (2060, 0.04239039033992974), (2444, 0.04239039033992974), (2828, 0.04239039033992974), (2904, 0.04239039033992974), (3059, 0.04239039033992974), (3279, 0.04239039033992974), (3318, 0.04239039033992974), (3352, 0.04239039033992974), (3439, 0.04239039033992974), (3828, 0.04239039033992974), (3844, 0.04239039033992974), (4268, 0.04239039033992974), (4346, 0.04239039033992974), (5175, 0.04239039033992974), (5185, 0.04239039033992974), (5347, 0.04239039033992974), (5480, 0.04239039033992974), (5579, 0.04239039033992974), (5703, 0.04239039033992974), (451, 0.041894579244510795), (605, 0.041894579244510795), (766, 0.041894579244510795), (871, 0.041894579244510795), (1034, 0.041894579244510795), (1341, 0.041894579244510795), (1377, 0.041894579244510795), (1508, 0.041894579244510795), (2002, 0.041894579244510795), (2091, 0.041894579244510795), (2819, 0.041894579244510795), (3164, 0.041894579244510795), (3513, 0.041894579244510795), (3667, 0.041894579244510795), (4208, 0.041894579244510795), (4938, 0.041894579244510795), (5265, 0.041894579244510795), (5353, 0.041894579244510795), (5615, 0.041894579244510795), (184, 0.04141576832812911), (191, 0.04141576832812911), (510, 0.04141576832812911), (515, 0.04141576832812911), (958, 0.04141576832812911), (1080, 0.04141576832812911), (1245, 0.04141576832812911), (1363, 0.04141576832812911), (1606, 0.04141576832812911), (1817, 0.04141576832812911), (2426, 0.04141576832812911), (2522, 0.04141576832812911), (2929, 0.04141576832812911), (3075, 0.04141576832812911), (3658, 0.04141576832812911), (4374, 0.04141576832812911), (4492, 0.04141576832812911), (4864, 0.04141576832812911), (4968, 0.04141576832812911), (4971, 0.04141576832812911), (5044, 0.04141576832812911), (5317, 0.04141576832812911), (5463, 0.04141576832812911), (5607, 0.04141576832812911), (5752, 0.04141576832812911), (947, 0.041208169184606715), (2151, 0.041208169184606715), (166, 0.04095300778893008), (340, 0.04095300778893008), (350, 0.04095300778893008), (513, 0.04095300778893008), (712, 0.04095300778893008), (944, 0.04095300778893008), (956, 0.04095300778893008), (987, 0.04095300778893008), (1106, 0.04095300778893008), (1617, 0.04095300778893008), (2081, 0.04095300778893008), (2247, 0.04095300778893008), (2292, 0.04095300778893008), (2430, 0.04095300778893008), (2447, 0.04095300778893008), (2611, 0.04095300778893008), (2760, 0.04095300778893008), (2983, 0.04095300778893008), (3250, 0.04095300778893008), (3867, 0.04095300778893008), (4257, 0.04095300778893008), (4856, 0.04095300778893008), (4873, 0.04095300778893008), (5051, 0.04095300778893008), (5529, 0.04095300778893008), (2340, 0.0406036155971406), (334, 0.040505420494269105), (643, 0.040505420494269105), (658, 0.040505420494269105), (816, 0.040505420494269105), (872, 0.040505420494269105), (1540, 0.040505420494269105), (2134, 0.040505420494269105), (2949, 0.040505420494269105), (3251, 0.040505420494269105), (3300, 0.040505420494269105), (3350, 0.040505420494269105), (3410, 0.040505420494269105), (3533, 0.040505420494269105), (4056, 0.040505420494269105), (4094, 0.040505420494269105), (4835, 0.040505420494269105), (5074, 0.040505420494269105), (5439, 0.040505420494269105), (5744, 0.040505420494269105), (3664, 0.04021505531333319), (93, 0.04007219498504305), (324, 0.04007219498504305), (647, 0.04007219498504305), (724, 0.04007219498504305), (962, 0.04007219498504305), (1058, 0.04007219498504305), (1502, 0.04007219498504305), (2015, 0.04007219498504305), (2066, 0.04007219498504305), (2721, 0.04007219498504305), (2900, 0.04007219498504305), (3034, 0.04007219498504305), (3188, 0.04007219498504305), (3230, 0.04007219498504305), (3459, 0.04007219498504305), (3611, 0.04007219498504305), (4602, 0.04007219498504305), (4905, 0.04007219498504305), (5419, 0.04007219498504305), (4483, 0.039837440797526394), (587, 0.039652579285907215), (834, 0.039652579285907215), (888, 0.039652579285907215), (1137, 0.039652579285907215), (1269, 0.039652579285907215), (1354, 0.039652579285907215), (1461, 0.039652579285907215), (2001, 0.039652579285907215), (2089, 0.039652579285907215), (2454, 0.039652579285907215), (2482, 0.039652579285907215), (3026, 0.039652579285907215), (3388, 0.039652579285907215), (3590, 0.039652579285907215), (3713, 0.039652579285907215), (3881, 0.039652579285907215), (5013, 0.039652579285907215), (5223, 0.039652579285907215), (5695, 0.039652579285907215), (376, 0.03924587541391115), (911, 0.03924587541391115), (1040, 0.03924587541391115), (1064, 0.03924587541391115), (1242, 0.03924587541391115), (1865, 0.03924587541391115), (2024, 0.03924587541391115), (2126, 0.03924587541391115), (2829, 0.03924587541391115), (3692, 0.03924587541391115), (3913, 0.03924587541391115), (4392, 0.03924587541391115), (5046, 0.03924587541391115), (5154, 0.03924587541391115), (5270, 0.03924587541391115), (173, 0.03885143449429057), (278, 0.03885143449429057), (421, 0.03885143449429057), (595, 0.03885143449429057), (759, 0.03885143449429057), (767, 0.03885143449429057), (918, 0.03885143449429057), (1282, 0.03885143449429057), (1551, 0.03885143449429057), (1877, 0.03885143449429057), (3183, 0.03885143449429057), (3679, 0.03885143449429057), (3734, 0.03885143449429057), (1133, 0.03859498657956063), (611, 0.03846865240564101), (722, 0.03846865240564101), (953, 0.03846865240564101), (1145, 0.03846865240564101), (1207, 0.03846865240564101), (1645, 0.03846865240564101), (1971, 0.03846865240564101), (2097, 0.03846865240564101), (2770, 0.03846865240564101), (3039, 0.03846865240564101), (3527, 0.03846865240564101), (3902, 0.03846865240564101), (4172, 0.03846865240564101), (4207, 0.03846865240564101), (74, 0.03809696588797297), (536, 0.03809696588797297), (631, 0.03809696588797297), (704, 0.03809696588797297), (1200, 0.03809696588797297), (1531, 0.03809696588797297), (2445, 0.03809696588797297), (2648, 0.03809696588797297), (3193, 0.03809696588797297), (3220, 0.03809696588797297), (3384, 0.03809696588797297), (3501, 0.03809696588797297), (4064, 0.03809696588797297), (4347, 0.03809696588797297), (4413, 0.03809696588797297), (5279, 0.03809696588797297), (5343, 0.03809696588797297), (5716, 0.03809696588797297), (5780, 0.03809696588797297), (2990, 0.03793519460140879), (97, 0.03773584905660378), (110, 0.03773584905660378), (204, 0.03773584905660378), (671, 0.03773584905660378), (978, 0.03773584905660378), (1439, 0.03773584905660378), (1598, 0.03773584905660378), (2057, 0.03773584905660378), (2782, 0.03773584905660378), (3095, 0.03773584905660378), (3583, 0.03773584905660378), (3696, 0.03773584905660378), (3933, 0.03773584905660378), (4814, 0.03773584905660378), (2288, 0.03761773969316394), (13, 0.03738481027280295), (188, 0.03738481027280295), (398, 0.03738481027280295), (586, 0.03738481027280295), (1109, 0.03738481027280295), (5064, 0.03738481027280295), (5409, 0.03738481027280295), (4559, 0.03715615485399807), (635, 0.03704338932883181), (717, 0.03704338932883181), (718, 0.03704338932883181), (1211, 0.03704338932883181), (1670, 0.03704338932883181), (2124, 0.03704338932883181), (2248, 0.03704338932883181), (2590, 0.03704338932883181), (3548, 0.03704338932883181), (4153, 0.03704338932883181), (4220, 0.03704338932883181), (4707, 0.03704338932883181), (5063, 0.03704338932883181), (692, 0.03671115491071762), (1107, 0.03671115491071762), (1524, 0.03671115491071762), (2078, 0.03671115491071762), (3001, 0.03671115491071762), (3141, 0.03671115491071762), (3149, 0.03671115491071762), (3180, 0.03671115491071762), (3224, 0.03671115491071762), (3358, 0.03671115491071762), (3457, 0.03671115491071762), (3464, 0.03671115491071762), (3471, 0.03671115491071762), (3524, 0.03671115491071762), (3719, 0.03671115491071762), (4510, 0.03671115491071762), (4581, 0.03671115491071762), (4695, 0.03671115491071762), (5358, 0.03671115491071762), (5438, 0.03671115491071762), (5660, 0.03671115491071762), (565, 0.036387702306948155), (2674, 0.036387702306948155), (2832, 0.036387702306948155), (4052, 0.036387702306948155), (4851, 0.036387702306948155), (4027, 0.03628176990660662), (89, 0.03614195524432012), (447, 0.03607265133540433), (1208, 0.03607265133540433), (1693, 0.03607265133540433), (2281, 0.03607265133540433), (4391, 0.03607265133540433), (305, 0.03576564446438329), (4859, 0.03576564446438329), (5356, 0.03576564446438329), (170, 0.03546634510659543), (571, 0.03546634510659543), (622, 0.03546634510659543), (822, 0.03546634510659543), (1457, 0.03546634510659543), (1839, 0.03546634510659543), (2217, 0.03546634510659543), (2309, 0.03546634510659543), (2754, 0.03546634510659543), (3044, 0.03546634510659543), (3213, 0.03546634510659543), (3847, 0.03546634510659543), (3971, 0.03546634510659543), (4019, 0.03546634510659543), (4068, 0.03546634510659543), (4229, 0.03546634510659543), (4356, 0.03546634510659543), (4443, 0.03546634510659543), (4558, 0.03546634510659543), (4566, 0.03546634510659543), (4600, 0.03546634510659543), (4637, 0.03546634510659543), (4731, 0.03546634510659543), (5226, 0.03546634510659543), (5567, 0.03546634510659543), (541, 0.03517443606762635), (3806, 0.03517443606762635), (4044, 0.03517443606762635), (4474, 0.03517443606762635), (4656, 0.03517443606762635), (253, 0.03488961813260259), (360, 0.03488961813260259), (989, 0.03488961813260259), (4005, 0.03488961813260259), (4162, 0.03488961813260259), (4601, 0.03488961813260259), (406, 0.03461160877674433), (4174, 0.03461160877674433), (5077, 0.03461160877674433), (866, 0.03434014098717226), (1267, 0.03434014098717226), (1593, 0.03434014098717226), (1856, 0.03434014098717226), (1872, 0.03434014098717226), (1978, 0.03434014098717226), (2325, 0.03434014098717226), (2871, 0.03434014098717226), (3154, 0.03434014098717226), (3491, 0.03434014098717226), (3613, 0.03434014098717226), (3693, 0.03434014098717226), (3726, 0.03434014098717226), (3746, 0.03434014098717226), (3751, 0.03434014098717226), (3907, 0.03434014098717226), (4511, 0.03434014098717226), (4736, 0.03434014098717226), (4744, 0.03434014098717226), (102, 0.03407496218479928), (861, 0.03407496218479928), (896, 0.03407496218479928), (1632, 0.03407496218479928), (2167, 0.03407496218479928), (3898, 0.03407496218479928), (5337, 0.03407496218479928), (709, 0.03381583323641223), (3540, 0.03381583323641223), (4230, 0.03381583323641223), (5059, 0.03381583323641223), (2642, 0.033562527548160144), (186, 0.03331483023263848), (1243, 0.03331483023263848), (1431, 0.03331483023263848), (1609, 0.03331483023263848), (1772, 0.03331483023263848), (1917, 0.03331483023263848), (1933, 0.03331483023263848), (2055, 0.03331483023263848), (2391, 0.03331483023263848), (2719, 0.03331483023263848), (2772, 0.03331483023263848), (2783, 0.03331483023263848), (2891, 0.03331483023263848), (3197, 0.03331483023263848), (3420, 0.03331483023263848), (3721, 0.03331483023263848), (3981, 0.03331483023263848), (4053, 0.03331483023263848), (4069, 0.03331483023263848), (4369, 0.03331483023263848), (4394, 0.03331483023263848), (4729, 0.03331483023263848), (4765, 0.03331483023263848), (5658, 0.03331483023263848), (5681, 0.03331483023263848), (5718, 0.03331483023263848), (5730, 0.03331483023263848), (5749, 0.03331483023263848), (156, 0.033072537342610564), (925, 0.033072537342610564), (1779, 0.033072537342610564), (2423, 0.033072537342610564), (2581, 0.033072537342610564), (3319, 0.033072537342610564), (4242, 0.033072537342610564), (4299, 0.033072537342610564), (3198, 0.03283545516515593), (3509, 0.03283545516515593), (3996, 0.03283545516515593), (4500, 0.03283545516515593), (1766, 0.0326033995706936), (2637, 0.0326033995706936), (465, 0.03237619541190881), (739, 0.03237619541190881), (845, 0.03237619541190881), (850, 0.03237619541190881), (1005, 0.03237619541190881), (1285, 0.03237619541190881), (1418, 0.03237619541190881), (1607, 0.03237619541190881), (1950, 0.03237619541190881), (2758, 0.03237619541190881), (2774, 0.03237619541190881), (3523, 0.03237619541190881), (3934, 0.03237619541190881), (4123, 0.03237619541190881), (4273, 0.03237619541190881), (4743, 0.03237619541190881), (5016, 0.03237619541190881), (5308, 0.03237619541190881), (5475, 0.03237619541190881), (5501, 0.03237619541190881), (5548, 0.03237619541190881), (5656, 0.03237619541190881), (5678, 0.03237619541190881), (5745, 0.03237619541190881), (3267, 0.03215367596812404), (5215, 0.03193568243110898), (1222, 0.031722063428725765), (558, 0.031512674583162724), (774, 0.031512674583162724), (914, 0.031512674583162724), (1206, 0.031512674583162724), (1345, 0.031512674583162724), (1357, 0.031512674583162724), (2512, 0.031512674583162724), (2930, 0.031512674583162724), (3076, 0.031512674583162724), (3238, 0.031512674583162724), (3392, 0.031512674583162724), (3762, 0.031512674583162724), (3911, 0.031512674583162724), (4101, 0.031512674583162724), (4384, 0.031512674583162724), (4551, 0.031512674583162724), (4770, 0.031512674583162724), (4849, 0.031512674583162724), (5010, 0.031512674583162724), (5601, 0.031512674583162724), (5623, 0.031512674583162724), (424, 0.03130737810082713), (2176, 0.03130737810082713), (1546, 0.031106042391250137), (3426, 0.031106042391250137), (3921, 0.031106042391250137), (838, 0.030908541712609084), (1086, 0.030908541712609084), (51, 0.030714755841697562), (992, 0.030714755841697562), (997, 0.030714755841697562), (1171, 0.030714755841697562), (2269, 0.030714755841697562), (2276, 0.030714755841697562), (2545, 0.030714755841697562), (2579, 0.030714755841697562), (2773, 0.030714755841697562), (2838, 0.030714755841697562), (2849, 0.030714755841697562), (2908, 0.030714755841697562), (3067, 0.030714755841697562), (3322, 0.030714755841697562), (3478, 0.030714755841697562), (3495, 0.030714755841697562), (3550, 0.030714755841697562), (3622, 0.030714755841697562), (3709, 0.030714755841697562), (3784, 0.030714755841697562), (3833, 0.030714755841697562), (3969, 0.030714755841697562), (4067, 0.030714755841697562), (4155, 0.030714755841697562), (4158, 0.030714755841697562), (4406, 0.030714755841697562), (4548, 0.030714755841697562), (5366, 0.030714755841697562), (5643, 0.030714755841697562), (3269, 0.03052456976637534), (3515, 0.03052456976637534), (342, 0.03015456130718878), (3732, 0.03015456130718878), (179, 0.029974532466509038), (653, 0.029974532466509038), (748, 0.029974532466509038), (1482, 0.029974532466509038), (1736, 0.029974532466509038), (1776, 0.029974532466509038), (2108, 0.029974532466509038), (2293, 0.029974532466509038), (2567, 0.029974532466509038), (2650, 0.029974532466509038), (3543, 0.029974532466509038), (3631, 0.029974532466509038), (3854, 0.029974532466509038), (3856, 0.029974532466509038), (3868, 0.029974532466509038), (4184, 0.029974532466509038), (4457, 0.029974532466509038), (4588, 0.029974532466509038), (4768, 0.029974532466509038), (5114, 0.029974532466509038), (5158, 0.029974532466509038), (5470, 0.029974532466509038), (5570, 0.029974532466509038), (860, 0.029285370632871136), (1318, 0.029285370632871136), (1386, 0.029285370632871136), (1675, 0.029285370632871136), (1903, 0.029285370632871136), (1942, 0.029285370632871136), (2088, 0.029285370632871136), (2155, 0.029285370632871136), (2439, 0.029285370632871136), (2595, 0.029285370632871136), (2747, 0.029285370632871136), (2956, 0.029285370632871136), (3432, 0.029285370632871136), (3483, 0.029285370632871136), (3639, 0.029285370632871136), (3760, 0.029285370632871136), (3832, 0.029285370632871136), (3960, 0.029285370632871136), (3964, 0.029285370632871136), (4023, 0.029285370632871136), (4410, 0.029285370632871136), (4438, 0.029285370632871136), (5483, 0.029285370632871136), (5491, 0.029285370632871136), (1401, 0.029120381316417684), (2026, 0.029120381316417684), (2337, 0.02895814951753796), (1452, 0.02864165750631024), (1834, 0.02864165750631024), (2070, 0.02864165750631024), (2212, 0.02864165750631024), (2302, 0.02864165750631024), (2437, 0.02864165750631024), (2450, 0.02864165750631024), (2715, 0.02864165750631024), (2731, 0.02864165750631024), (2964, 0.02864165750631024), (3333, 0.02864165750631024), (3497, 0.02864165750631024), (3562, 0.02864165750631024), (3651, 0.02864165750631024), (4018, 0.02864165750631024), (4020, 0.02864165750631024), (4121, 0.02864165750631024), (4415, 0.02864165750631024), (4480, 0.02864165750631024), (4491, 0.02864165750631024), (4697, 0.02864165750631024), (4815, 0.02864165750631024), (4914, 0.02864165750631024), (5171, 0.02864165750631024), (73, 0.02803860770460222), (308, 0.02803860770460222), (319, 0.02803860770460222), (638, 0.02803860770460222), (657, 0.02803860770460222), (1111, 0.02803860770460222), (1223, 0.02803860770460222), (1317, 0.02803860770460222), (1332, 0.02803860770460222), (1347, 0.02803860770460222), (1367, 0.02803860770460222), (1460, 0.02803860770460222), (1533, 0.02803860770460222), (1656, 0.02803860770460222), (1660, 0.02803860770460222), (2095, 0.02803860770460222), (2111, 0.02803860770460222), (2330, 0.02803860770460222), (2737, 0.02803860770460222), (2824, 0.02803860770460222), (2885, 0.02803860770460222), (2971, 0.02803860770460222), (3379, 0.02803860770460222), (3462, 0.02803860770460222), (3485, 0.02803860770460222), (3531, 0.02803860770460222), (3577, 0.02803860770460222), (3676, 0.02803860770460222), (3957, 0.02803860770460222), (3987, 0.02803860770460222), (4473, 0.02803860770460222), (4555, 0.02803860770460222), (4841, 0.02803860770460222), (4894, 0.02803860770460222), (5108, 0.02803860770460222), (162, 0.02747211278973781), (417, 0.02747211278973781), (685, 0.02747211278973781), (783, 0.02747211278973781), (1588, 0.02747211278973781), (2094, 0.02747211278973781), (2228, 0.02747211278973781), (2261, 0.02747211278973781), (2304, 0.02747211278973781), (2795, 0.02747211278973781), (2840, 0.02747211278973781), (3096, 0.02747211278973781), (3407, 0.02747211278973781), (3530, 0.02747211278973781), (3567, 0.02747211278973781), (3948, 0.02747211278973781), (4130, 0.02747211278973781), (4188, 0.02747211278973781), (4379, 0.02747211278973781), (4466, 0.02747211278973781), (4973, 0.02747211278973781), (5003, 0.02747211278973781), (5048, 0.02747211278973781), (5088, 0.02747211278973781), (5131, 0.02747211278973781), (5431, 0.02747211278973781), (5536, 0.02747211278973781), (889, 0.0270690770647604), (1423, 0.0270690770647604), (1902, 0.0270690770647604), (161, 0.02693862292201827), (487, 0.02693862292201827), (546, 0.02693862292201827), (561, 0.02693862292201827), (616, 0.02693862292201827), (621, 0.02693862292201827), (878, 0.02693862292201827), (936, 0.02693862292201827), (1071, 0.02693862292201827), (1323, 0.02693862292201827), (1392, 0.02693862292201827), (1701, 0.02693862292201827), (2168, 0.02693862292201827), (2225, 0.02693862292201827), (2354, 0.02693862292201827), (2914, 0.02693862292201827), (3087, 0.02693862292201827), (3281, 0.02693862292201827), (3301, 0.02693862292201827), (3312, 0.02693862292201827), (3451, 0.02693862292201827), (3663, 0.02693862292201827), (3666, 0.02693862292201827), (3834, 0.02693862292201827), (3861, 0.02693862292201827), (3917, 0.02693862292201827), (4191, 0.02693862292201827), (4265, 0.02693862292201827), (4883, 0.02693862292201827), (4935, 0.02693862292201827), (5079, 0.02693862292201827), (5165, 0.02693862292201827), (5545, 0.02693862292201827), (5750, 0.02693862292201827), (5756, 0.02693862292201827), (5264, 0.02681003687555546), (3953, 0.026558293865017596), (362, 0.026435052857271473), (880, 0.026435052857271473), (1054, 0.026435052857271473), (1153, 0.026435052857271473), (1198, 0.026435052857271473), (1385, 0.026435052857271473), (1432, 0.026435052857271473), (1677, 0.026435052857271473), (2061, 0.026435052857271473), (2526, 0.026435052857271473), (2594, 0.026435052857271473), (2745, 0.026435052857271473), (3976, 0.026435052857271473), (4345, 0.026435052857271473), (4655, 0.026435052857271473), (4978, 0.026435052857271473), (5001, 0.026435052857271473), (5019, 0.026435052857271473), (5231, 0.026435052857271473), (5301, 0.026435052857271473), (5322, 0.026435052857271473), (5569, 0.026435052857271473), (5626, 0.026435052857271473), (5709, 0.026435052857271473), (2136, 0.026313511740571047), (54, 0.025958706582558253), (951, 0.025958706582558253), (1272, 0.025958706582558253), (1326, 0.025958706582558253), (1718, 0.025958706582558253), (1864, 0.025958706582558253), (2073, 0.025958706582558253), (2087, 0.025958706582558253), (2336, 0.025958706582558253), (2558, 0.025958706582558253), (2639, 0.025958706582558253), (2780, 0.025958706582558253), (2882, 0.025958706582558253), (3348, 0.025958706582558253), (3357, 0.025958706582558253), (3936, 0.025958706582558253), (4008, 0.025958706582558253), (4418, 0.025958706582558253), (4560, 0.025958706582558253), (4646, 0.025958706582558253), (4943, 0.025958706582558253), (5014, 0.025958706582558253), (5196, 0.025958706582558253), (5333, 0.025958706582558253), (5338, 0.025958706582558253), (392, 0.02550721637464237), (533, 0.02550721637464237), (590, 0.02550721637464237), (625, 0.02550721637464237), (1463, 0.02550721637464237), (1474, 0.02550721637464237), (1714, 0.02550721637464237), (1958, 0.02550721637464237), (1967, 0.02550721637464237), (2115, 0.02550721637464237), (2429, 0.02550721637464237), (2455, 0.02550721637464237), (2613, 0.02550721637464237), (2646, 0.02550721637464237), (2684, 0.02550721637464237), (2696, 0.02550721637464237), (2917, 0.02550721637464237), (2965, 0.02550721637464237), (3105, 0.02550721637464237), (3368, 0.02550721637464237), (3412, 0.02550721637464237), (3433, 0.02550721637464237), (3511, 0.02550721637464237), (3827, 0.02550721637464237), (3944, 0.02550721637464237), (4159, 0.02550721637464237), (4520, 0.02550721637464237), (4564, 0.02550721637464237), (4772, 0.02550721637464237), (5036, 0.02550721637464237), (5072, 0.02550721637464237), (5144, 0.02550721637464237), (5296, 0.02550721637464237), (5344, 0.02550721637464237), (5488, 0.02550721637464237), (5525, 0.02550721637464237), (3890, 0.025397977258648646), (323, 0.02507849312877596), (358, 0.02507849312877596), (414, 0.02507849312877596), (1178, 0.02507849312877596), (1573, 0.02507849312877596), (1578, 0.02507849312877596), (2009, 0.02507849312877596), (2056, 0.02507849312877596), (2067, 0.02507849312877596), (2084, 0.02507849312877596), (2153, 0.02507849312877596), (2277, 0.02507849312877596), (2407, 0.02507849312877596), (2540, 0.02507849312877596), (2544, 0.02507849312877596), (2675, 0.02507849312877596), (2712, 0.02507849312877596), (2808, 0.02507849312877596), (2922, 0.02507849312877596), (2939, 0.02507849312877596), (3176, 0.02507849312877596), (3211, 0.02507849312877596), (3705, 0.02507849312877596), (3850, 0.02507849312877596), (4035, 0.02507849312877596), (4084, 0.02507849312877596), (4427, 0.02507849312877596), (4857, 0.02507849312877596), (4980, 0.02507849312877596), (5549, 0.02507849312877596), (5617, 0.02507849312877596), (220, 0.024670685574572422), (484, 0.024670685574572422), (662, 0.024670685574572422), (762, 0.024670685574572422), (853, 0.024670685574572422), (945, 0.024670685574572422), (981, 0.024670685574572422), (1061, 0.024670685574572422), (1601, 0.024670685574572422), (1860, 0.024670685574572422), (1883, 0.024670685574572422), (1948, 0.024670685574572422), (2013, 0.024670685574572422), (2404, 0.024670685574572422), (2660, 0.024670685574572422), (3258, 0.024670685574572422), (3391, 0.024670685574572422), (3416, 0.024670685574572422), (4255, 0.024670685574572422), (4300, 0.024670685574572422), (4644, 0.024670685574572422), (4958, 0.024670685574572422), (5164, 0.024670685574572422), (5181, 0.024670685574572422), (5235, 0.024670685574572422), (5256, 0.024670685574572422), (5720, 0.024670685574572422), (275, 0.024282146558931603), (344, 0.024282146558931603), (348, 0.024282146558931603), (385, 0.024282146558931603), (553, 0.024282146558931603), (1181, 0.024282146558931603), (1260, 0.024282146558931603), (1823, 0.024282146558931603), (2224, 0.024282146558931603), (2568, 0.024282146558931603), (2626, 0.024282146558931603), (2896, 0.024282146558931603), (2910, 0.024282146558931603), (3160, 0.024282146558931603), (3382, 0.024282146558931603), (3716, 0.024282146558931603), (3759, 0.024282146558931603), (3771, 0.024282146558931603), (3988, 0.024282146558931603), (4217, 0.024282146558931603), (4390, 0.024282146558931603), (4902, 0.024282146558931603), (5104, 0.024282146558931603), (5392, 0.024282146558931603), (700, 0.023911404992940522), (1408, 0.023911404992940522), (1754, 0.023911404992940522), (2014, 0.023911404992940522), (2068, 0.023911404992940522), (2274, 0.023911404992940522), (2324, 0.023911404992940522), (2804, 0.023911404992940522), (3109, 0.023911404992940522), (4112, 0.023911404992940522), (4307, 0.023911404992940522), (4489, 0.023911404992940522), (4720, 0.023911404992940522), (5153, 0.023911404992940522), (5255, 0.023911404992940522), (5387, 0.023911404992940522), (5449, 0.023911404992940522), (725, 0.023557142371577276), (1284, 0.023557142371577276), (1467, 0.023557142371577276), (1651, 0.023557142371577276), (1806, 0.023557142371577276), (1887, 0.023557142371577276), (2627, 0.023557142371577276), (2818, 0.023557142371577276), (3048, 0.023557142371577276), (3404, 0.023557142371577276), (3463, 0.023557142371577276), (3570, 0.023557142371577276), (3671, 0.023557142371577276), (3773, 0.023557142371577276), (5218, 0.023557142371577276), (5389, 0.023557142371577276), (236, 0.023218173010628604), (283, 0.023218173010628604), (326, 0.023218173010628604), (810, 0.023218173010628604), (1169, 0.023218173010628604), (1321, 0.023218173010628604), (1550, 0.023218173010628604), (1922, 0.023218173010628604), (2166, 0.023218173010628604), (2549, 0.023218173010628604), (2652, 0.023218173010628604), (2753, 0.023218173010628604), (2924, 0.023218173010628604), (3313, 0.023218173010628604), (3364, 0.023218173010628604), (3525, 0.023218173010628604), (3783, 0.023218173010628604), (4106, 0.023218173010628604), (4755, 0.023218173010628604), (5203, 0.023218173010628604), (5206, 0.023218173010628604), (5424, 0.023218173010628604), (5523, 0.023218173010628604), (5605, 0.023218173010628604), (87, 0.022893427324781505), (843, 0.022893427324781505), (1437, 0.022893427324781505), (1579, 0.022893427324781505), (1954, 0.022893427324781505), (3563, 0.022893427324781505), (3946, 0.022893427324781505), (3958, 0.022893427324781505), (4373, 0.022893427324781505), (4620, 0.022893427324781505), (4912, 0.022893427324781505), (4916, 0.022893427324781505), (5039, 0.022893427324781505), (5295, 0.022893427324781505), (5786, 0.022893427324781505), (303, 0.022581937608857246), (327, 0.022581937608857246), (461, 0.022581937608857246), (817, 0.022581937608857246), (1406, 0.022581937608857246), (1459, 0.022581937608857246), (1554, 0.022581937608857246), (2038, 0.022581937608857246), (2316, 0.022581937608857246), (2529, 0.022581937608857246), (2610, 0.022581937608857246), (2670, 0.022581937608857246), (3597, 0.022581937608857246), (3601, 0.022581937608857246), (4083, 0.022581937608857246), (4627, 0.022581937608857246), (4901, 0.022581937608857246), (5155, 0.022581937608857246), (5284, 0.022581937608857246), (5517, 0.022581937608857246), (265, 0.022282825891079324), (832, 0.022282825891079324), (837, 0.022282825891079324), (955, 0.022282825891079324), (1261, 0.022282825891079324), (1443, 0.022282825891079324), (1915, 0.022282825891079324), (2282, 0.022282825891079324), (2440, 0.022282825891079324), (3315, 0.022282825891079324), (3324, 0.022282825891079324), (3787, 0.022282825891079324), (3908, 0.022282825891079324), (4120, 0.022282825891079324), (4296, 0.022282825891079324), (4807, 0.022282825891079324), (5012, 0.022282825891079324), (5066, 0.022282825891079324), (5172, 0.022282825891079324), (5446, 0.022282825891079324), (5586, 0.022282825891079324), (5614, 0.022282825891079324), (5729, 0.022282825891079324), (295, 0.021995293510729184), (390, 0.021995293510729184), (395, 0.021995293510729184), (427, 0.021995293510729184), (720, 0.021995293510729184), (929, 0.021995293510729184), (1529, 0.021995293510729184), (1655, 0.021995293510729184), (1784, 0.021995293510729184), (1804, 0.021995293510729184), (2413, 0.021995293510729184), (2664, 0.021995293510729184), (2779, 0.021995293510729184), (2794, 0.021995293510729184), (2873, 0.021995293510729184), (3023, 0.021995293510729184), (3045, 0.021995293510729184), (3217, 0.021995293510729184), (3745, 0.021995293510729184), (4578, 0.021995293510729184), (5094, 0.021995293510729184), (5230, 0.021995293510729184), (5662, 0.021995293510729184), (223, 0.02171861213815347), (588, 0.02171861213815347), (606, 0.02171861213815347), (632, 0.02171861213815347), (1033, 0.02171861213815347), (1158, 0.02171861213815347), (1227, 0.02171861213815347), (2137, 0.02171861213815347), (2434, 0.02171861213815347), (2697, 0.02171861213815347), (2793, 0.02171861213815347), (4962, 0.02171861213815347), (5184, 0.02171861213815347), (659, 0.021452116007007208), (737, 0.021452116007007208), (959, 0.021452116007007208), (1448, 0.021452116007007208), (1596, 0.021452116007007208), (2194, 0.021452116007007208), (2371, 0.021452116007007208), (2443, 0.021452116007007208), (2489, 0.021452116007007208), (3605, 0.021452116007007208), (3748, 0.021452116007007208), (4227, 0.021452116007007208), (4812, 0.021452116007007208), (4998, 0.021452116007007208), (5193, 0.021452116007007208), (5209, 0.021452116007007208), (5219, 0.021452116007007208), (5448, 0.021452116007007208), (680, 0.02119519516996487), (765, 0.02119519516996487), (804, 0.02119519516996487), (961, 0.02119519516996487), (1393, 0.02119519516996487), (2241, 0.02119519516996487), (2555, 0.02119519516996487), (3006, 0.02119519516996487), (3353, 0.02119519516996487), (4231, 0.02119519516996487), (4444, 0.02119519516996487), (4802, 0.02119519516996487), (4878, 0.02119519516996487), (5092, 0.02119519516996487), (5403, 0.02119519516996487), (163, 0.020947289622255397), (394, 0.020947289622255397), (634, 0.020947289622255397), (677, 0.020947289622255397), (875, 0.020947289622255397), (1286, 0.020947289622255397), (1293, 0.020947289622255397), (1630, 0.020947289622255397), (2143, 0.020947289622255397), (2432, 0.020947289622255397), (2585, 0.020947289622255397), (2640, 0.020947289622255397), (2775, 0.020947289622255397), (2941, 0.020947289622255397), (3435, 0.020947289622255397), (4038, 0.020947289622255397), (4168, 0.020947289622255397), (4278, 0.020947289622255397), (4350, 0.020947289622255397), (4810, 0.020947289622255397), (4964, 0.020947289622255397), (5192, 0.020947289622255397), (5479, 0.020947289622255397), (1120, 0.020707884164064556), (1499, 0.020707884164064556), (1636, 0.020707884164064556), (1795, 0.020707884164064556), (1832, 0.020707884164064556), (1914, 0.020707884164064556), (2053, 0.020707884164064556), (2198, 0.020707884164064556), (2633, 0.020707884164064556), (3032, 0.020707884164064556), (3249, 0.020707884164064556), (3413, 0.020707884164064556), (4175, 0.020707884164064556), (4404, 0.020707884164064556), (4452, 0.020707884164064556), (5125, 0.020707884164064556), (5266, 0.020707884164064556), (5349, 0.020707884164064556), (580, 0.02047650389446504), (1128, 0.02047650389446504), (1263, 0.02047650389446504), (1395, 0.02047650389446504), (2195, 0.02047650389446504), (2266, 0.02047650389446504), (2287, 0.02047650389446504), (2308, 0.02047650389446504), (2458, 0.02047650389446504), (2461, 0.02047650389446504), (2717, 0.02047650389446504), (2833, 0.02047650389446504), (2919, 0.02047650389446504), (3004, 0.02047650389446504), (3017, 0.02047650389446504), (3061, 0.02047650389446504), (3199, 0.02047650389446504), (4525, 0.02047650389446504), (4569, 0.02047650389446504), (5410, 0.02047650389446504), (4728, 0.02041986062165402), (99, 0.020252710247134553), (566, 0.020252710247134553), (818, 0.020252710247134553), (1316, 0.020252710247134553), (1835, 0.020252710247134553), (1961, 0.020252710247134553), (2259, 0.020252710247134553), (2376, 0.020252710247134553), (2424, 0.020252710247134553), (2704, 0.020252710247134553), (2989, 0.020252710247134553), (3005, 0.020252710247134553), (3640, 0.020252710247134553), (4517, 0.020252710247134553), (4543, 0.020252710247134553), (4634, 0.020252710247134553), (4967, 0.020252710247134553), (399, 0.020036097492521526), (525, 0.020036097492521526), (549, 0.020036097492521526), (1050, 0.020036097492521526), (2486, 0.020036097492521526), (2711, 0.020036097492521526), (2978, 0.020036097492521526), (4089, 0.020036097492521526), (4365, 0.020036097492521526), (1857, 0.019983021644339356), (42, 0.019826289642953607), (57, 0.019826289642953607), (120, 0.019826289642953607), (574, 0.019826289642953607), (655, 0.019826289642953607), (930, 0.019826289642953607), (983, 0.019826289642953607), (2695, 0.019826289642953607), (3194, 0.019826289642953607), (4256, 0.019826289642953607), (4357, 0.019826289642953607), (4387, 0.019826289642953607), (192, 0.019622937706955574), (1492, 0.019622937706955574), (2000, 0.019622937706955574), (2403, 0.019622937706955574), (2621, 0.019622937706955574), (2836, 0.019622937706955574), (4148, 0.019622937706955574), (4584, 0.019622937706955574), (473, 0.019425717247145285), (778, 0.019425717247145285), (991, 0.019425717247145285), (1526, 0.019425717247145285), (1613, 0.019425717247145285), (1930, 0.019425717247145285), (3210, 0.019425717247145285), (3470, 0.019425717247145285), (3807, 0.019425717247145285), (5115, 0.019425717247145285), (345, 0.019234326202820506), (1264, 0.019234326202820506), (2012, 0.019234326202820506), (2202, 0.019234326202820506), (2541, 0.019234326202820506), (2580, 0.019234326202820506), (5147, 0.019234326202820506), (1650, 0.019048482943986485), (1951, 0.019048482943986485), (2497, 0.019048482943986485), (2574, 0.019048482943986485), (2687, 0.019048482943986485), (2987, 0.019048482943986485), (3094, 0.019048482943986485), (3788, 0.019048482943986485), (4187, 0.019048482943986485), (4532, 0.019048482943986485), (454, 0.01886792452830189), (2520, 0.01886792452830189), (3403, 0.01886792452830189), (3438, 0.01886792452830189), (3643, 0.01886792452830189), (297, 0.018692405136401476), (442, 0.018692405136401476), (528, 0.018692405136401476), (735, 0.018692405136401476), (1124, 0.018692405136401476), (1888, 0.018692405136401476), (4494, 0.018692405136401476), (4519, 0.018692405136401476), (4666, 0.018692405136401476), (4688, 0.018692405136401476), (4854, 0.018692405136401476), (432, 0.018521694664415906), (1957, 0.018521694664415906), (5123, 0.018521694664415906), (856, 0.01835557745535881), (1924, 0.01835557745535881), (2734, 0.01835557745535881), (2751, 0.01835557745535881), (2879, 0.01835557745535881), (3232, 0.01835557745535881), (3625, 0.01835557745535881), (3805, 0.01835557745535881), (4514, 0.01835557745535881), (4922, 0.01835557745535881), (5067, 0.01835557745535881), (5418, 0.01835557745535881), (5533, 0.01835557745535881), (1048, 0.018193851153474078), (1748, 0.018193851153474078), (1826, 0.018036325667702163), (2364, 0.018036325667702163), (2374, 0.018036325667702163), (2867, 0.018036325667702163), (3862, 0.018036325667702163), (3943, 0.018036325667702163), (1575, 0.017882822232191644), (2466, 0.017882822232191644), (2606, 0.017882822232191644), (2984, 0.017882822232191644), (3469, 0.017882822232191644), (5246, 0.017882822232191644), (696, 0.017733172553297715), (2960, 0.017733172553297715), (3698, 0.017733172553297715), (4095, 0.017733172553297715), (3167, 0.017587218033813176), (353, 0.017444809066301296), (532, 0.017444809066301296), (3038, 0.017444809066301296), (3148, 0.017444809066301296), (3293, 0.017444809066301296), (375, 0.017305804388372165), (703, 0.017305804388372165), (1735, 0.017305804388372165), (2872, 0.017305804388372165), (3449, 0.017305804388372165), (3603, 0.017305804388372165), (4716, 0.017305804388372165), (5103, 0.017305804388372165), (733, 0.01717007049358613), (1047, 0.01717007049358613), (1503, 0.01717007049358613), (3479, 0.01717007049358613), (2576, 0.01703748109239964), (2738, 0.01703748109239964), (3051, 0.01703748109239964), (4689, 0.01703748109239964), (1561, 0.016907916618206113), (3610, 0.016907916618206113), (3717, 0.016907916618206113), (6, 0.016781263774080072), (1353, 0.016781263774080072), (3749, 0.016781263774080072), (4686, 0.016781263774080072), (949, 0.01665741511631924), (2093, 0.01665741511631924), (3157, 0.01665741511631924), (3706, 0.01665741511631924), (3901, 0.01665741511631924), (4081, 0.01665741511631924), (4113, 0.01665741511631924), (4285, 0.01665741511631924), (1004, 0.016536268671305282), (2561, 0.016536268671305282), (4036, 0.016536268671305282), (517, 0.016417727582577965), (1127, 0.016417727582577965), (3519, 0.016417727582577965), (3555, 0.016417727582577965), (2042, 0.0163016997853468), (4907, 0.016188097705954405), (1737, 0.01596784121555449), (4465, 0.01596784121555449), (4271, 0.015861031714362882), (578, 0.015756337291581362), (1592, 0.015756337291581362), (3592, 0.015653689050413564), (4606, 0.015653689050413564), (4324, 0.015553021195625068), (4780, 0.015553021195625068), (3627, 0.015454270856304542), (1683, 0.015357377920848781), (2468, 0.015168936699355278), (2428, 0.014987266233254519), (2915, 0.014898845011808954), (4301, 0.014898845011808954), (415, 0.014811970539375384), (479, 0.014811970539375384), (542, 0.014726598240177802), (2076, 0.014642685316435568), (4066, 0.014560190658208842), (3184, 0.01447907475876898), (4756, 0.01447907475876898), (4381, 0.01432082875315512), (3071, 0.014167660405476753), (4568, 0.014167660405476753), (2160, 0.013875512319389488), (1422, 0.013805256109376373), (1819, 0.013037687757297065), (5289, 0.012645064867136263), (34, 0.0), (77, 0.0), (128, 0.0), (146, 0.0), (177, 0.0), (201, 0.0), (214, 0.0), (231, 0.0), (250, 0.0), (251, 0.0), (255, 0.0), (269, 0.0), (298, 0.0), (314, 0.0), (317, 0.0), (321, 0.0), (338, 0.0), (347, 0.0), (351, 0.0), (354, 0.0), (367, 0.0), (373, 0.0), (377, 0.0), (378, 0.0), (382, 0.0), (393, 0.0), (401, 0.0), (404, 0.0), (418, 0.0), (429, 0.0), (434, 0.0), (464, 0.0), (489, 0.0), (497, 0.0), (502, 0.0), (506, 0.0), (516, 0.0), (519, 0.0), (520, 0.0), (522, 0.0), (526, 0.0), (527, 0.0), (548, 0.0), (550, 0.0), (554, 0.0), (564, 0.0), (608, 0.0), (619, 0.0), (620, 0.0), (626, 0.0), (628, 0.0), (637, 0.0), (642, 0.0), (667, 0.0), (669, 0.0), (684, 0.0), (689, 0.0), (699, 0.0), (705, 0.0), (707, 0.0), (713, 0.0), (726, 0.0), (738, 0.0), (751, 0.0), (756, 0.0), (763, 0.0), (770, 0.0), (772, 0.0), (775, 0.0), (779, 0.0), (789, 0.0), (795, 0.0), (797, 0.0), (798, 0.0), (819, 0.0), (825, 0.0), (839, 0.0), (849, 0.0), (862, 0.0), (865, 0.0), (885, 0.0), (886, 0.0), (891, 0.0), (892, 0.0), (906, 0.0), (908, 0.0), (909, 0.0), (913, 0.0), (915, 0.0), (926, 0.0), (940, 0.0), (957, 0.0), (966, 0.0), (968, 0.0), (975, 0.0), (990, 0.0), (998, 0.0), (1007, 0.0), (1010, 0.0), (1011, 0.0), (1013, 0.0), (1018, 0.0), (1021, 0.0), (1026, 0.0), (1032, 0.0), (1036, 0.0), (1038, 0.0), (1039, 0.0), (1042, 0.0), (1045, 0.0), (1046, 0.0), (1053, 0.0), (1060, 0.0), (1063, 0.0), (1066, 0.0), (1075, 0.0), (1081, 0.0), (1087, 0.0), (1088, 0.0), (1094, 0.0), (1102, 0.0), (1105, 0.0), (1113, 0.0), (1126, 0.0), (1129, 0.0), (1130, 0.0), (1147, 0.0), (1150, 0.0), (1151, 0.0), (1154, 0.0), (1159, 0.0), (1160, 0.0), (1162, 0.0), (1163, 0.0), (1164, 0.0), (1168, 0.0), (1173, 0.0), (1182, 0.0), (1185, 0.0), (1190, 0.0), (1196, 0.0), (1202, 0.0), (1205, 0.0), (1209, 0.0), (1210, 0.0), (1214, 0.0), (1219, 0.0), (1221, 0.0), (1225, 0.0), (1226, 0.0), (1228, 0.0), (1232, 0.0), (1236, 0.0), (1250, 0.0), (1251, 0.0), (1255, 0.0), (1268, 0.0), (1275, 0.0), (1283, 0.0), (1292, 0.0), (1295, 0.0), (1297, 0.0), (1299, 0.0), (1301, 0.0), (1305, 0.0), (1311, 0.0), (1313, 0.0), (1315, 0.0), (1325, 0.0), (1330, 0.0), (1333, 0.0), (1336, 0.0), (1349, 0.0), (1352, 0.0), (1356, 0.0), (1362, 0.0), (1364, 0.0), (1366, 0.0), (1371, 0.0), (1374, 0.0), (1381, 0.0), (1387, 0.0), (1388, 0.0), (1389, 0.0), (1403, 0.0), (1405, 0.0), (1407, 0.0), (1424, 0.0), (1430, 0.0), (1436, 0.0), (1441, 0.0), (1444, 0.0), (1458, 0.0), (1477, 0.0), (1480, 0.0), (1483, 0.0), (1487, 0.0), (1489, 0.0), (1498, 0.0), (1501, 0.0), (1522, 0.0), (1543, 0.0), (1547, 0.0), (1552, 0.0), (1556, 0.0), (1571, 0.0), (1574, 0.0), (1576, 0.0), (1590, 0.0), (1595, 0.0), (1604, 0.0), (1605, 0.0), (1618, 0.0), (1620, 0.0), (1621, 0.0), (1623, 0.0), (1624, 0.0), (1629, 0.0), (1631, 0.0), (1634, 0.0), (1642, 0.0), (1649, 0.0), (1659, 0.0), (1665, 0.0), (1674, 0.0), (1676, 0.0), (1678, 0.0), (1679, 0.0), (1689, 0.0), (1690, 0.0), (1691, 0.0), (1692, 0.0), (1696, 0.0), (1700, 0.0), (1703, 0.0), (1704, 0.0), (1706, 0.0), (1710, 0.0), (1711, 0.0), (1712, 0.0), (1717, 0.0), (1719, 0.0), (1725, 0.0), (1730, 0.0), (1732, 0.0), (1739, 0.0), (1751, 0.0), (1755, 0.0), (1759, 0.0), (1760, 0.0), (1763, 0.0), (1767, 0.0), (1768, 0.0), (1773, 0.0), (1775, 0.0), (1778, 0.0), (1787, 0.0), (1789, 0.0), (1798, 0.0), (1800, 0.0), (1805, 0.0), (1816, 0.0), (1824, 0.0), (1831, 0.0), (1833, 0.0), (1843, 0.0), (1847, 0.0), (1862, 0.0), (1866, 0.0), (1869, 0.0), (1873, 0.0), (1875, 0.0), (1876, 0.0), (1885, 0.0), (1886, 0.0), (1889, 0.0), (1895, 0.0), (1898, 0.0), (1911, 0.0), (1916, 0.0), (1921, 0.0), (1935, 0.0), (1938, 0.0), (1941, 0.0), (1944, 0.0), (1949, 0.0), (1963, 0.0), (1966, 0.0), (1968, 0.0), (1972, 0.0), (1974, 0.0), (1980, 0.0), (1981, 0.0), (1983, 0.0), (1985, 0.0), (1988, 0.0), (1992, 0.0), (1994, 0.0), (1998, 0.0), (2004, 0.0), (2005, 0.0), (2011, 0.0), (2025, 0.0), (2030, 0.0), (2032, 0.0), (2036, 0.0), (2040, 0.0), (2041, 0.0), (2045, 0.0), (2052, 0.0), (2062, 0.0), (2072, 0.0), (2083, 0.0), (2096, 0.0), (2098, 0.0), (2112, 0.0), (2118, 0.0), (2119, 0.0), (2120, 0.0), (2123, 0.0), (2125, 0.0), (2130, 0.0), (2132, 0.0), (2133, 0.0), (2135, 0.0), (2138, 0.0), (2149, 0.0), (2150, 0.0), (2162, 0.0), (2164, 0.0), (2165, 0.0), (2173, 0.0), (2180, 0.0), (2182, 0.0), (2183, 0.0), (2192, 0.0), (2193, 0.0), (2197, 0.0), (2208, 0.0), (2211, 0.0), (2213, 0.0), (2216, 0.0), (2220, 0.0), (2223, 0.0), (2226, 0.0), (2227, 0.0), (2231, 0.0), (2232, 0.0), (2236, 0.0), (2249, 0.0), (2252, 0.0), (2254, 0.0), (2256, 0.0), (2257, 0.0), (2272, 0.0), (2275, 0.0), (2279, 0.0), (2286, 0.0), (2297, 0.0), (2300, 0.0), (2305, 0.0), (2306, 0.0), (2312, 0.0), (2329, 0.0), (2331, 0.0), (2332, 0.0), (2335, 0.0), (2339, 0.0), (2341, 0.0), (2347, 0.0), (2350, 0.0), (2351, 0.0), (2358, 0.0), (2370, 0.0), (2378, 0.0), (2379, 0.0), (2382, 0.0), (2383, 0.0), (2384, 0.0), (2387, 0.0), (2392, 0.0), (2393, 0.0), (2395, 0.0), (2396, 0.0), (2402, 0.0), (2405, 0.0), (2406, 0.0), (2408, 0.0), (2410, 0.0), (2411, 0.0), (2415, 0.0), (2417, 0.0), (2419, 0.0), (2421, 0.0), (2422, 0.0), (2425, 0.0), (2431, 0.0), (2436, 0.0), (2451, 0.0), (2459, 0.0), (2460, 0.0), (2462, 0.0), (2475, 0.0), (2476, 0.0), (2477, 0.0), (2487, 0.0), (2494, 0.0), (2495, 0.0), (2498, 0.0), (2505, 0.0), (2507, 0.0), (2509, 0.0), (2518, 0.0), (2523, 0.0), (2524, 0.0), (2525, 0.0), (2531, 0.0), (2532, 0.0), (2534, 0.0), (2537, 0.0), (2538, 0.0), (2542, 0.0), (2557, 0.0), (2562, 0.0), (2575, 0.0), (2584, 0.0), (2587, 0.0), (2591, 0.0), (2596, 0.0), (2601, 0.0), (2604, 0.0), (2607, 0.0), (2612, 0.0), (2616, 0.0), (2619, 0.0), (2622, 0.0), (2631, 0.0), (2632, 0.0), (2634, 0.0), (2635, 0.0), (2636, 0.0), (2643, 0.0), (2654, 0.0), (2661, 0.0), (2665, 0.0), (2669, 0.0), (2671, 0.0), (2672, 0.0), (2679, 0.0), (2681, 0.0), (2688, 0.0), (2690, 0.0), (2692, 0.0), (2693, 0.0), (2698, 0.0), (2700, 0.0), (2701, 0.0), (2702, 0.0), (2706, 0.0), (2713, 0.0), (2716, 0.0), (2718, 0.0), (2725, 0.0), (2729, 0.0), (2730, 0.0), (2736, 0.0), (2740, 0.0), (2741, 0.0), (2744, 0.0), (2749, 0.0), (2761, 0.0), (2763, 0.0), (2791, 0.0), (2800, 0.0), (2806, 0.0), (2809, 0.0), (2810, 0.0), (2821, 0.0), (2823, 0.0), (2827, 0.0), (2830, 0.0), (2831, 0.0), (2837, 0.0), (2842, 0.0), (2844, 0.0), (2847, 0.0), (2851, 0.0), (2855, 0.0), (2856, 0.0), (2857, 0.0), (2860, 0.0), (2864, 0.0), (2865, 0.0), (2868, 0.0), (2881, 0.0), (2888, 0.0), (2890, 0.0), (2892, 0.0), (2894, 0.0), (2899, 0.0), (2901, 0.0), (2902, 0.0), (2906, 0.0), (2909, 0.0), (2921, 0.0), (2923, 0.0), (2927, 0.0), (2928, 0.0), (2934, 0.0), (2938, 0.0), (2942, 0.0), (2944, 0.0), (2946, 0.0), (2947, 0.0), (2951, 0.0), (2959, 0.0), (2961, 0.0), (2969, 0.0), (2972, 0.0), (2973, 0.0), (2991, 0.0), (2992, 0.0), (2996, 0.0), (2997, 0.0), (2998, 0.0), (3010, 0.0), (3011, 0.0), (3015, 0.0), (3016, 0.0), (3018, 0.0), (3021, 0.0), (3030, 0.0), (3031, 0.0), (3033, 0.0), (3035, 0.0), (3041, 0.0), (3046, 0.0), (3074, 0.0), (3077, 0.0), (3080, 0.0), (3091, 0.0), (3093, 0.0), (3100, 0.0), (3107, 0.0), (3110, 0.0), (3111, 0.0), (3112, 0.0), (3117, 0.0), (3119, 0.0), (3120, 0.0), (3121, 0.0), (3122, 0.0), (3123, 0.0), (3124, 0.0), (3126, 0.0), (3131, 0.0), (3136, 0.0), (3139, 0.0), (3146, 0.0), (3151, 0.0), (3159, 0.0), (3162, 0.0), (3171, 0.0), (3172, 0.0), (3173, 0.0), (3177, 0.0), (3189, 0.0), (3190, 0.0), (3195, 0.0), (3196, 0.0), (3200, 0.0), (3202, 0.0), (3204, 0.0), (3205, 0.0), (3209, 0.0), (3212, 0.0), (3215, 0.0), (3218, 0.0), (3229, 0.0), (3234, 0.0), (3235, 0.0), (3237, 0.0), (3239, 0.0), (3240, 0.0), (3241, 0.0), (3246, 0.0), (3252, 0.0), (3253, 0.0), (3254, 0.0), (3257, 0.0), (3263, 0.0), (3265, 0.0), (3271, 0.0), (3275, 0.0), (3276, 0.0), (3278, 0.0), (3284, 0.0), (3286, 0.0), (3287, 0.0), (3291, 0.0), (3299, 0.0), (3302, 0.0), (3306, 0.0), (3307, 0.0), (3309, 0.0), (3314, 0.0), (3320, 0.0), (3323, 0.0), (3327, 0.0), (3330, 0.0), (3332, 0.0), (3337, 0.0), (3341, 0.0), (3345, 0.0), (3346, 0.0), (3354, 0.0), (3359, 0.0), (3370, 0.0), (3380, 0.0), (3383, 0.0), (3393, 0.0), (3399, 0.0), (3406, 0.0), (3408, 0.0), (3414, 0.0), (3419, 0.0), (3421, 0.0), (3422, 0.0), (3424, 0.0), (3425, 0.0), (3427, 0.0), (3428, 0.0), (3431, 0.0), (3434, 0.0), (3441, 0.0), (3442, 0.0), (3445, 0.0), (3450, 0.0), (3458, 0.0), (3460, 0.0), (3472, 0.0), (3474, 0.0), (3475, 0.0), (3477, 0.0), (3486, 0.0), (3487, 0.0), (3488, 0.0), (3500, 0.0), (3502, 0.0), (3503, 0.0), (3514, 0.0), (3518, 0.0), (3520, 0.0), (3526, 0.0), (3534, 0.0), (3536, 0.0), (3537, 0.0), (3545, 0.0), (3546, 0.0), (3547, 0.0), (3559, 0.0), (3565, 0.0), (3566, 0.0), (3573, 0.0), (3574, 0.0), (3584, 0.0), (3586, 0.0), (3588, 0.0), (3595, 0.0), (3600, 0.0), (3604, 0.0), (3608, 0.0), (3609, 0.0), (3618, 0.0), (3620, 0.0), (3621, 0.0), (3624, 0.0), (3628, 0.0), (3629, 0.0), (3634, 0.0), (3636, 0.0), (3637, 0.0), (3638, 0.0), (3645, 0.0), (3647, 0.0), (3652, 0.0), (3653, 0.0), (3655, 0.0), (3657, 0.0), (3659, 0.0), (3675, 0.0), (3682, 0.0), (3685, 0.0), (3686, 0.0), (3689, 0.0), (3699, 0.0), (3700, 0.0), (3704, 0.0), (3711, 0.0), (3715, 0.0), (3720, 0.0), (3729, 0.0), (3730, 0.0), (3735, 0.0), (3736, 0.0), (3737, 0.0), (3747, 0.0), (3750, 0.0), (3753, 0.0), (3765, 0.0), (3766, 0.0), (3767, 0.0), (3769, 0.0), (3775, 0.0), (3791, 0.0), (3797, 0.0), (3801, 0.0), (3811, 0.0), (3814, 0.0), (3816, 0.0), (3821, 0.0), (3826, 0.0), (3830, 0.0), (3831, 0.0), (3839, 0.0), (3843, 0.0), (3845, 0.0), (3849, 0.0), (3851, 0.0), (3860, 0.0), (3876, 0.0), (3879, 0.0), (3882, 0.0), (3886, 0.0), (3888, 0.0), (3892, 0.0), (3893, 0.0), (3894, 0.0), (3903, 0.0), (3904, 0.0), (3909, 0.0), (3912, 0.0), (3916, 0.0), (3920, 0.0), (3924, 0.0), (3926, 0.0), (3931, 0.0), (3945, 0.0), (3947, 0.0), (3949, 0.0), (3950, 0.0), (3951, 0.0), (3955, 0.0), (3966, 0.0), (3967, 0.0), (3968, 0.0), (3973, 0.0), (3978, 0.0), (3991, 0.0), (3994, 0.0), (3998, 0.0), (4001, 0.0), (4004, 0.0), (4007, 0.0), (4009, 0.0), (4013, 0.0), (4014, 0.0), (4022, 0.0), (4024, 0.0), (4025, 0.0), (4026, 0.0), (4028, 0.0), (4029, 0.0), (4031, 0.0), (4033, 0.0), (4034, 0.0), (4037, 0.0), (4039, 0.0), (4042, 0.0), (4043, 0.0), (4045, 0.0), (4046, 0.0), (4047, 0.0), (4049, 0.0), (4050, 0.0), (4051, 0.0), (4055, 0.0), (4057, 0.0), (4065, 0.0), (4072, 0.0), (4073, 0.0), (4074, 0.0), (4079, 0.0), (4086, 0.0), (4090, 0.0), (4099, 0.0), (4100, 0.0), (4102, 0.0), (4103, 0.0), (4105, 0.0), (4107, 0.0), (4108, 0.0), (4109, 0.0), (4111, 0.0), (4115, 0.0), (4119, 0.0), (4125, 0.0), (4129, 0.0), (4131, 0.0), (4132, 0.0), (4133, 0.0), (4136, 0.0), (4138, 0.0), (4146, 0.0), (4152, 0.0), (4156, 0.0), (4165, 0.0), (4170, 0.0), (4176, 0.0), (4178, 0.0), (4195, 0.0), (4200, 0.0), (4201, 0.0), (4204, 0.0), (4205, 0.0), (4211, 0.0), (4212, 0.0), (4222, 0.0), (4224, 0.0), (4225, 0.0), (4232, 0.0), (4235, 0.0), (4236, 0.0), (4239, 0.0), (4241, 0.0), (4247, 0.0), (4248, 0.0), (4251, 0.0), (4252, 0.0), (4259, 0.0), (4262, 0.0), (4270, 0.0), (4272, 0.0), (4276, 0.0), (4283, 0.0), (4286, 0.0), (4287, 0.0), (4288, 0.0), (4290, 0.0), (4291, 0.0), (4292, 0.0), (4293, 0.0), (4294, 0.0), (4298, 0.0), (4304, 0.0), (4309, 0.0), (4312, 0.0), (4316, 0.0), (4317, 0.0), (4321, 0.0), (4326, 0.0), (4327, 0.0), (4328, 0.0), (4332, 0.0), (4336, 0.0), (4340, 0.0), (4341, 0.0), (4344, 0.0), (4348, 0.0), (4354, 0.0), (4355, 0.0), (4358, 0.0), (4359, 0.0), (4360, 0.0), (4361, 0.0), (4363, 0.0), (4364, 0.0), (4372, 0.0), (4380, 0.0), (4382, 0.0), (4385, 0.0), (4388, 0.0), (4403, 0.0), (4409, 0.0), (4411, 0.0), (4412, 0.0), (4416, 0.0), (4419, 0.0), (4420, 0.0), (4421, 0.0), (4426, 0.0), (4430, 0.0), (4431, 0.0), (4432, 0.0), (4434, 0.0), (4435, 0.0), (4436, 0.0), (4441, 0.0), (4449, 0.0), (4450, 0.0), (4451, 0.0), (4454, 0.0), (4455, 0.0), (4456, 0.0), (4461, 0.0), (4463, 0.0), (4464, 0.0), (4467, 0.0), (4469, 0.0), (4470, 0.0), (4476, 0.0), (4477, 0.0), (4478, 0.0), (4487, 0.0), (4488, 0.0), (4493, 0.0), (4495, 0.0), (4499, 0.0), (4501, 0.0), (4503, 0.0), (4504, 0.0), (4505, 0.0), (4509, 0.0), (4518, 0.0), (4521, 0.0), (4522, 0.0), (4524, 0.0), (4528, 0.0), (4530, 0.0), (4531, 0.0), (4533, 0.0), (4537, 0.0), (4539, 0.0), (4542, 0.0), (4544, 0.0), (4545, 0.0), (4547, 0.0), (4549, 0.0), (4552, 0.0), (4557, 0.0), (4565, 0.0), (4574, 0.0), (4575, 0.0), (4577, 0.0), (4580, 0.0), (4582, 0.0), (4583, 0.0), (4587, 0.0), (4589, 0.0), (4590, 0.0), (4593, 0.0), (4594, 0.0), (4595, 0.0), (4603, 0.0), (4604, 0.0), (4608, 0.0), (4609, 0.0), (4610, 0.0), (4611, 0.0), (4613, 0.0), (4614, 0.0), (4616, 0.0), (4619, 0.0), (4622, 0.0), (4623, 0.0), (4625, 0.0), (4626, 0.0), (4629, 0.0), (4631, 0.0), (4636, 0.0), (4639, 0.0), (4640, 0.0), (4641, 0.0), (4642, 0.0), (4645, 0.0), (4647, 0.0), (4648, 0.0), (4649, 0.0), (4652, 0.0), (4654, 0.0), (4657, 0.0), (4660, 0.0), (4662, 0.0), (4665, 0.0), (4673, 0.0), (4676, 0.0), (4678, 0.0), (4679, 0.0), (4684, 0.0), (4690, 0.0), (4691, 0.0), (4692, 0.0), (4694, 0.0), (4702, 0.0), (4703, 0.0), (4704, 0.0), (4706, 0.0), (4708, 0.0), (4709, 0.0), (4710, 0.0), (4717, 0.0), (4719, 0.0), (4725, 0.0), (4730, 0.0), (4733, 0.0), (4734, 0.0), (4735, 0.0), (4738, 0.0), (4740, 0.0), (4747, 0.0), (4749, 0.0), (4751, 0.0), (4752, 0.0), (4757, 0.0), (4758, 0.0), (4759, 0.0), (4761, 0.0), (4763, 0.0), (4776, 0.0), (4778, 0.0), (4785, 0.0), (4786, 0.0), (4787, 0.0), (4789, 0.0), (4790, 0.0), (4791, 0.0), (4793, 0.0), (4796, 0.0), (4797, 0.0), (4806, 0.0), (4819, 0.0), (4828, 0.0), (4837, 0.0), (4840, 0.0), (4842, 0.0), (4845, 0.0), (4848, 0.0), (4853, 0.0), (4872, 0.0), (4880, 0.0), (4881, 0.0), (4882, 0.0), (4886, 0.0), (4887, 0.0), (4888, 0.0), (4890, 0.0), (4903, 0.0), (4904, 0.0), (4906, 0.0), (4909, 0.0), (4919, 0.0), (4920, 0.0), (4927, 0.0), (4940, 0.0), (4948, 0.0), (4953, 0.0), (4954, 0.0), (4957, 0.0), (4960, 0.0), (4983, 0.0), (4984, 0.0), (4985, 0.0), (4989, 0.0), (4991, 0.0), (5005, 0.0), (5006, 0.0), (5015, 0.0), (5026, 0.0), (5038, 0.0), (5057, 0.0), (5058, 0.0), (5061, 0.0), (5070, 0.0), (5093, 0.0), (5102, 0.0), (5110, 0.0), (5116, 0.0), (5124, 0.0), (5129, 0.0), (5130, 0.0), (5133, 0.0), (5134, 0.0), (5136, 0.0), (5141, 0.0), (5152, 0.0), (5162, 0.0), (5183, 0.0), (5197, 0.0), (5198, 0.0), (5200, 0.0), (5202, 0.0), (5205, 0.0), (5207, 0.0), (5211, 0.0), (5212, 0.0), (5222, 0.0), (5237, 0.0), (5250, 0.0), (5253, 0.0), (5254, 0.0), (5271, 0.0), (5274, 0.0), (5313, 0.0), (5314, 0.0), (5320, 0.0), (5321, 0.0), (5324, 0.0), (5329, 0.0), (5345, 0.0), (5346, 0.0), (5350, 0.0), (5351, 0.0), (5354, 0.0), (5357, 0.0), (5369, 0.0), (5371, 0.0), (5376, 0.0), (5381, 0.0), (5390, 0.0), (5398, 0.0), (5413, 0.0), (5416, 0.0), (5421, 0.0), (5425, 0.0), (5430, 0.0), (5443, 0.0), (5453, 0.0), (5457, 0.0), (5460, 0.0), (5461, 0.0), (5466, 0.0), (5467, 0.0), (5468, 0.0), (5469, 0.0), (5478, 0.0), (5481, 0.0), (5484, 0.0), (5490, 0.0), (5494, 0.0), (5497, 0.0), (5500, 0.0), (5507, 0.0), (5511, 0.0), (5512, 0.0), (5522, 0.0), (5544, 0.0), (5556, 0.0), (5560, 0.0), (5565, 0.0), (5575, 0.0), (5582, 0.0), (5584, 0.0), (5590, 0.0), (5595, 0.0), (5598, 0.0), (5632, 0.0), (5634, 0.0), (5638, 0.0), (5639, 0.0), (5646, 0.0), (5648, 0.0), (5651, 0.0), (5665, 0.0), (5667, 0.0), (5673, 0.0), (5676, 0.0), (5680, 0.0), (5686, 0.0), (5690, 0.0), (5704, 0.0), (5712, 0.0), (5722, 0.0), (5726, 0.0), (5731, 0.0), (5737, 0.0), (5748, 0.0), (5751, 0.0), (5754, 0.0), (5755, 0.0), (5758, 0.0), (5762, 0.0), (5767, 0.0), (5768, 0.0), (5769, 0.0), (5782, 0.0), (5783, 0.0), (5785, 0.0), (5789, 0.0)]\n",
      "Spider-Man 3\n",
      "Spider-Man\n",
      "The Amazing Spider-Man\n",
      "Spider-Man: Homecoming\n",
      "Iron Man 2\n"
     ]
    }
   ],
   "source": [
    "recommend('Spider-Man 2')"
   ]
  },
  {
   "cell_type": "code",
   "execution_count": 86,
   "metadata": {},
   "outputs": [],
   "source": [
    "import pickle"
   ]
  },
  {
   "cell_type": "code",
   "execution_count": 87,
   "metadata": {},
   "outputs": [],
   "source": [
    "pickle.dump(new_df,open('artifacts/movie_list.pkl','wb'))\n",
    "pickle.dump(similarity,open('artifacts/similarity.pkl','wb'))"
   ]
  },
  {
   "cell_type": "code",
   "execution_count": 88,
   "metadata": {},
   "outputs": [
    {
     "data": {
      "text/html": [
       "<div>\n",
       "<style scoped>\n",
       "    .dataframe tbody tr th:only-of-type {\n",
       "        vertical-align: middle;\n",
       "    }\n",
       "\n",
       "    .dataframe tbody tr th {\n",
       "        vertical-align: top;\n",
       "    }\n",
       "\n",
       "    .dataframe thead th {\n",
       "        text-align: right;\n",
       "    }\n",
       "</style>\n",
       "<table border=\"1\" class=\"dataframe\">\n",
       "  <thead>\n",
       "    <tr style=\"text-align: right;\">\n",
       "      <th></th>\n",
       "      <th>id</th>\n",
       "      <th>title</th>\n",
       "      <th>tags</th>\n",
       "    </tr>\n",
       "  </thead>\n",
       "  <tbody>\n",
       "    <tr>\n",
       "      <th>0</th>\n",
       "      <td>19995</td>\n",
       "      <td>Avatar</td>\n",
       "      <td>in the 22nd century, a parapleg marin is dispa...</td>\n",
       "    </tr>\n",
       "    <tr>\n",
       "      <th>1</th>\n",
       "      <td>285</td>\n",
       "      <td>Pirates of the Caribbean: At World's End</td>\n",
       "      <td>captain barbossa, long believ to be dead, ha c...</td>\n",
       "    </tr>\n",
       "    <tr>\n",
       "      <th>2</th>\n",
       "      <td>206647</td>\n",
       "      <td>Spectre</td>\n",
       "      <td>a cryptic messag from bond’ past send him on a...</td>\n",
       "    </tr>\n",
       "    <tr>\n",
       "      <th>3</th>\n",
       "      <td>49026</td>\n",
       "      <td>The Dark Knight Rises</td>\n",
       "      <td>follow the death of district attorney harvey d...</td>\n",
       "    </tr>\n",
       "    <tr>\n",
       "      <th>4</th>\n",
       "      <td>49529</td>\n",
       "      <td>John Carter</td>\n",
       "      <td>john carter is a war-weary, former militari ca...</td>\n",
       "    </tr>\n",
       "  </tbody>\n",
       "</table>\n",
       "</div>"
      ],
      "text/plain": [
       "       id                                     title  \\\n",
       "0   19995                                    Avatar   \n",
       "1     285  Pirates of the Caribbean: At World's End   \n",
       "2  206647                                   Spectre   \n",
       "3   49026                     The Dark Knight Rises   \n",
       "4   49529                               John Carter   \n",
       "\n",
       "                                                tags  \n",
       "0  in the 22nd century, a parapleg marin is dispa...  \n",
       "1  captain barbossa, long believ to be dead, ha c...  \n",
       "2  a cryptic messag from bond’ past send him on a...  \n",
       "3  follow the death of district attorney harvey d...  \n",
       "4  john carter is a war-weary, former militari ca...  "
      ]
     },
     "execution_count": 88,
     "metadata": {},
     "output_type": "execute_result"
    }
   ],
   "source": [
    "new_df.head()"
   ]
  },
  {
   "cell_type": "code",
   "execution_count": null,
   "metadata": {},
   "outputs": [],
   "source": []
  }
 ],
 "metadata": {
  "kernelspec": {
   "display_name": "ml_env",
   "language": "python",
   "name": "python3"
  },
  "language_info": {
   "codemirror_mode": {
    "name": "ipython",
    "version": 3
   },
   "file_extension": ".py",
   "mimetype": "text/x-python",
   "name": "python",
   "nbconvert_exporter": "python",
   "pygments_lexer": "ipython3",
   "version": "3.12.8"
  }
 },
 "nbformat": 4,
 "nbformat_minor": 4
}
